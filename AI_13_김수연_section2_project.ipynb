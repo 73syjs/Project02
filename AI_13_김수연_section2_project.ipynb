{
  "nbformat": 4,
  "nbformat_minor": 0,
  "metadata": {
    "colab": {
      "name": "AI_13_김수연_section2_project.ipynb",
      "provenance": [],
      "collapsed_sections": []
    },
    "kernelspec": {
      "name": "python3",
      "display_name": "Python 3"
    },
    "language_info": {
      "name": "python"
    }
  },
  "cells": [
    {
      "cell_type": "markdown",
      "source": [
        "# **신용카드 승인이 여부 예측하기**\n",
        "---\n",
        "**문제 정의**  \n",
        "\n",
        "* 최근 카드 가맹점의 수수료 인하 등으로 인해 수익이 줄어든 카드사들이 리볼빙 서비스를 확대하고 있다.  \n",
        " 이로 인해 대출이 늘어나니 연체 또한 같이 증가하는 현상이 발생 되는 실정이다.  \n",
        " 연체 발생 시 고객 관리가 어렵고 회사의 수익성에도 영향을 끼치며, 장기 지속될 경우 신용불량자가 증가하는 사회문제로 이어지게 된다. 이에 고객 정보를 미리 파악하여 연체 가능 여부를 체크하고, 카드 발급 시 심사 오류로 인해 발급 불가능한 고객에 발급이 되지 않도록 예방하자.\n",
        "---\n",
        "**분류 문제**   \n",
        "* 연체 여부 확인을 통해 발급가능 / 불가능을 확인하는 분류 문제로 정의된다.\n",
        "---\n",
        "**가설 설정**   \n",
        "* 나이는 신용카드 연체 여부에 연관성이 있다.  \n",
        "  : 실제로 연체가 가장 잦은 나이는 25세라는 조사 결과가 있어서 확인하고자 한다.  \n",
        "---\n",
        "**처리 순서**  \n",
        "\n",
        "1. 데이터셋 불러오기\n",
        "2. EDA 및 Feature engineering\n",
        " 1) 결측치 확인 및 제거  \n",
        " 2) 중복값 확인 및 제거  \n",
        " 3) Feature Engineering   \n",
        " 4) 이상치 확인 및 제거  \n",
        " 5) Target 값 선정  \n",
        " 6) Data 분포 확인\n",
        "6. 가설 검증\n",
        "7. 모델링  \n",
        " 1) 기준모델  \n",
        " 2) 가중치를 준 뒤 모델링  \n",
        " 3) 오버샘플링 후 모델링    \n",
        " 4) 최종모델 선택  \n",
        " 5) 특성중요도\n",
        "8. 최종 결론  \n",
        " 1) 가설 해결  \n",
        " 2) 최종 모델 \n",
        "---"
      ],
      "metadata": {
        "id": "YLJfKlCS9HM4"
      }
    },
    {
      "cell_type": "code",
      "source": [
        "pip install category_encoders\n",
        "pip install pdpbox\n",
        "pip install shap\n",
        "pip install eli5"
      ],
      "metadata": {
        "id": "h7Dt3u36arTg"
      },
      "execution_count": null,
      "outputs": []
    },
    {
      "cell_type": "code",
      "source": [
        "import pandas as pd\n",
        "import numpy as np\n",
        "import matplotlib.pyplot as plt\n",
        "import seaborn as sns\n",
        "from matplotlib import rcParams\n",
        "from category_encoders import OrdinalEncoder\n",
        "from scipy.stats import chi2_contingency\n",
        "from sklearn.model_selection import train_test_split, RandomizedSearchCV\n",
        "from sklearn.impute import SimpleImputer\n",
        "from sklearn.linear_model import LogisticRegression\n",
        "from sklearn.tree import DecisionTreeClassifier\n",
        "from sklearn.ensemble import RandomForestClassifier\n",
        "from sklearn.pipeline import make_pipeline, Pipeline\n",
        "from sklearn.preprocessing import StandardScaler\n",
        "from sklearn import preprocessing\n",
        "from sklearn.metrics import plot_confusion_matrix, classification_report, accuracy_score, f1_score, recall_score, precision_score\n",
        "import eli5\n",
        "from eli5.sklearn import PermutationImportance\n",
        "from xgboost import XGBClassifier\n",
        "from scipy.stats import randint\n",
        "from lightgbm import LGBMClassifier\n",
        "from imblearn.over_sampling import ADASYN\n",
        "from pdpbox.pdp import pdp_isolate, pdp_plot, pdp_interact, pdp_interact_plot\n",
        "import shap"
      ],
      "metadata": {
        "id": "p7XoX-1MKMdG",
        "colab": {
          "base_uri": "https://localhost:8080/"
        },
        "outputId": "10290687-e3cb-4f6b-e1be-5cfa00a64fa2"
      },
      "execution_count": 1,
      "outputs": [
        {
          "output_type": "stream",
          "name": "stderr",
          "text": [
            "/usr/local/lib/python3.7/dist-packages/statsmodels/tools/_testing.py:19: FutureWarning: pandas.util.testing is deprecated. Use the functions in the public API at pandas.testing instead.\n",
            "  import pandas.util.testing as tm\n"
          ]
        }
      ]
    },
    {
      "cell_type": "markdown",
      "source": [
        "# 데이터 불러오기"
      ],
      "metadata": {
        "id": "Pp5YdhxeKmQl"
      }
    },
    {
      "cell_type": "code",
      "source": [
        "from google.colab import drive\n",
        "drive.mount('/content/drive')\n",
        "\n",
        "application = pd.read_csv('/content/drive/MyDrive/Python/application_record.csv')\n",
        "credit = pd.read_csv('/content/drive/MyDrive/Python/credit_record.csv')"
      ],
      "metadata": {
        "colab": {
          "base_uri": "https://localhost:8080/"
        },
        "id": "3qi-0-iLKlD_",
        "outputId": "f8457b54-4864-475d-dcac-2df95541ed0f"
      },
      "execution_count": 2,
      "outputs": [
        {
          "output_type": "stream",
          "name": "stdout",
          "text": [
            "Drive already mounted at /content/drive; to attempt to forcibly remount, call drive.mount(\"/content/drive\", force_remount=True).\n"
          ]
        }
      ]
    },
    {
      "cell_type": "markdown",
      "source": [
        "---\n",
        "### 데이터 파악하기\n",
        "---\n",
        "## application set columns\n",
        "\n",
        "ID : 고객번호  \n",
        "\n",
        "CODE_GENDER\t: 성별  \n",
        "\n",
        "FLAG_OWN_CAR : 차 소유 여부\n",
        "\n",
        "FLAG_OWN_REALTY\t: 집 소유 여부\n",
        "\n",
        "CNT_CHILDREN : 자녀의 수\t\n",
        "\n",
        "AMT_INCOME_TOTAL : 연간 소득\n",
        "\n",
        "NAME_INCOME_TYPE : 소득 카테고리\t\n",
        "\n",
        "NAME_EDUCATION_TYPE\t: 교육 수준\t\n",
        "\n",
        "NAME_FAMILY_STATUS :\t결혼 여부\t\n",
        "\n",
        "NAME_HOUSING_TYPE : 살아가는 방법\n",
        "\n",
        "DAYS_BIRTH : 생일\t현재 날짜(0)에서 거꾸로 계산.  -1은 어제를 의미\n",
        "\n",
        "DAYS_EMPLOYED : 고용 시작일\t현재 날짜(0)부터 거꾸로 계산.  양성이면 현재 실직 중\n",
        "\n",
        "FLAG_MOBIL : 휴대 전화 보유 여부\n",
        "\n",
        "FLAG_WORK_PHONE : 직장 전화 보유 여부\n",
        "\n",
        "FLAG_PHONE : 전화 보유 여부\n",
        "\n",
        "FLAG_EMAIL : 이메일이 보유 여부\n",
        "\n",
        "OCCUPATION_TYPE : 직업\t\n",
        "\n",
        "CNT_FAM_MEMBERS\t: 가족 수\n",
        "\n",
        "---\n",
        "\n",
        "## credit set columns\n",
        "\n",
        "ID : 고객 번호  \n",
        "\n",
        "MONTHS_BALANCE : 기록월 ( 추출된 데이터의 월은 시작점. 역순으로 0은 현재 월, -1은 이전 월)  \n",
        "\n",
        "STATUS : 현재 상태  \n",
        "(0: 1-29일 연체  \n",
        " 1: 30-59일 연체  \n",
        " 2: 60-89일 연체  \n",
        " 3: 90-119일 연체  \n",
        " 4: 연체 120-149일  \n",
        " 5: 연체 또는 불량 부채, 상각 150일  \n",
        " C: 해당 월 상환  \n",
        " X: 해당 월 대출 없음)\n",
        "\n",
        " ---"
      ],
      "metadata": {
        "id": "YIztZ3goLoAq"
      }
    },
    {
      "cell_type": "code",
      "source": [
        "application.info()"
      ],
      "metadata": {
        "colab": {
          "base_uri": "https://localhost:8080/"
        },
        "id": "2z_jZWR4LnTV",
        "outputId": "5b5f014f-6580-4c8b-f10c-4ab1b7216f6f"
      },
      "execution_count": 3,
      "outputs": [
        {
          "output_type": "stream",
          "name": "stdout",
          "text": [
            "<class 'pandas.core.frame.DataFrame'>\n",
            "RangeIndex: 438557 entries, 0 to 438556\n",
            "Data columns (total 18 columns):\n",
            " #   Column               Non-Null Count   Dtype  \n",
            "---  ------               --------------   -----  \n",
            " 0   ID                   438557 non-null  int64  \n",
            " 1   CODE_GENDER          438557 non-null  object \n",
            " 2   FLAG_OWN_CAR         438557 non-null  object \n",
            " 3   FLAG_OWN_REALTY      438557 non-null  object \n",
            " 4   CNT_CHILDREN         438557 non-null  int64  \n",
            " 5   AMT_INCOME_TOTAL     438557 non-null  float64\n",
            " 6   NAME_INCOME_TYPE     438557 non-null  object \n",
            " 7   NAME_EDUCATION_TYPE  438557 non-null  object \n",
            " 8   NAME_FAMILY_STATUS   438557 non-null  object \n",
            " 9   NAME_HOUSING_TYPE    438557 non-null  object \n",
            " 10  DAYS_BIRTH           438557 non-null  int64  \n",
            " 11  DAYS_EMPLOYED        438557 non-null  int64  \n",
            " 12  FLAG_MOBIL           438557 non-null  int64  \n",
            " 13  FLAG_WORK_PHONE      438557 non-null  int64  \n",
            " 14  FLAG_PHONE           438557 non-null  int64  \n",
            " 15  FLAG_EMAIL           438557 non-null  int64  \n",
            " 16  OCCUPATION_TYPE      304354 non-null  object \n",
            " 17  CNT_FAM_MEMBERS      438557 non-null  float64\n",
            "dtypes: float64(2), int64(8), object(8)\n",
            "memory usage: 60.2+ MB\n"
          ]
        }
      ]
    },
    {
      "cell_type": "code",
      "source": [
        "credit.info()"
      ],
      "metadata": {
        "colab": {
          "base_uri": "https://localhost:8080/"
        },
        "id": "esY4ClmqLw4W",
        "outputId": "ce4571a7-cca1-4f6e-ef78-abb6a3fef393"
      },
      "execution_count": 4,
      "outputs": [
        {
          "output_type": "stream",
          "name": "stdout",
          "text": [
            "<class 'pandas.core.frame.DataFrame'>\n",
            "RangeIndex: 1048575 entries, 0 to 1048574\n",
            "Data columns (total 3 columns):\n",
            " #   Column          Non-Null Count    Dtype \n",
            "---  ------          --------------    ----- \n",
            " 0   ID              1048575 non-null  int64 \n",
            " 1   MONTHS_BALANCE  1048575 non-null  int64 \n",
            " 2   STATUS          1048575 non-null  object\n",
            "dtypes: int64(2), object(1)\n",
            "memory usage: 24.0+ MB\n"
          ]
        }
      ]
    },
    {
      "cell_type": "code",
      "source": [
        "application.nunique()\n",
        "\n",
        "# MOBIL 은 전체가 같은 값을 가지기 때문에 데이터에 큰 영향을 주지 않을 듯 하다. 삭제해야겠음"
      ],
      "metadata": {
        "colab": {
          "base_uri": "https://localhost:8080/"
        },
        "id": "w-Q0G3Mp1PSz",
        "outputId": "82b4daa3-739c-4c4a-c7de-94ead246e80f"
      },
      "execution_count": 5,
      "outputs": [
        {
          "output_type": "execute_result",
          "data": {
            "text/plain": [
              "ID                     438510\n",
              "CODE_GENDER                 2\n",
              "FLAG_OWN_CAR                2\n",
              "FLAG_OWN_REALTY             2\n",
              "CNT_CHILDREN               12\n",
              "AMT_INCOME_TOTAL          866\n",
              "NAME_INCOME_TYPE            5\n",
              "NAME_EDUCATION_TYPE         5\n",
              "NAME_FAMILY_STATUS          5\n",
              "NAME_HOUSING_TYPE           6\n",
              "DAYS_BIRTH              16379\n",
              "DAYS_EMPLOYED            9406\n",
              "FLAG_MOBIL                  1\n",
              "FLAG_WORK_PHONE             2\n",
              "FLAG_PHONE                  2\n",
              "FLAG_EMAIL                  2\n",
              "OCCUPATION_TYPE            18\n",
              "CNT_FAM_MEMBERS            13\n",
              "dtype: int64"
            ]
          },
          "metadata": {},
          "execution_count": 5
        }
      ]
    },
    {
      "cell_type": "code",
      "source": [
        "credit.nunique()"
      ],
      "metadata": {
        "colab": {
          "base_uri": "https://localhost:8080/"
        },
        "id": "EyGQte5F1Q0c",
        "outputId": "1439734a-a3d0-4a8f-b531-fbfc06bbd74d"
      },
      "execution_count": 6,
      "outputs": [
        {
          "output_type": "execute_result",
          "data": {
            "text/plain": [
              "ID                45985\n",
              "MONTHS_BALANCE       61\n",
              "STATUS                8\n",
              "dtype: int64"
            ]
          },
          "metadata": {},
          "execution_count": 6
        }
      ]
    },
    {
      "cell_type": "code",
      "source": [
        "application.shape, credit.shape"
      ],
      "metadata": {
        "colab": {
          "base_uri": "https://localhost:8080/"
        },
        "id": "cc-iDesdMldX",
        "outputId": "8e23ed6f-42b0-41c2-8f5f-0a0e05eec166"
      },
      "execution_count": 7,
      "outputs": [
        {
          "output_type": "execute_result",
          "data": {
            "text/plain": [
              "((438557, 18), (1048575, 3))"
            ]
          },
          "metadata": {},
          "execution_count": 7
        }
      ]
    },
    {
      "cell_type": "markdown",
      "source": [
        "---\n",
        "# EDA 및 Preprocessing\n",
        "## 결측치 확인 및 제거"
      ],
      "metadata": {
        "id": "biTLosxkL3qU"
      }
    },
    {
      "cell_type": "code",
      "source": [
        "application.isnull().sum()  # 결측치가 직업 부분에만 존재함"
      ],
      "metadata": {
        "colab": {
          "base_uri": "https://localhost:8080/"
        },
        "id": "JOkOg0RlPMqh",
        "outputId": "a4bef13c-52e8-4756-987b-2eb943ba14e1"
      },
      "execution_count": 8,
      "outputs": [
        {
          "output_type": "execute_result",
          "data": {
            "text/plain": [
              "ID                          0\n",
              "CODE_GENDER                 0\n",
              "FLAG_OWN_CAR                0\n",
              "FLAG_OWN_REALTY             0\n",
              "CNT_CHILDREN                0\n",
              "AMT_INCOME_TOTAL            0\n",
              "NAME_INCOME_TYPE            0\n",
              "NAME_EDUCATION_TYPE         0\n",
              "NAME_FAMILY_STATUS          0\n",
              "NAME_HOUSING_TYPE           0\n",
              "DAYS_BIRTH                  0\n",
              "DAYS_EMPLOYED               0\n",
              "FLAG_MOBIL                  0\n",
              "FLAG_WORK_PHONE             0\n",
              "FLAG_PHONE                  0\n",
              "FLAG_EMAIL                  0\n",
              "OCCUPATION_TYPE        134203\n",
              "CNT_FAM_MEMBERS             0\n",
              "dtype: int64"
            ]
          },
          "metadata": {},
          "execution_count": 8
        }
      ]
    },
    {
      "cell_type": "code",
      "source": [
        "# 결측치 -> Unknown\n",
        "application['OCCUPATION_TYPE'].fillna('Unknown', inplace=True)\n",
        "\n",
        "# 결측치가 Unknown 으로 잘 처리된 것 확인\n",
        "application['OCCUPATION_TYPE'].value_counts()"
      ],
      "metadata": {
        "colab": {
          "base_uri": "https://localhost:8080/"
        },
        "id": "Z1T03V6HP3pp",
        "outputId": "ea30c711-6ee0-4cda-c61b-b4d621227dcf"
      },
      "execution_count": 9,
      "outputs": [
        {
          "output_type": "execute_result",
          "data": {
            "text/plain": [
              "Unknown                  134203\n",
              "Laborers                  78240\n",
              "Core staff                43007\n",
              "Sales staff               41098\n",
              "Managers                  35487\n",
              "Drivers                   26090\n",
              "High skill tech staff     17289\n",
              "Accountants               15985\n",
              "Medicine staff            13520\n",
              "Cooking staff              8076\n",
              "Security staff             7993\n",
              "Cleaning staff             5845\n",
              "Private service staff      3456\n",
              "Low-skill Laborers         2140\n",
              "Secretaries                2044\n",
              "Waiters/barmen staff       1665\n",
              "Realty agents              1041\n",
              "HR staff                    774\n",
              "IT staff                    604\n",
              "Name: OCCUPATION_TYPE, dtype: int64"
            ]
          },
          "metadata": {},
          "execution_count": 9
        }
      ]
    },
    {
      "cell_type": "code",
      "source": [
        "credit.isnull().sum()    # 결측치 없음"
      ],
      "metadata": {
        "colab": {
          "base_uri": "https://localhost:8080/"
        },
        "id": "maZot3YqP_E4",
        "outputId": "6a24b37d-bd04-4194-8bba-83170ef7bbce"
      },
      "execution_count": 10,
      "outputs": [
        {
          "output_type": "execute_result",
          "data": {
            "text/plain": [
              "ID                0\n",
              "MONTHS_BALANCE    0\n",
              "STATUS            0\n",
              "dtype: int64"
            ]
          },
          "metadata": {},
          "execution_count": 10
        }
      ]
    },
    {
      "cell_type": "markdown",
      "source": [
        "---\n",
        "## 중복값 확인 및 제거"
      ],
      "metadata": {
        "id": "5lxGCGFcQhKe"
      }
    },
    {
      "cell_type": "code",
      "source": [
        "application.duplicated().sum(), credit.duplicated().sum()   # 중복 데이터 없음"
      ],
      "metadata": {
        "colab": {
          "base_uri": "https://localhost:8080/"
        },
        "id": "auhbRnCGQbM_",
        "outputId": "3c9604d4-a741-4b09-ef00-fb2efe8567d2"
      },
      "execution_count": 11,
      "outputs": [
        {
          "output_type": "execute_result",
          "data": {
            "text/plain": [
              "(0, 0)"
            ]
          },
          "metadata": {},
          "execution_count": 11
        }
      ]
    },
    {
      "cell_type": "markdown",
      "source": [
        "---\n",
        "## Feature Engineering\n",
        "[application]\n",
        "* AMT_INCOME_TOTAL, CNT_FAM_MEMBERS  : float -> int  \n",
        "* DAYS_BIRTH, DAYS_EMPLOYED : DAY 기준에서 YEAR로 변경. (-)계산 값을 (+)로 변경  \n",
        "* 다른 컬럼은 Y=1, N=0로 표현 되어 있는데, FLAG_OWN_CAR,\tFLAG_OWN_REALITY는 Y / N 인 상태라 1 / 0으로 통일  \n",
        "* FLAG_MOBIL 컬럼 삭제\n",
        "* NAME_INCOME_TYPE 의 ['Working', 'Commercial associate', 'Pensioner', 'State servant','Student'] value 중 'Commercial associate', 'State servant'는 Working와 동일하므로 변경"
      ],
      "metadata": {
        "id": "w2Ru5veaRL3f"
      }
    },
    {
      "cell_type": "code",
      "source": [
        "#float -> int \n",
        "application[['AMT_INCOME_TOTAL', 'CNT_FAM_MEMBERS']] = application[['AMT_INCOME_TOTAL', 'CNT_FAM_MEMBERS']].astype(int)\n",
        "\n",
        "# DAYS_EMPLOYED 값 중 0보다 큰 값(퇴직자)는 모두 0으로 변경\n",
        "application['DAYS_EMPLOYED'] = application['DAYS_EMPLOYED'].apply(lambda x : 0 if (x > 0) else x)\n",
        "\n",
        "# (-) -> (+)로, DAY 기준을 YEAR로 변경\n",
        "application[['DAYS_BIRTH', 'DAYS_EMPLOYED']] = ((application[['DAYS_BIRTH', 'DAYS_EMPLOYED']] * -1) / 365).astype(int)\n",
        "\n",
        "# Y / N -> 1 / 0으로 통일 \n",
        "application['FLAG_OWN_CAR'] = application['FLAG_OWN_CAR'].apply(lambda x : 1 if (x == 'Y') else 0)\n",
        "application['FLAG_OWN_REALTY'] = application['FLAG_OWN_REALTY'].apply(lambda x : 1 if (x == 'Y') else 0)\n",
        "\n",
        "# F / M -> 1 / 0으로 통일 \n",
        "application['CODE_GENDER'] = application['CODE_GENDER'].apply(lambda x : 1 if (x == 'F') else 0)\n",
        "\n",
        "# FLAG_MOBIL 컬럼 삭제\n",
        "application.drop(columns=['FLAG_MOBIL'], inplace=True)\n",
        "\n",
        "# Commercial associate', 'State servant' -> Working\n",
        "application['NAME_INCOME_TYPE'] = application['NAME_INCOME_TYPE'].\\\n",
        "                                replace('Commercial associate', 'Working').replace('State servant', 'Working')"
      ],
      "metadata": {
        "id": "OxeExbaNn27u"
      },
      "execution_count": 12,
      "outputs": []
    },
    {
      "cell_type": "markdown",
      "source": [
        "\n",
        "[credit set columns]\n",
        "* MONTHS_BALANCE : (-)계산 값을 (+)로 변경"
      ],
      "metadata": {
        "id": "NR67uhAXn5Te"
      }
    },
    {
      "cell_type": "code",
      "source": [
        "credit['MONTHS_BALANCE'] = credit['MONTHS_BALANCE'] * -1"
      ],
      "metadata": {
        "id": "PKjTI816n50V"
      },
      "execution_count": 13,
      "outputs": []
    },
    {
      "cell_type": "markdown",
      "source": [
        "#### column 명 변경"
      ],
      "metadata": {
        "id": "9HLXdlm_aAjo"
      }
    },
    {
      "cell_type": "code",
      "source": [
        "application.columns = ['ID', 'GENDER', 'OWN_CAR', 'OWN_REALITY', 'CHILDREN_COUNT', 'TOTAL_INCOME',\n",
        "                       'INCOME_TYPE', 'EDUCATION', 'FAMILY_STATUS', 'HOUSING_TYPE', 'AGE',\n",
        "                       'WORKING_YEAR', 'WORK_PHONE', 'PHONE', 'EMAIL', 'OCCUPATION', 'FAM_MEMBERS']"
      ],
      "metadata": {
        "id": "M64ROUj2TxGP"
      },
      "execution_count": 14,
      "outputs": []
    },
    {
      "cell_type": "markdown",
      "source": [
        "---\n",
        "## 이상치 확인 및 제거"
      ],
      "metadata": {
        "id": "OHa0tcfdb-zo"
      }
    },
    {
      "cell_type": "code",
      "source": [
        "fig, axs = plt.subplots(2,2, figsize=(10,10))      \n",
        "\n",
        "axs[0,0].boxplot(application['FAM_MEMBERS'])\n",
        "axs[0,0].set(xlabel='FAM_MEMBERS')\n",
        "axs[0,1].boxplot(application['TOTAL_INCOME'])\n",
        "axs[0,1].set(xlabel='TOTAL_INCOME')\n",
        "axs[1,0].boxplot(application['WORKING_YEAR'])\n",
        "axs[1,0].set(xlabel='WORKING_YEAR')\n",
        "axs[1,1].boxplot(application['AGE']);\n",
        "axs[1,1].set(xlabel='AGE')"
      ],
      "metadata": {
        "colab": {
          "base_uri": "https://localhost:8080/",
          "height": 626
        },
        "id": "m53c_oUBRnBk",
        "outputId": "0b75fef4-1614-45b7-c3b2-3c2b66ab2172"
      },
      "execution_count": 15,
      "outputs": [
        {
          "output_type": "execute_result",
          "data": {
            "text/plain": [
              "[Text(0.5, 0, 'AGE')]"
            ]
          },
          "metadata": {},
          "execution_count": 15
        },
        {
          "output_type": "display_data",
          "data": {
            "text/plain": [
              "<Figure size 720x720 with 4 Axes>"
            ],
            "image/png": "[encoded data removed]"
          },
          "metadata": {
            "needs_background": "light"
          }
        }
      ]
    },
    {
      "cell_type": "code",
      "source": [
        "# 3개 컬럼에 대해 99% 값만 사용\n",
        "application = application[\n",
        "    (application['FAM_MEMBERS'] <= np.percentile(application['FAM_MEMBERS'], 95))]\n",
        "application = application[\n",
        "    (application['TOTAL_INCOME'] <= np.percentile(application['TOTAL_INCOME'], 95))]\n",
        "application = application[\n",
        "    (application['WORKING_YEAR'] <= np.percentile(application['WORKING_YEAR'], 95))]"
      ],
      "metadata": {
        "id": "wGgnMQqV7cfE"
      },
      "execution_count": 16,
      "outputs": []
    },
    {
      "cell_type": "markdown",
      "source": [
        "---\n",
        "## Target 값 선정\n",
        " * 연체가 있으면 1로 승인 불가, 연체가 없으면 0으로 승인 가능하게 처리  \n",
        " (X, C = 0, 나머지는 1)"
      ],
      "metadata": {
        "id": "1S3tAGKKE2vV"
      }
    },
    {
      "cell_type": "code",
      "source": [
        "# 연체가 없는 'C', 'X'는 'N'로  연체가 있는 나머지 값은 'Y'로 변경\n",
        "credit['STATUS'] = credit['STATUS'].apply(lambda x: 'N' if x == 'X' else ('N' if x == 'C' else 'Y'))\n",
        "\n",
        "# OVERDUE 컬럼 만들어서 연체가 있으면 1로 변경. 없으면 None\n",
        "credit['OVERDUE'] = None\n",
        "credit['OVERDUE'][credit['STATUS'] == 'Y'] = 1\n",
        "\n",
        "# ID로 그룹화 한 뒤 count ==> 연체가 있으면 값이 > 0, 없으면 = 0\n",
        "# 결국 현재 하나라도 연체가 있는 ID는 1로, 연체가 없는 ID는 0으로 표현\n",
        "credit = credit.groupby('ID').count()\n",
        "credit['OVERDUE'][credit['OVERDUE'] > 0] = 1"
      ],
      "metadata": {
        "id": "ZShSzPOZE2Dk"
      },
      "execution_count": 17,
      "outputs": []
    },
    {
      "cell_type": "code",
      "source": [
        "credit.drop(columns=['STATUS'], inplace=True)\n",
        "credit.columns = ['USE_MONTH', 'OVERDUE']\n",
        "credit['OVERDUE'].value_counts()"
      ],
      "metadata": {
        "colab": {
          "base_uri": "https://localhost:8080/"
        },
        "id": "DeKzRQVvyMpg",
        "outputId": "f426ba7f-381c-4b08-e413-b391071f5229"
      },
      "execution_count": 18,
      "outputs": [
        {
          "output_type": "execute_result",
          "data": {
            "text/plain": [
              "1    40032\n",
              "0     5953\n",
              "Name: OVERDUE, dtype: int64"
            ]
          },
          "metadata": {},
          "execution_count": 18
        }
      ]
    },
    {
      "cell_type": "markdown",
      "source": [
        "---\n",
        "### clean data에 대해 각 cloumn 별 분포 확인"
      ],
      "metadata": {
        "id": "22yFVJUz2tqB"
      }
    },
    {
      "cell_type": "code",
      "source": [
        "# 데이터 MERGE\n",
        "df = pd.merge(application, credit, on='ID', how='inner')\n",
        "#df.shape (36457*19)"
      ],
      "metadata": {
        "id": "sodstP0B4e3b"
      },
      "execution_count": 19,
      "outputs": []
    },
    {
      "cell_type": "markdown",
      "source": [
        "1) Target = OVERDUE 의 분포\n",
        "- 불균형한 데이터이기 때문에 모델링 할 때 유의해야함."
      ],
      "metadata": {
        "id": "Wk5hzC5x4WQV"
      }
    },
    {
      "cell_type": "code",
      "source": [
        "# Target value 시각화\n",
        "ratio = df['OVERDUE'].value_counts(normalize=True)*100\n",
        "\n",
        "ratio_ = [ratio[1], ratio[0]]\n",
        "labels = ['YES', 'NO']\n",
        "explode = [0, 0.1]\n",
        "plt.pie(ratio_, labels=labels, autopct='%.1f%%', explode=explode,\n",
        "       shadow=True, colors=['#ff9999', '#8fd9b6'])\n",
        "plt.title('target [Overdue] percent', fontsize=15);"
      ],
      "metadata": {
        "colab": {
          "base_uri": "https://localhost:8080/",
          "height": 266
        },
        "id": "P6EQKOYj3hHp",
        "outputId": "a30c3c3a-37c0-44d3-c478-bfbb90a512a3"
      },
      "execution_count": 20,
      "outputs": [
        {
          "output_type": "display_data",
          "data": {
            "text/plain": [
              "<Figure size 432x288 with 1 Axes>"
            ],
            "image/png": "[encoded data removed]"
          },
          "metadata": {}
        }
      ]
    },
    {
      "cell_type": "markdown",
      "source": [
        "2) GENDER / OWN_CAR / OWN_REALITY"
      ],
      "metadata": {
        "id": "L8BBf5lzTE7c"
      }
    },
    {
      "cell_type": "code",
      "source": [
        "fig, axes = plt.subplots(1,3, figsize=(15,10))\n",
        "\n",
        "\n",
        "pie1 = df['GENDER'].value_counts().plot.pie(explode=explode, autopct='%.1f%%', ax=axes[0],\n",
        "                                            shadow=True, colors=['#77C4A8', '#DC5B57'], labels = ['FEMALE', 'MALE'])\n",
        "pie1.set_title('Distribution of Gender', fontsize=12)\n",
        "\n",
        "pie2 = df['OWN_CAR'].value_counts().plot.pie(explode=explode, autopct='%.1f%%', ax=axes[1],\n",
        "                                            shadow=True, colors=['#ffc000', '#d395d0'], labels = ['NO', 'YES'])\n",
        "pie2.set_title('Distribution of Own_car', fontsize=12)\n",
        "\n",
        "pie3 = df['OWN_REALITY'].value_counts().plot.pie(explode=explode, autopct='%.1f%%', ax=axes[2],\n",
        "                                            shadow=True, colors=['#8BC7F7', '#FF985E'], labels = ['YES', 'NO'])\n",
        "pie3.set_title('Distribution of Own_reality', fontsize=12);"
      ],
      "metadata": {
        "colab": {
          "base_uri": "https://localhost:8080/",
          "height": 293
        },
        "id": "ta1GufRHTHmD",
        "outputId": "ed7b183a-960a-4dd2-9238-e6a1e391ad51"
      },
      "execution_count": 21,
      "outputs": [
        {
          "output_type": "display_data",
          "data": {
            "text/plain": [
              "<Figure size 1080x720 with 3 Axes>"
            ],
            "image/png": "[encoded data removed]"
          },
          "metadata": {}
        }
      ]
    },
    {
      "cell_type": "markdown",
      "source": [
        "3) TOTAL_INCOME / AGE /\tWORKING_YEAR / FAM_MEMBERS"
      ],
      "metadata": {
        "id": "fvWUBQXocLIf"
      }
    },
    {
      "cell_type": "code",
      "source": [
        "fig, axes = plt.subplots(2,2, figsize=(15,10))\n",
        "\n",
        "hist1 = sns.histplot(data=df, x='TOTAL_INCOME', ax=axes[0,0], kde=True);\n",
        "hist2 = sns.histplot(data=df, x='AGE', ax=axes[0,1], color='#95C8F0');\n",
        "hist3 = sns.histplot(data=df, x='WORKING_YEAR', ax=axes[1,0], color='#00B2D9');\n",
        "hist4 = sns.histplot(data=df, x='EDUCATION', ax=axes[1,1], color='#234990');\n",
        "plt.xticks(rotation=45);"
      ],
      "metadata": {
        "colab": {
          "base_uri": "https://localhost:8080/",
          "height": 710
        },
        "id": "XkTWVNM3cKin",
        "outputId": "9b98f7e6-4318-42e0-d55c-c6afbddbdfb7"
      },
      "execution_count": 22,
      "outputs": [
        {
          "output_type": "display_data",
          "data": {
            "text/plain": [
              "<Figure size 1080x720 with 4 Axes>"
            ],
            "image/png": "[encoded data removed]"
          },
          "metadata": {
            "needs_background": "light"
          }
        }
      ]
    },
    {
      "cell_type": "markdown",
      "source": [
        "WORKING_YEAR 을 보면 근무 연수가 짧은 사람이 긴 사람보다 상대적으로 많이 분포되어있다.  \n",
        "그럼에도 불구하고 TOTAL_INCOME은 나름대로(?) 골고루 분포되어있는 듯 하다.  \n",
        "\n",
        "그럼 TOTAL_INCOME과 WORK_YEAR, EDUCATION 간의 관계는 어떻게 될까?\n",
        "\n",
        "---\n",
        "\n",
        "#### INCOME 과 EDUCATION 관계"
      ],
      "metadata": {
        "id": "jEQvvtWVMsBN"
      }
    },
    {
      "cell_type": "code",
      "source": [
        "rcParams['figure.figsize'] = 10,7\n",
        "bar1 = sns.barplot(x='EDUCATION', y='TOTAL_INCOME', data=df,\n",
        "                   order = ['Academic degree', 'Higher education', 'Incomplete higher',\n",
        "                            'Secondary / secondary special', 'Lower secondary'])\n",
        "plt.xticks(rotation=45);\n",
        "\n",
        "# 교육수준은 Academic degree > Higher education > Incomplete higher > Secondaty/secondary special > Lower secondary 순\n",
        "# 학력이 높을 수록 income이 높게 나타나는 것을 볼 수 있다."
      ],
      "metadata": {
        "colab": {
          "base_uri": "https://localhost:8080/",
          "height": 547
        },
        "id": "PYKFVaaSMtDY",
        "outputId": "d1bb3eee-6c25-4df7-96ce-9c4cda27d91b"
      },
      "execution_count": 23,
      "outputs": [
        {
          "output_type": "display_data",
          "data": {
            "text/plain": [
              "<Figure size 720x504 with 1 Axes>"
            ],
            "image/png": "[encoded data removed]"
          },
          "metadata": {
            "needs_background": "light"
          }
        }
      ]
    },
    {
      "cell_type": "markdown",
      "source": [
        "#### INCOME 과 WORKING YEAR 관계"
      ],
      "metadata": {
        "id": "Db3IDkJwM02o"
      }
    },
    {
      "cell_type": "code",
      "source": [
        "rcParams['figure.figsize'] = 15, 8\n",
        "sns.barplot(x='WORKING_YEAR', y='TOTAL_INCOME', data=df)\n",
        "\n",
        "# 연차가 높아지면 income이 많을 거라고 생각했는데, 아주 초기가 아니면 비슷한 수준이다."
      ],
      "metadata": {
        "colab": {
          "base_uri": "https://localhost:8080/",
          "height": 516
        },
        "id": "90pWfPLdM4D4",
        "outputId": "38d0cd59-a581-4306-9b7e-ac095353390c"
      },
      "execution_count": 24,
      "outputs": [
        {
          "output_type": "execute_result",
          "data": {
            "text/plain": [
              "<matplotlib.axes._subplots.AxesSubplot at 0x7f98252be650>"
            ]
          },
          "metadata": {},
          "execution_count": 24
        },
        {
          "output_type": "display_data",
          "data": {
            "text/plain": [
              "<Figure size 1080x576 with 1 Axes>"
            ],
            "image/png": "[encoded data removed]"
          },
          "metadata": {
            "needs_background": "light"
          }
        }
      ]
    },
    {
      "cell_type": "code",
      "source": [
        "sns.barplot(x='USE_MONTH', y='OVERDUE', data=df)"
      ],
      "metadata": {
        "colab": {
          "base_uri": "https://localhost:8080/",
          "height": 516
        },
        "id": "a11evsnEpK7Y",
        "outputId": "d52d0934-b31c-48cf-85bc-dee390893f53"
      },
      "execution_count": 62,
      "outputs": [
        {
          "output_type": "execute_result",
          "data": {
            "text/plain": [
              "<matplotlib.axes._subplots.AxesSubplot at 0x7f981f50f710>"
            ]
          },
          "metadata": {},
          "execution_count": 62
        },
        {
          "output_type": "display_data",
          "data": {
            "text/plain": [
              "<Figure size 1080x576 with 1 Axes>"
            ],
            "image/png": "[encoded data removed]"
          },
          "metadata": {
            "needs_background": "light"
          }
        }
      ]
    },
    {
      "cell_type": "markdown",
      "source": [
        "---\n",
        "#### Feature 간 상관관계"
      ],
      "metadata": {
        "id": "nExXyVmyciBP"
      }
    },
    {
      "cell_type": "code",
      "source": [
        "corr = df.corr()\n",
        "sns.heatmap(corr, cmap='Blues', annot=True)"
      ],
      "metadata": {
        "colab": {
          "base_uri": "https://localhost:8080/",
          "height": 587
        },
        "id": "Chva7-5NckyP",
        "outputId": "dda3f022-59e3-495d-9e77-b7fb4c8f3f27"
      },
      "execution_count": 25,
      "outputs": [
        {
          "output_type": "execute_result",
          "data": {
            "text/plain": [
              "<matplotlib.axes._subplots.AxesSubplot at 0x7f98252ce8d0>"
            ]
          },
          "metadata": {},
          "execution_count": 25
        },
        {
          "output_type": "display_data",
          "data": {
            "text/plain": [
              "<Figure size 1080x576 with 2 Axes>"
            ],
            "image/png": "[encoded data removed]"
          },
          "metadata": {
            "needs_background": "light"
          }
        }
      ]
    },
    {
      "cell_type": "markdown",
      "source": [
        "CHILDREN_COUNT 와 FAM_MEMBERS 가 높은 상관관계를 가지는 것을 발견.  \n",
        "CHILDREN_COUNT 컬럼을 추가 삭제 해줘야겠다.\n",
        "\n",
        "ID는 이름이나 마찬가지이니 삭제해야겠음."
      ],
      "metadata": {
        "id": "uthxR_K6cplb"
      }
    },
    {
      "cell_type": "code",
      "source": [
        "df = df.drop(['CHILDREN_COUNT', 'ID', 'USE_MONTH'], axis=1)"
      ],
      "metadata": {
        "id": "mGtrex4Lco-2"
      },
      "execution_count": 26,
      "outputs": []
    },
    {
      "cell_type": "markdown",
      "source": [
        "---\n",
        "# 가설검정\n",
        "### H1 : 나이는 연체 여부에 연관성이 있다.   \n",
        "### H0 : 나이는 연체 여부에 연관성이 없다.\n",
        "- 신뢰구간 : 95%"
      ],
      "metadata": {
        "id": "Boux2ii9QqLZ"
      }
    },
    {
      "cell_type": "code",
      "source": [
        "data = pd.crosstab(df['AGE'], df['OVERDUE'])\n",
        "p_value = chi2_contingency(data, correction=False)[1]\n",
        "\n",
        "print('p_value :', p_value)"
      ],
      "metadata": {
        "colab": {
          "base_uri": "https://localhost:8080/"
        },
        "id": "JSl4-JHBQrzi",
        "outputId": "6db2a266-4d5b-47dc-b9ff-496b1ebf7fe2"
      },
      "execution_count": 27,
      "outputs": [
        {
          "output_type": "stream",
          "name": "stdout",
          "text": [
            "p_value : 1.0362160143634882e-20\n"
          ]
        }
      ]
    },
    {
      "cell_type": "markdown",
      "source": [
        "p_value < 0.5 => H0 기각, H1 채택. 결국 나이은 연체 여부랑 관계가 있다.  \n",
        "생각했던 대로 관계가 있는 것으로 나왔다."
      ],
      "metadata": {
        "id": "mQTgf7QqQwuc"
      }
    },
    {
      "cell_type": "markdown",
      "source": [
        "--- \n",
        "# 모델링\n",
        "### Data Split\n"
      ],
      "metadata": {
        "id": "DE86dJ7xQy0Z"
      }
    },
    {
      "cell_type": "code",
      "source": [
        "target = 'OVERDUE'\n",
        "features = df.drop(columns=target).columns\n",
        "\n",
        "train, test = train_test_split(df, train_size=0.8, random_state=42, shuffle=True, stratify=df[target])\n",
        "train, val = train_test_split(train, train_size=0.8, random_state=42, shuffle=True, stratify=train[target])\n",
        "\n",
        "X_train = train[features]\n",
        "y_train = train[target]\n",
        "\n",
        "X_val = val[features]\n",
        "y_val = val[target]\n",
        "\n",
        "X_test = test[features]\n",
        "y_test = test[target]\n",
        "\n",
        "train.shape, val.shape, test.shape"
      ],
      "metadata": {
        "id": "VV2_XLSOQ9PR",
        "colab": {
          "base_uri": "https://localhost:8080/"
        },
        "outputId": "60c99a44-7552-498c-a2e7-f1767620f920"
      },
      "execution_count": 28,
      "outputs": [
        {
          "output_type": "execute_result",
          "data": {
            "text/plain": [
              "((20963, 17), (5241, 17), (6552, 17))"
            ]
          },
          "metadata": {},
          "execution_count": 28
        }
      ]
    },
    {
      "cell_type": "markdown",
      "source": [
        "### 기준모델"
      ],
      "metadata": {
        "id": "_PWXuLvAd0r2"
      }
    },
    {
      "cell_type": "code",
      "source": [
        "pipe_base = make_pipeline(OrdinalEncoder(), RandomForestClassifier(random_state=42))\n",
        "pipe_base.fit(X_train, y_train)\n",
        "\n",
        "pred_train = pipe_base.predict(X_train)\n",
        "pred_val = pipe_base.predict(X_val)\n",
        "\n",
        "print('training f1_score :', f1_score(y_train, pred_train))\n",
        "print('validation f1_score :', f1_score(y_val, pred_val))"
      ],
      "metadata": {
        "colab": {
          "base_uri": "https://localhost:8080/"
        },
        "id": "GmUFxgKKdyXM",
        "outputId": "1ddd37d9-f599-475f-96d0-7b720e72ff5f"
      },
      "execution_count": 29,
      "outputs": [
        {
          "output_type": "stream",
          "name": "stdout",
          "text": [
            "training f1_score : 0.9911107508578532\n",
            "validation f1_score : 0.9373481246698361\n"
          ]
        }
      ]
    },
    {
      "cell_type": "markdown",
      "source": [
        "---\n",
        "## 가중치를 준 뒤 모델링\n",
        "\n",
        " 불균형 데이터이므로 가중치를 줘서 모델링  \n",
        "\n",
        "\n",
        "**데이터 셋의 FP & FN**\n",
        "\n",
        "FP : 연체가 없는데 있다고 판단하고, 카드 발급 승인을 거부하는 경우  \n",
        "FN : 연체가 있는데 없다고 판단하고, 카드 발급 승인을 해주는 경우  -> critical  \n",
        " \n",
        "평가 지표 중 recall에 대한 성능이 뛰어난 것이 좋음."
      ],
      "metadata": {
        "id": "wvBqrrS4d8HX"
      }
    },
    {
      "cell_type": "markdown",
      "source": [
        "### * Decision Tree"
      ],
      "metadata": {
        "id": "xTG4Ih9MeWO_"
      }
    },
    {
      "cell_type": "code",
      "source": [
        "pipe = make_pipeline(OrdinalEncoder(),\n",
        "                    DecisionTreeClassifier(random_state=42, class_weight='balanced'))\n",
        "\n",
        "dist = {'decisiontreeclassifier__criterion' : ['gini', 'entropy', 'log_loss'],\n",
        "       'decisiontreeclassifier__max_depth' : randint(3, 20),\n",
        "       'decisiontreeclassifier__min_samples_split' : randint(10, 30),\n",
        "       'decisiontreeclassifier__min_samples_leaf' : randint(10, 50),\n",
        "       'decisiontreeclassifier__max_features' : ['sqrt', 'log2', None]}\n",
        "\n",
        "clf1 = RandomizedSearchCV(pipe,\n",
        "                        param_distributions = dist,\n",
        "                        n_iter = 10,\n",
        "                        cv = 3,\n",
        "                        scoring = 'f1',\n",
        "                        verbose = 1,\n",
        "                        random_state=42,  \n",
        "                        n_jobs = -1)\n",
        "\n",
        "clf1.fit(X_train, y_train)"
      ],
      "metadata": {
        "colab": {
          "base_uri": "https://localhost:8080/"
        },
        "id": "carBwKyieVsI",
        "outputId": "ac69ebaf-af8e-4af6-e5d4-149813d5ce7c"
      },
      "execution_count": 30,
      "outputs": [
        {
          "output_type": "stream",
          "name": "stdout",
          "text": [
            "Fitting 3 folds for each of 10 candidates, totalling 30 fits\n"
          ]
        },
        {
          "output_type": "execute_result",
          "data": {
            "text/plain": [
              "RandomizedSearchCV(cv=3,\n",
              "                   estimator=Pipeline(steps=[('ordinalencoder',\n",
              "                                              OrdinalEncoder()),\n",
              "                                             ('decisiontreeclassifier',\n",
              "                                              DecisionTreeClassifier(class_weight='balanced',\n",
              "                                                                     random_state=42))]),\n",
              "                   n_jobs=-1,\n",
              "                   param_distributions={'decisiontreeclassifier__criterion': ['gini',\n",
              "                                                                              'entropy',\n",
              "                                                                              'log_loss'],\n",
              "                                        'decisiontreeclassifier__max_depth': <scipy.stats._distn_infrastructure.rv_frozen object at 0x7f982264fc90>,\n",
              "                                        'decisiontreeclassifier__max_features': ['sqrt',\n",
              "                                                                                 'log2',\n",
              "                                                                                 None],\n",
              "                                        'decisiontreeclassifier__min_samples_leaf': <scipy.stats._distn_infrastructure.rv_frozen object at 0x7f98226491d0>,\n",
              "                                        'decisiontreeclassifier__min_samples_split': <scipy.stats._distn_infrastructure.rv_frozen object at 0x7f9822649350>},\n",
              "                   random_state=42, scoring='f1', verbose=1)"
            ]
          },
          "metadata": {},
          "execution_count": 30
        }
      ]
    },
    {
      "cell_type": "code",
      "source": [
        "pd.DataFrame(clf1.cv_results_).sort_values(by='rank_test_score').T"
      ],
      "metadata": {
        "colab": {
          "base_uri": "https://localhost:8080/",
          "height": 632
        },
        "id": "OYO8oPaeecZG",
        "outputId": "64e295aa-0811-404f-cf03-91798d62ab3b"
      },
      "execution_count": 31,
      "outputs": [
        {
          "output_type": "execute_result",
          "data": {
            "text/plain": [
              "                                                                                                 8  \\\n",
              "mean_fit_time                                                                             0.140519   \n",
              "std_fit_time                                                                              0.009439   \n",
              "mean_score_time                                                                           0.042349   \n",
              "std_score_time                                                                            0.010067   \n",
              "param_decisiontreeclassifier__criterion                                                    entropy   \n",
              "param_decisiontreeclassifier__max_depth                                                         11   \n",
              "param_decisiontreeclassifier__max_features                                                    log2   \n",
              "param_decisiontreeclassifier__min_samples_leaf                                                  11   \n",
              "param_decisiontreeclassifier__min_samples_split                                                 29   \n",
              "params                                           {'decisiontreeclassifier__criterion': 'entropy...   \n",
              "split0_test_score                                                                          0.75864   \n",
              "split1_test_score                                                                         0.734129   \n",
              "split2_test_score                                                                          0.69111   \n",
              "mean_test_score                                                                            0.72796   \n",
              "std_test_score                                                                            0.027912   \n",
              "rank_test_score                                                                                  1   \n",
              "\n",
              "                                                                                                 1  \\\n",
              "mean_fit_time                                                                             0.192859   \n",
              "std_fit_time                                                                              0.010292   \n",
              "mean_score_time                                                                           0.037416   \n",
              "std_score_time                                                                            0.002989   \n",
              "param_decisiontreeclassifier__criterion                                                    entropy   \n",
              "param_decisiontreeclassifier__max_depth                                                         13   \n",
              "param_decisiontreeclassifier__max_features                                                    None   \n",
              "param_decisiontreeclassifier__min_samples_leaf                                                  33   \n",
              "param_decisiontreeclassifier__min_samples_split                                                 13   \n",
              "params                                           {'decisiontreeclassifier__criterion': 'entropy...   \n",
              "split0_test_score                                                                         0.728315   \n",
              "split1_test_score                                                                         0.750481   \n",
              "split2_test_score                                                                         0.698634   \n",
              "mean_test_score                                                                            0.72581   \n",
              "std_test_score                                                                             0.02124   \n",
              "rank_test_score                                                                                  2   \n",
              "\n",
              "                                                                                                 4  \\\n",
              "mean_fit_time                                                                              0.18987   \n",
              "std_fit_time                                                                              0.004852   \n",
              "mean_score_time                                                                           0.036037   \n",
              "std_score_time                                                                             0.00272   \n",
              "param_decisiontreeclassifier__criterion                                                       gini   \n",
              "param_decisiontreeclassifier__max_depth                                                         19   \n",
              "param_decisiontreeclassifier__max_features                                                    None   \n",
              "param_decisiontreeclassifier__min_samples_leaf                                                  37   \n",
              "param_decisiontreeclassifier__min_samples_split                                                 25   \n",
              "params                                           {'decisiontreeclassifier__criterion': 'gini', ...   \n",
              "split0_test_score                                                                         0.720345   \n",
              "split1_test_score                                                                         0.736985   \n",
              "split2_test_score                                                                         0.700768   \n",
              "mean_test_score                                                                           0.719366   \n",
              "std_test_score                                                                            0.014802   \n",
              "rank_test_score                                                                                  3   \n",
              "\n",
              "                                                                                                 7  \\\n",
              "mean_fit_time                                                                             0.126688   \n",
              "std_fit_time                                                                              0.005021   \n",
              "mean_score_time                                                                           0.035542   \n",
              "std_score_time                                                                            0.000639   \n",
              "param_decisiontreeclassifier__criterion                                                    entropy   \n",
              "param_decisiontreeclassifier__max_depth                                                          6   \n",
              "param_decisiontreeclassifier__max_features                                                    sqrt   \n",
              "param_decisiontreeclassifier__min_samples_leaf                                                  23   \n",
              "param_decisiontreeclassifier__min_samples_split                                                 27   \n",
              "params                                           {'decisiontreeclassifier__criterion': 'entropy...   \n",
              "split0_test_score                                                                         0.755993   \n",
              "split1_test_score                                                                         0.706462   \n",
              "split2_test_score                                                                         0.663385   \n",
              "mean_test_score                                                                           0.708613   \n",
              "std_test_score                                                                            0.037838   \n",
              "rank_test_score                                                                                  4   \n",
              "\n",
              "                                                                                                 3  \\\n",
              "mean_fit_time                                                                             0.123875   \n",
              "std_fit_time                                                                              0.006648   \n",
              "mean_score_time                                                                           0.035999   \n",
              "std_score_time                                                                            0.002805   \n",
              "param_decisiontreeclassifier__criterion                                                       gini   \n",
              "param_decisiontreeclassifier__max_depth                                                          3   \n",
              "param_decisiontreeclassifier__max_features                                                    log2   \n",
              "param_decisiontreeclassifier__min_samples_leaf                                                  31   \n",
              "param_decisiontreeclassifier__min_samples_split                                                 21   \n",
              "params                                           {'decisiontreeclassifier__criterion': 'gini', ...   \n",
              "split0_test_score                                                                         0.749054   \n",
              "split1_test_score                                                                         0.654167   \n",
              "split2_test_score                                                                         0.675369   \n",
              "mean_test_score                                                                           0.692863   \n",
              "std_test_score                                                                            0.040664   \n",
              "rank_test_score                                                                                  5   \n",
              "\n",
              "                                                                                                 0  \\\n",
              "mean_fit_time                                                                             0.126173   \n",
              "std_fit_time                                                                              0.008364   \n",
              "mean_score_time                                                                                0.0   \n",
              "std_score_time                                                                                 0.0   \n",
              "param_decisiontreeclassifier__criterion                                                   log_loss   \n",
              "param_decisiontreeclassifier__max_depth                                                         17   \n",
              "param_decisiontreeclassifier__max_features                                                    None   \n",
              "param_decisiontreeclassifier__min_samples_leaf                                                  17   \n",
              "param_decisiontreeclassifier__min_samples_split                                                 16   \n",
              "params                                           {'decisiontreeclassifier__criterion': 'log_los...   \n",
              "split0_test_score                                                                              NaN   \n",
              "split1_test_score                                                                              NaN   \n",
              "split2_test_score                                                                              NaN   \n",
              "mean_test_score                                                                                NaN   \n",
              "std_test_score                                                                                 NaN   \n",
              "rank_test_score                                                                                  6   \n",
              "\n",
              "                                                                                                 2  \\\n",
              "mean_fit_time                                                                             0.118942   \n",
              "std_fit_time                                                                              0.002264   \n",
              "mean_score_time                                                                                0.0   \n",
              "std_score_time                                                                                 0.0   \n",
              "param_decisiontreeclassifier__criterion                                                   log_loss   \n",
              "param_decisiontreeclassifier__max_depth                                                          4   \n",
              "param_decisiontreeclassifier__max_features                                                    log2   \n",
              "param_decisiontreeclassifier__min_samples_leaf                                                  47   \n",
              "param_decisiontreeclassifier__min_samples_split                                                 11   \n",
              "params                                           {'decisiontreeclassifier__criterion': 'log_los...   \n",
              "split0_test_score                                                                              NaN   \n",
              "split1_test_score                                                                              NaN   \n",
              "split2_test_score                                                                              NaN   \n",
              "mean_test_score                                                                                NaN   \n",
              "std_test_score                                                                                 NaN   \n",
              "rank_test_score                                                                                  7   \n",
              "\n",
              "                                                                                                 5  \\\n",
              "mean_fit_time                                                                              0.11069   \n",
              "std_fit_time                                                                              0.000847   \n",
              "mean_score_time                                                                                0.0   \n",
              "std_score_time                                                                                 0.0   \n",
              "param_decisiontreeclassifier__criterion                                                   log_loss   \n",
              "param_decisiontreeclassifier__max_depth                                                         17   \n",
              "param_decisiontreeclassifier__max_features                                                    log2   \n",
              "param_decisiontreeclassifier__min_samples_leaf                                                  12   \n",
              "param_decisiontreeclassifier__min_samples_split                                                 14   \n",
              "params                                           {'decisiontreeclassifier__criterion': 'log_los...   \n",
              "split0_test_score                                                                              NaN   \n",
              "split1_test_score                                                                              NaN   \n",
              "split2_test_score                                                                              NaN   \n",
              "mean_test_score                                                                                NaN   \n",
              "std_test_score                                                                                 NaN   \n",
              "rank_test_score                                                                                  8   \n",
              "\n",
              "                                                                                                 6  \\\n",
              "mean_fit_time                                                                              0.11175   \n",
              "std_fit_time                                                                               0.00258   \n",
              "mean_score_time                                                                                0.0   \n",
              "std_score_time                                                                                 0.0   \n",
              "param_decisiontreeclassifier__criterion                                                   log_loss   \n",
              "param_decisiontreeclassifier__max_depth                                                          9   \n",
              "param_decisiontreeclassifier__max_features                                                    sqrt   \n",
              "param_decisiontreeclassifier__min_samples_leaf                                                  18   \n",
              "param_decisiontreeclassifier__min_samples_split                                                 16   \n",
              "params                                           {'decisiontreeclassifier__criterion': 'log_los...   \n",
              "split0_test_score                                                                              NaN   \n",
              "split1_test_score                                                                              NaN   \n",
              "split2_test_score                                                                              NaN   \n",
              "mean_test_score                                                                                NaN   \n",
              "std_test_score                                                                                 NaN   \n",
              "rank_test_score                                                                                  9   \n",
              "\n",
              "                                                                                                 9  \n",
              "mean_fit_time                                                                              0.11202  \n",
              "std_fit_time                                                                              0.005353  \n",
              "mean_score_time                                                                                0.0  \n",
              "std_score_time                                                                                 0.0  \n",
              "param_decisiontreeclassifier__criterion                                                   log_loss  \n",
              "param_decisiontreeclassifier__max_depth                                                          9  \n",
              "param_decisiontreeclassifier__max_features                                                    sqrt  \n",
              "param_decisiontreeclassifier__min_samples_leaf                                                  17  \n",
              "param_decisiontreeclassifier__min_samples_split                                                 24  \n",
              "params                                           {'decisiontreeclassifier__criterion': 'log_los...  \n",
              "split0_test_score                                                                              NaN  \n",
              "split1_test_score                                                                              NaN  \n",
              "split2_test_score                                                                              NaN  \n",
              "mean_test_score                                                                                NaN  \n",
              "std_test_score                                                                                 NaN  \n",
              "rank_test_score                                                                                 10  "
            ],
            "text/html": [
              "\n",
              "  <div id=\"df-73b38dce-f212-481a-813f-08ad54269aea\">\n",
              "    <div class=\"colab-df-container\">\n",
              "      <div>\n",
              "<style scoped>\n",
              "    .dataframe tbody tr th:only-of-type {\n",
              "        vertical-align: middle;\n",
              "    }\n",
              "\n",
              "    .dataframe tbody tr th {\n",
              "        vertical-align: top;\n",
              "    }\n",
              "\n",
              "    .dataframe thead th {\n",
              "        text-align: right;\n",
              "    }\n",
              "</style>\n",
              "<table border=\"1\" class=\"dataframe\">\n",
              "  <thead>\n",
              "    <tr style=\"text-align: right;\">\n",
              "      <th></th>\n",
              "      <th>8</th>\n",
              "      <th>1</th>\n",
              "      <th>4</th>\n",
              "      <th>7</th>\n",
              "      <th>3</th>\n",
              "      <th>0</th>\n",
              "      <th>2</th>\n",
              "      <th>5</th>\n",
              "      <th>6</th>\n",
              "      <th>9</th>\n",
              "    </tr>\n",
              "  </thead>\n",
              "  <tbody>\n",
              "    <tr>\n",
              "      <th>mean_fit_time</th>\n",
              "      <td>0.140519</td>\n",
              "      <td>0.192859</td>\n",
              "      <td>0.18987</td>\n",
              "      <td>0.126688</td>\n",
              "      <td>0.123875</td>\n",
              "      <td>0.126173</td>\n",
              "      <td>0.118942</td>\n",
              "      <td>0.11069</td>\n",
              "      <td>0.11175</td>\n",
              "      <td>0.11202</td>\n",
              "    </tr>\n",
              "    <tr>\n",
              "      <th>std_fit_time</th>\n",
              "      <td>0.009439</td>\n",
              "      <td>0.010292</td>\n",
              "      <td>0.004852</td>\n",
              "      <td>0.005021</td>\n",
              "      <td>0.006648</td>\n",
              "      <td>0.008364</td>\n",
              "      <td>0.002264</td>\n",
              "      <td>0.000847</td>\n",
              "      <td>0.00258</td>\n",
              "      <td>0.005353</td>\n",
              "    </tr>\n",
              "    <tr>\n",
              "      <th>mean_score_time</th>\n",
              "      <td>0.042349</td>\n",
              "      <td>0.037416</td>\n",
              "      <td>0.036037</td>\n",
              "      <td>0.035542</td>\n",
              "      <td>0.035999</td>\n",
              "      <td>0.0</td>\n",
              "      <td>0.0</td>\n",
              "      <td>0.0</td>\n",
              "      <td>0.0</td>\n",
              "      <td>0.0</td>\n",
              "    </tr>\n",
              "    <tr>\n",
              "      <th>std_score_time</th>\n",
              "      <td>0.010067</td>\n",
              "      <td>0.002989</td>\n",
              "      <td>0.00272</td>\n",
              "      <td>0.000639</td>\n",
              "      <td>0.002805</td>\n",
              "      <td>0.0</td>\n",
              "      <td>0.0</td>\n",
              "      <td>0.0</td>\n",
              "      <td>0.0</td>\n",
              "      <td>0.0</td>\n",
              "    </tr>\n",
              "    <tr>\n",
              "      <th>param_decisiontreeclassifier__criterion</th>\n",
              "      <td>entropy</td>\n",
              "      <td>entropy</td>\n",
              "      <td>gini</td>\n",
              "      <td>entropy</td>\n",
              "      <td>gini</td>\n",
              "      <td>log_loss</td>\n",
              "      <td>log_loss</td>\n",
              "      <td>log_loss</td>\n",
              "      <td>log_loss</td>\n",
              "      <td>log_loss</td>\n",
              "    </tr>\n",
              "    <tr>\n",
              "      <th>param_decisiontreeclassifier__max_depth</th>\n",
              "      <td>11</td>\n",
              "      <td>13</td>\n",
              "      <td>19</td>\n",
              "      <td>6</td>\n",
              "      <td>3</td>\n",
              "      <td>17</td>\n",
              "      <td>4</td>\n",
              "      <td>17</td>\n",
              "      <td>9</td>\n",
              "      <td>9</td>\n",
              "    </tr>\n",
              "    <tr>\n",
              "      <th>param_decisiontreeclassifier__max_features</th>\n",
              "      <td>log2</td>\n",
              "      <td>None</td>\n",
              "      <td>None</td>\n",
              "      <td>sqrt</td>\n",
              "      <td>log2</td>\n",
              "      <td>None</td>\n",
              "      <td>log2</td>\n",
              "      <td>log2</td>\n",
              "      <td>sqrt</td>\n",
              "      <td>sqrt</td>\n",
              "    </tr>\n",
              "    <tr>\n",
              "      <th>param_decisiontreeclassifier__min_samples_leaf</th>\n",
              "      <td>11</td>\n",
              "      <td>33</td>\n",
              "      <td>37</td>\n",
              "      <td>23</td>\n",
              "      <td>31</td>\n",
              "      <td>17</td>\n",
              "      <td>47</td>\n",
              "      <td>12</td>\n",
              "      <td>18</td>\n",
              "      <td>17</td>\n",
              "    </tr>\n",
              "    <tr>\n",
              "      <th>param_decisiontreeclassifier__min_samples_split</th>\n",
              "      <td>29</td>\n",
              "      <td>13</td>\n",
              "      <td>25</td>\n",
              "      <td>27</td>\n",
              "      <td>21</td>\n",
              "      <td>16</td>\n",
              "      <td>11</td>\n",
              "      <td>14</td>\n",
              "      <td>16</td>\n",
              "      <td>24</td>\n",
              "    </tr>\n",
              "    <tr>\n",
              "      <th>params</th>\n",
              "      <td>{'decisiontreeclassifier__criterion': 'entropy...</td>\n",
              "      <td>{'decisiontreeclassifier__criterion': 'entropy...</td>\n",
              "      <td>{'decisiontreeclassifier__criterion': 'gini', ...</td>\n",
              "      <td>{'decisiontreeclassifier__criterion': 'entropy...</td>\n",
              "      <td>{'decisiontreeclassifier__criterion': 'gini', ...</td>\n",
              "      <td>{'decisiontreeclassifier__criterion': 'log_los...</td>\n",
              "      <td>{'decisiontreeclassifier__criterion': 'log_los...</td>\n",
              "      <td>{'decisiontreeclassifier__criterion': 'log_los...</td>\n",
              "      <td>{'decisiontreeclassifier__criterion': 'log_los...</td>\n",
              "      <td>{'decisiontreeclassifier__criterion': 'log_los...</td>\n",
              "    </tr>\n",
              "    <tr>\n",
              "      <th>split0_test_score</th>\n",
              "      <td>0.75864</td>\n",
              "      <td>0.728315</td>\n",
              "      <td>0.720345</td>\n",
              "      <td>0.755993</td>\n",
              "      <td>0.749054</td>\n",
              "      <td>NaN</td>\n",
              "      <td>NaN</td>\n",
              "      <td>NaN</td>\n",
              "      <td>NaN</td>\n",
              "      <td>NaN</td>\n",
              "    </tr>\n",
              "    <tr>\n",
              "      <th>split1_test_score</th>\n",
              "      <td>0.734129</td>\n",
              "      <td>0.750481</td>\n",
              "      <td>0.736985</td>\n",
              "      <td>0.706462</td>\n",
              "      <td>0.654167</td>\n",
              "      <td>NaN</td>\n",
              "      <td>NaN</td>\n",
              "      <td>NaN</td>\n",
              "      <td>NaN</td>\n",
              "      <td>NaN</td>\n",
              "    </tr>\n",
              "    <tr>\n",
              "      <th>split2_test_score</th>\n",
              "      <td>0.69111</td>\n",
              "      <td>0.698634</td>\n",
              "      <td>0.700768</td>\n",
              "      <td>0.663385</td>\n",
              "      <td>0.675369</td>\n",
              "      <td>NaN</td>\n",
              "      <td>NaN</td>\n",
              "      <td>NaN</td>\n",
              "      <td>NaN</td>\n",
              "      <td>NaN</td>\n",
              "    </tr>\n",
              "    <tr>\n",
              "      <th>mean_test_score</th>\n",
              "      <td>0.72796</td>\n",
              "      <td>0.72581</td>\n",
              "      <td>0.719366</td>\n",
              "      <td>0.708613</td>\n",
              "      <td>0.692863</td>\n",
              "      <td>NaN</td>\n",
              "      <td>NaN</td>\n",
              "      <td>NaN</td>\n",
              "      <td>NaN</td>\n",
              "      <td>NaN</td>\n",
              "    </tr>\n",
              "    <tr>\n",
              "      <th>std_test_score</th>\n",
              "      <td>0.027912</td>\n",
              "      <td>0.02124</td>\n",
              "      <td>0.014802</td>\n",
              "      <td>0.037838</td>\n",
              "      <td>0.040664</td>\n",
              "      <td>NaN</td>\n",
              "      <td>NaN</td>\n",
              "      <td>NaN</td>\n",
              "      <td>NaN</td>\n",
              "      <td>NaN</td>\n",
              "    </tr>\n",
              "    <tr>\n",
              "      <th>rank_test_score</th>\n",
              "      <td>1</td>\n",
              "      <td>2</td>\n",
              "      <td>3</td>\n",
              "      <td>4</td>\n",
              "      <td>5</td>\n",
              "      <td>6</td>\n",
              "      <td>7</td>\n",
              "      <td>8</td>\n",
              "      <td>9</td>\n",
              "      <td>10</td>\n",
              "    </tr>\n",
              "  </tbody>\n",
              "</table>\n",
              "</div>\n",
              "      <button class=\"colab-df-convert\" onclick=\"convertToInteractive('df-73b38dce-f212-481a-813f-08ad54269aea')\"\n",
              "              title=\"Convert this dataframe to an interactive table.\"\n",
              "              style=\"display:none;\">\n",
              "        \n",
              "  <svg xmlns=\"http://www.w3.org/2000/svg\" height=\"24px\"viewBox=\"0 0 24 24\"\n",
              "       width=\"24px\">\n",
              "    <path d=\"M0 0h24v24H0V0z\" fill=\"none\"/>\n",
              "    <path d=\"M18.56 5.44l.94 2.06.94-2.06 2.06-.94-2.06-.94-.94-2.06-.94 2.06-2.06.94zm-11 1L8.5 8.5l.94-2.06 2.06-.94-2.06-.94L8.5 2.5l-.94 2.06-2.06.94zm10 10l.94 2.06.94-2.06 2.06-.94-2.06-.94-.94-2.06-.94 2.06-2.06.94z\"/><path d=\"M17.41 7.96l-1.37-1.37c-.4-.4-.92-.59-1.43-.59-.52 0-1.04.2-1.43.59L10.3 9.45l-7.72 7.72c-.78.78-.78 2.05 0 2.83L4 21.41c.39.39.9.59 1.41.59.51 0 1.02-.2 1.41-.59l7.78-7.78 2.81-2.81c.8-.78.8-2.07 0-2.86zM5.41 20L4 18.59l7.72-7.72 1.47 1.35L5.41 20z\"/>\n",
              "  </svg>\n",
              "      </button>\n",
              "      \n",
              "  <style>\n",
              "    .colab-df-container {\n",
              "      display:flex;\n",
              "      flex-wrap:wrap;\n",
              "      gap: 12px;\n",
              "    }\n",
              "\n",
              "    .colab-df-convert {\n",
              "      background-color: #E8F0FE;\n",
              "      border: none;\n",
              "      border-radius: 50%;\n",
              "      cursor: pointer;\n",
              "      display: none;\n",
              "      fill: #1967D2;\n",
              "      height: 32px;\n",
              "      padding: 0 0 0 0;\n",
              "      width: 32px;\n",
              "    }\n",
              "\n",
              "    .colab-df-convert:hover {\n",
              "      background-color: #E2EBFA;\n",
              "      box-shadow: 0px 1px 2px rgba(60, 64, 67, 0.3), 0px 1px 3px 1px rgba(60, 64, 67, 0.15);\n",
              "      fill: #174EA6;\n",
              "    }\n",
              "\n",
              "    [theme=dark] .colab-df-convert {\n",
              "      background-color: #3B4455;\n",
              "      fill: #D2E3FC;\n",
              "    }\n",
              "\n",
              "    [theme=dark] .colab-df-convert:hover {\n",
              "      background-color: #434B5C;\n",
              "      box-shadow: 0px 1px 3px 1px rgba(0, 0, 0, 0.15);\n",
              "      filter: drop-shadow(0px 1px 2px rgba(0, 0, 0, 0.3));\n",
              "      fill: #FFFFFF;\n",
              "    }\n",
              "  </style>\n",
              "\n",
              "      <script>\n",
              "        const buttonEl =\n",
              "          document.querySelector('#df-73b38dce-f212-481a-813f-08ad54269aea button.colab-df-convert');\n",
              "        buttonEl.style.display =\n",
              "          google.colab.kernel.accessAllowed ? 'block' : 'none';\n",
              "\n",
              "        async function convertToInteractive(key) {\n",
              "          const element = document.querySelector('#df-73b38dce-f212-481a-813f-08ad54269aea');\n",
              "          const dataTable =\n",
              "            await google.colab.kernel.invokeFunction('convertToInteractive',\n",
              "                                                     [key], {});\n",
              "          if (!dataTable) return;\n",
              "\n",
              "          const docLinkHtml = 'Like what you see? Visit the ' +\n",
              "            '<a target=\"_blank\" href=https://colab.research.google.com/notebooks/data_table.ipynb>data table notebook</a>'\n",
              "            + ' to learn more about interactive tables.';\n",
              "          element.innerHTML = '';\n",
              "          dataTable['output_type'] = 'display_data';\n",
              "          await google.colab.output.renderOutput(dataTable, element);\n",
              "          const docLink = document.createElement('div');\n",
              "          docLink.innerHTML = docLinkHtml;\n",
              "          element.appendChild(docLink);\n",
              "        }\n",
              "      </script>\n",
              "    </div>\n",
              "  </div>\n",
              "  "
            ]
          },
          "metadata": {},
          "execution_count": 31
        }
      ]
    },
    {
      "cell_type": "code",
      "source": [
        "best_model_dt1 = clf1.best_estimator_\n",
        "\n",
        "y_pred_train = best_model_dt1.predict(X_train)\n",
        "y_pred_val = best_model_dt1.predict(X_val)\n",
        "\n",
        "print('훈련 정확도: ', accuracy_score(y_train, y_pred_train))\n",
        "print('검증 정확도: ', accuracy_score(y_val, y_pred_val))\n",
        "print(classification_report(y_val, y_pred_val))"
      ],
      "metadata": {
        "colab": {
          "base_uri": "https://localhost:8080/"
        },
        "id": "j3Ywb5BGeemf",
        "outputId": "56110081-1025-44e5-f9e9-32b93fcd18b4"
      },
      "execution_count": 32,
      "outputs": [
        {
          "output_type": "stream",
          "name": "stdout",
          "text": [
            "훈련 정확도:  0.6408910938319897\n",
            "검증 정확도:  0.609234878839916\n",
            "              precision    recall  f1-score   support\n",
            "\n",
            "           0       0.16      0.54      0.25       636\n",
            "           1       0.91      0.62      0.74      4605\n",
            "\n",
            "    accuracy                           0.61      5241\n",
            "   macro avg       0.54      0.58      0.49      5241\n",
            "weighted avg       0.82      0.61      0.68      5241\n",
            "\n"
          ]
        }
      ]
    },
    {
      "cell_type": "markdown",
      "source": [
        "---\n",
        "### * RandomForest"
      ],
      "metadata": {
        "id": "naRd49wjeoTP"
      }
    },
    {
      "cell_type": "code",
      "source": [
        "pipe = make_pipeline(OrdinalEncoder(),\n",
        "                    RandomForestClassifier(random_state=42, class_weight='balanced'))\n",
        "\n",
        "dist = {'randomforestclassifier__criterion' : ['gini', 'entropy', 'log_loss'],\n",
        "        'randomforestclassifier__n_estimators' : randint(10, 1000),\n",
        "       'randomforestclassifier__max_depth' : randint(3, 100),\n",
        "       'randomforestclassifier__min_samples_split' : randint(10, 100),\n",
        "       'randomforestclassifier__min_samples_leaf' : randint(10, 100),\n",
        "       'randomforestclassifier__max_features' : ['sqrt', 'log2', None]}\n",
        "\n",
        "clf2 = RandomizedSearchCV(pipe,\n",
        "                        param_distributions = dist,\n",
        "                        n_iter = 10,\n",
        "                        cv = 3,\n",
        "                        scoring = 'f1',\n",
        "                        verbose = 1,\n",
        "                        random_state=42,\n",
        "                        n_jobs = -1)\n",
        "\n",
        "clf2.fit(X_train, y_train)"
      ],
      "metadata": {
        "colab": {
          "base_uri": "https://localhost:8080/"
        },
        "id": "_trmlS44eqLv",
        "outputId": "45bcdc35-4a5b-48d7-f87b-1487e001e6a0"
      },
      "execution_count": 33,
      "outputs": [
        {
          "output_type": "stream",
          "name": "stdout",
          "text": [
            "Fitting 3 folds for each of 10 candidates, totalling 30 fits\n"
          ]
        },
        {
          "output_type": "execute_result",
          "data": {
            "text/plain": [
              "RandomizedSearchCV(cv=3,\n",
              "                   estimator=Pipeline(steps=[('ordinalencoder',\n",
              "                                              OrdinalEncoder()),\n",
              "                                             ('randomforestclassifier',\n",
              "                                              RandomForestClassifier(class_weight='balanced',\n",
              "                                                                     random_state=42))]),\n",
              "                   n_jobs=-1,\n",
              "                   param_distributions={'randomforestclassifier__criterion': ['gini',\n",
              "                                                                              'entropy',\n",
              "                                                                              'log_loss'],\n",
              "                                        'randomforestclassifier__max_depth': <scipy.stats._distn_infrastructure.rv_...\n",
              "                                        'randomforestclassifier__min_samples_leaf': <scipy.stats._distn_infrastructure.rv_frozen object at 0x7f9820db9710>,\n",
              "                                        'randomforestclassifier__min_samples_split': <scipy.stats._distn_infrastructure.rv_frozen object at 0x7f9820db9410>,\n",
              "                                        'randomforestclassifier__n_estimators': <scipy.stats._distn_infrastructure.rv_frozen object at 0x7f9820db9150>},\n",
              "                   random_state=42, scoring='f1', verbose=1)"
            ]
          },
          "metadata": {},
          "execution_count": 33
        }
      ]
    },
    {
      "cell_type": "code",
      "source": [
        "pd.DataFrame(clf2.cv_results_).sort_values(by='rank_test_score').T"
      ],
      "metadata": {
        "id": "G-eXWYfyervn",
        "colab": {
          "base_uri": "https://localhost:8080/",
          "height": 664
        },
        "outputId": "8e163e94-f9db-42ae-c2c6-5f40468ce094"
      },
      "execution_count": 34,
      "outputs": [
        {
          "output_type": "execute_result",
          "data": {
            "text/plain": [
              "                                                                                                 8  \\\n",
              "mean_fit_time                                                                            27.968621   \n",
              "std_fit_time                                                                              0.342451   \n",
              "mean_score_time                                                                           0.854819   \n",
              "std_score_time                                                                            0.089376   \n",
              "param_randomforestclassifier__criterion                                                       gini   \n",
              "param_randomforestclassifier__max_depth                                                         75   \n",
              "param_randomforestclassifier__max_features                                                    None   \n",
              "param_randomforestclassifier__min_samples_leaf                                                  27   \n",
              "param_randomforestclassifier__min_samples_split                                                 13   \n",
              "param_randomforestclassifier__n_estimators                                                     610   \n",
              "params                                           {'randomforestclassifier__criterion': 'gini', ...   \n",
              "split0_test_score                                                                         0.880329   \n",
              "split1_test_score                                                                         0.894746   \n",
              "split2_test_score                                                                         0.892908   \n",
              "mean_test_score                                                                           0.889327   \n",
              "std_test_score                                                                            0.006407   \n",
              "rank_test_score                                                                                  1   \n",
              "\n",
              "                                                                                                 2  \\\n",
              "mean_fit_time                                                                            35.256974   \n",
              "std_fit_time                                                                              0.304458   \n",
              "mean_score_time                                                                           1.410139   \n",
              "std_score_time                                                                            0.341712   \n",
              "param_randomforestclassifier__criterion                                                       gini   \n",
              "param_randomforestclassifier__max_depth                                                         26   \n",
              "param_randomforestclassifier__max_features                                                    None   \n",
              "param_randomforestclassifier__min_samples_leaf                                                  31   \n",
              "param_randomforestclassifier__min_samples_split                                                 62   \n",
              "param_randomforestclassifier__n_estimators                                                     779   \n",
              "params                                           {'randomforestclassifier__criterion': 'gini', ...   \n",
              "split0_test_score                                                                         0.874219   \n",
              "split1_test_score                                                                         0.890458   \n",
              "split2_test_score                                                                         0.887887   \n",
              "mean_test_score                                                                           0.884188   \n",
              "std_test_score                                                                            0.007127   \n",
              "rank_test_score                                                                                  2   \n",
              "\n",
              "                                                                                                 4  \\\n",
              "mean_fit_time                                                                             9.192656   \n",
              "std_fit_time                                                                              0.365455   \n",
              "mean_score_time                                                                            0.85649   \n",
              "std_score_time                                                                            0.048659   \n",
              "param_randomforestclassifier__criterion                                                       gini   \n",
              "param_randomforestclassifier__max_depth                                                         78   \n",
              "param_randomforestclassifier__max_features                                                    log2   \n",
              "param_randomforestclassifier__min_samples_leaf                                                  31   \n",
              "param_randomforestclassifier__min_samples_split                                                 98   \n",
              "param_randomforestclassifier__n_estimators                                                     570   \n",
              "params                                           {'randomforestclassifier__criterion': 'gini', ...   \n",
              "split0_test_score                                                                         0.861975   \n",
              "split1_test_score                                                                         0.877367   \n",
              "split2_test_score                                                                          0.87795   \n",
              "mean_test_score                                                                           0.872431   \n",
              "std_test_score                                                                            0.007397   \n",
              "rank_test_score                                                                                  3   \n",
              "\n",
              "                                                                                                 9  \\\n",
              "mean_fit_time                                                                             5.538836   \n",
              "std_fit_time                                                                              0.749941   \n",
              "mean_score_time                                                                           0.469353   \n",
              "std_score_time                                                                            0.033111   \n",
              "param_randomforestclassifier__criterion                                                    entropy   \n",
              "param_randomforestclassifier__max_depth                                                         11   \n",
              "param_randomforestclassifier__max_features                                                    log2   \n",
              "param_randomforestclassifier__min_samples_leaf                                                  62   \n",
              "param_randomforestclassifier__min_samples_split                                                 11   \n",
              "param_randomforestclassifier__n_estimators                                                     349   \n",
              "params                                           {'randomforestclassifier__criterion': 'entropy...   \n",
              "split0_test_score                                                                         0.836096   \n",
              "split1_test_score                                                                         0.845361   \n",
              "split2_test_score                                                                         0.850898   \n",
              "mean_test_score                                                                           0.844118   \n",
              "std_test_score                                                                            0.006106   \n",
              "rank_test_score                                                                                  4   \n",
              "\n",
              "                                                                                                 3  \\\n",
              "mean_fit_time                                                                             4.228935   \n",
              "std_fit_time                                                                              0.026915   \n",
              "mean_score_time                                                                           0.389706   \n",
              "std_score_time                                                                            0.009608   \n",
              "param_randomforestclassifier__criterion                                                    entropy   \n",
              "param_randomforestclassifier__max_depth                                                         40   \n",
              "param_randomforestclassifier__max_features                                                    log2   \n",
              "param_randomforestclassifier__min_samples_leaf                                                  73   \n",
              "param_randomforestclassifier__min_samples_split                                                 69   \n",
              "param_randomforestclassifier__n_estimators                                                     286   \n",
              "params                                           {'randomforestclassifier__criterion': 'entropy...   \n",
              "split0_test_score                                                                         0.826688   \n",
              "split1_test_score                                                                         0.842261   \n",
              "split2_test_score                                                                         0.844977   \n",
              "mean_test_score                                                                           0.837975   \n",
              "std_test_score                                                                            0.008058   \n",
              "rank_test_score                                                                                  5   \n",
              "\n",
              "                                                                                                 1  \\\n",
              "mean_fit_time                                                                             3.648541   \n",
              "std_fit_time                                                                              0.029066   \n",
              "mean_score_time                                                                           0.180437   \n",
              "std_score_time                                                                            0.025762   \n",
              "param_randomforestclassifier__criterion                                                       gini   \n",
              "param_randomforestclassifier__max_depth                                                         85   \n",
              "param_randomforestclassifier__max_features                                                    None   \n",
              "param_randomforestclassifier__min_samples_leaf                                                  84   \n",
              "param_randomforestclassifier__min_samples_split                                                 84   \n",
              "param_randomforestclassifier__n_estimators                                                      97   \n",
              "params                                           {'randomforestclassifier__criterion': 'gini', ...   \n",
              "split0_test_score                                                                         0.820472   \n",
              "split1_test_score                                                                         0.833627   \n",
              "split2_test_score                                                                         0.825354   \n",
              "mean_test_score                                                                           0.826484   \n",
              "std_test_score                                                                             0.00543   \n",
              "rank_test_score                                                                                  6   \n",
              "\n",
              "                                                                                                 0  \\\n",
              "mean_fit_time                                                                             0.561063   \n",
              "std_fit_time                                                                              0.010341   \n",
              "mean_score_time                                                                                0.0   \n",
              "std_score_time                                                                                 0.0   \n",
              "param_randomforestclassifier__criterion                                                   log_loss   \n",
              "param_randomforestclassifier__max_depth                                                         54   \n",
              "param_randomforestclassifier__max_features                                                    sqrt   \n",
              "param_randomforestclassifier__min_samples_leaf                                                  24   \n",
              "param_randomforestclassifier__min_samples_split                                                 81   \n",
              "param_randomforestclassifier__n_estimators                                                     710   \n",
              "params                                           {'randomforestclassifier__criterion': 'log_los...   \n",
              "split0_test_score                                                                              NaN   \n",
              "split1_test_score                                                                              NaN   \n",
              "split2_test_score                                                                              NaN   \n",
              "mean_test_score                                                                                NaN   \n",
              "std_test_score                                                                                 NaN   \n",
              "rank_test_score                                                                                  7   \n",
              "\n",
              "                                                                                                 5  \\\n",
              "mean_fit_time                                                                             0.731504   \n",
              "std_fit_time                                                                              0.016998   \n",
              "mean_score_time                                                                                0.0   \n",
              "std_score_time                                                                                 0.0   \n",
              "param_randomforestclassifier__criterion                                                   log_loss   \n",
              "param_randomforestclassifier__max_depth                                                         61   \n",
              "param_randomforestclassifier__max_features                                                    None   \n",
              "param_randomforestclassifier__min_samples_leaf                                                  51   \n",
              "param_randomforestclassifier__min_samples_split                                                 69   \n",
              "param_randomforestclassifier__n_estimators                                                     985   \n",
              "params                                           {'randomforestclassifier__criterion': 'log_los...   \n",
              "split0_test_score                                                                              NaN   \n",
              "split1_test_score                                                                              NaN   \n",
              "split2_test_score                                                                              NaN   \n",
              "mean_test_score                                                                                NaN   \n",
              "std_test_score                                                                                 NaN   \n",
              "rank_test_score                                                                                  8   \n",
              "\n",
              "                                                                                                 6  \\\n",
              "mean_fit_time                                                                             0.459332   \n",
              "std_fit_time                                                                              0.007212   \n",
              "mean_score_time                                                                                0.0   \n",
              "std_score_time                                                                                 0.0   \n",
              "param_randomforestclassifier__criterion                                                   log_loss   \n",
              "param_randomforestclassifier__max_depth                                                         64   \n",
              "param_randomforestclassifier__max_features                                                    log2   \n",
              "param_randomforestclassifier__min_samples_leaf                                                  56   \n",
              "param_randomforestclassifier__min_samples_split                                                 71   \n",
              "param_randomforestclassifier__n_estimators                                                     572   \n",
              "params                                           {'randomforestclassifier__criterion': 'log_los...   \n",
              "split0_test_score                                                                              NaN   \n",
              "split1_test_score                                                                              NaN   \n",
              "split2_test_score                                                                              NaN   \n",
              "mean_test_score                                                                                NaN   \n",
              "std_test_score                                                                                 NaN   \n",
              "rank_test_score                                                                                  9   \n",
              "\n",
              "                                                                                                 7  \n",
              "mean_fit_time                                                                             0.510561  \n",
              "std_fit_time                                                                              0.011399  \n",
              "mean_score_time                                                                                0.0  \n",
              "std_score_time                                                                                 0.0  \n",
              "param_randomforestclassifier__criterion                                                   log_loss  \n",
              "param_randomforestclassifier__max_depth                                                         66  \n",
              "param_randomforestclassifier__max_features                                                    sqrt  \n",
              "param_randomforestclassifier__min_samples_leaf                                                  12  \n",
              "param_randomforestclassifier__min_samples_split                                                 60  \n",
              "param_randomforestclassifier__n_estimators                                                     656  \n",
              "params                                           {'randomforestclassifier__criterion': 'log_los...  \n",
              "split0_test_score                                                                              NaN  \n",
              "split1_test_score                                                                              NaN  \n",
              "split2_test_score                                                                              NaN  \n",
              "mean_test_score                                                                                NaN  \n",
              "std_test_score                                                                                 NaN  \n",
              "rank_test_score                                                                                 10  "
            ],
            "text/html": [
              "\n",
              "  <div id=\"df-589deba0-71a9-452a-8e5a-d8a76d5075f5\">\n",
              "    <div class=\"colab-df-container\">\n",
              "      <div>\n",
              "<style scoped>\n",
              "    .dataframe tbody tr th:only-of-type {\n",
              "        vertical-align: middle;\n",
              "    }\n",
              "\n",
              "    .dataframe tbody tr th {\n",
              "        vertical-align: top;\n",
              "    }\n",
              "\n",
              "    .dataframe thead th {\n",
              "        text-align: right;\n",
              "    }\n",
              "</style>\n",
              "<table border=\"1\" class=\"dataframe\">\n",
              "  <thead>\n",
              "    <tr style=\"text-align: right;\">\n",
              "      <th></th>\n",
              "      <th>8</th>\n",
              "      <th>2</th>\n",
              "      <th>4</th>\n",
              "      <th>9</th>\n",
              "      <th>3</th>\n",
              "      <th>1</th>\n",
              "      <th>0</th>\n",
              "      <th>5</th>\n",
              "      <th>6</th>\n",
              "      <th>7</th>\n",
              "    </tr>\n",
              "  </thead>\n",
              "  <tbody>\n",
              "    <tr>\n",
              "      <th>mean_fit_time</th>\n",
              "      <td>27.968621</td>\n",
              "      <td>35.256974</td>\n",
              "      <td>9.192656</td>\n",
              "      <td>5.538836</td>\n",
              "      <td>4.228935</td>\n",
              "      <td>3.648541</td>\n",
              "      <td>0.561063</td>\n",
              "      <td>0.731504</td>\n",
              "      <td>0.459332</td>\n",
              "      <td>0.510561</td>\n",
              "    </tr>\n",
              "    <tr>\n",
              "      <th>std_fit_time</th>\n",
              "      <td>0.342451</td>\n",
              "      <td>0.304458</td>\n",
              "      <td>0.365455</td>\n",
              "      <td>0.749941</td>\n",
              "      <td>0.026915</td>\n",
              "      <td>0.029066</td>\n",
              "      <td>0.010341</td>\n",
              "      <td>0.016998</td>\n",
              "      <td>0.007212</td>\n",
              "      <td>0.011399</td>\n",
              "    </tr>\n",
              "    <tr>\n",
              "      <th>mean_score_time</th>\n",
              "      <td>0.854819</td>\n",
              "      <td>1.410139</td>\n",
              "      <td>0.85649</td>\n",
              "      <td>0.469353</td>\n",
              "      <td>0.389706</td>\n",
              "      <td>0.180437</td>\n",
              "      <td>0.0</td>\n",
              "      <td>0.0</td>\n",
              "      <td>0.0</td>\n",
              "      <td>0.0</td>\n",
              "    </tr>\n",
              "    <tr>\n",
              "      <th>std_score_time</th>\n",
              "      <td>0.089376</td>\n",
              "      <td>0.341712</td>\n",
              "      <td>0.048659</td>\n",
              "      <td>0.033111</td>\n",
              "      <td>0.009608</td>\n",
              "      <td>0.025762</td>\n",
              "      <td>0.0</td>\n",
              "      <td>0.0</td>\n",
              "      <td>0.0</td>\n",
              "      <td>0.0</td>\n",
              "    </tr>\n",
              "    <tr>\n",
              "      <th>param_randomforestclassifier__criterion</th>\n",
              "      <td>gini</td>\n",
              "      <td>gini</td>\n",
              "      <td>gini</td>\n",
              "      <td>entropy</td>\n",
              "      <td>entropy</td>\n",
              "      <td>gini</td>\n",
              "      <td>log_loss</td>\n",
              "      <td>log_loss</td>\n",
              "      <td>log_loss</td>\n",
              "      <td>log_loss</td>\n",
              "    </tr>\n",
              "    <tr>\n",
              "      <th>param_randomforestclassifier__max_depth</th>\n",
              "      <td>75</td>\n",
              "      <td>26</td>\n",
              "      <td>78</td>\n",
              "      <td>11</td>\n",
              "      <td>40</td>\n",
              "      <td>85</td>\n",
              "      <td>54</td>\n",
              "      <td>61</td>\n",
              "      <td>64</td>\n",
              "      <td>66</td>\n",
              "    </tr>\n",
              "    <tr>\n",
              "      <th>param_randomforestclassifier__max_features</th>\n",
              "      <td>None</td>\n",
              "      <td>None</td>\n",
              "      <td>log2</td>\n",
              "      <td>log2</td>\n",
              "      <td>log2</td>\n",
              "      <td>None</td>\n",
              "      <td>sqrt</td>\n",
              "      <td>None</td>\n",
              "      <td>log2</td>\n",
              "      <td>sqrt</td>\n",
              "    </tr>\n",
              "    <tr>\n",
              "      <th>param_randomforestclassifier__min_samples_leaf</th>\n",
              "      <td>27</td>\n",
              "      <td>31</td>\n",
              "      <td>31</td>\n",
              "      <td>62</td>\n",
              "      <td>73</td>\n",
              "      <td>84</td>\n",
              "      <td>24</td>\n",
              "      <td>51</td>\n",
              "      <td>56</td>\n",
              "      <td>12</td>\n",
              "    </tr>\n",
              "    <tr>\n",
              "      <th>param_randomforestclassifier__min_samples_split</th>\n",
              "      <td>13</td>\n",
              "      <td>62</td>\n",
              "      <td>98</td>\n",
              "      <td>11</td>\n",
              "      <td>69</td>\n",
              "      <td>84</td>\n",
              "      <td>81</td>\n",
              "      <td>69</td>\n",
              "      <td>71</td>\n",
              "      <td>60</td>\n",
              "    </tr>\n",
              "    <tr>\n",
              "      <th>param_randomforestclassifier__n_estimators</th>\n",
              "      <td>610</td>\n",
              "      <td>779</td>\n",
              "      <td>570</td>\n",
              "      <td>349</td>\n",
              "      <td>286</td>\n",
              "      <td>97</td>\n",
              "      <td>710</td>\n",
              "      <td>985</td>\n",
              "      <td>572</td>\n",
              "      <td>656</td>\n",
              "    </tr>\n",
              "    <tr>\n",
              "      <th>params</th>\n",
              "      <td>{'randomforestclassifier__criterion': 'gini', ...</td>\n",
              "      <td>{'randomforestclassifier__criterion': 'gini', ...</td>\n",
              "      <td>{'randomforestclassifier__criterion': 'gini', ...</td>\n",
              "      <td>{'randomforestclassifier__criterion': 'entropy...</td>\n",
              "      <td>{'randomforestclassifier__criterion': 'entropy...</td>\n",
              "      <td>{'randomforestclassifier__criterion': 'gini', ...</td>\n",
              "      <td>{'randomforestclassifier__criterion': 'log_los...</td>\n",
              "      <td>{'randomforestclassifier__criterion': 'log_los...</td>\n",
              "      <td>{'randomforestclassifier__criterion': 'log_los...</td>\n",
              "      <td>{'randomforestclassifier__criterion': 'log_los...</td>\n",
              "    </tr>\n",
              "    <tr>\n",
              "      <th>split0_test_score</th>\n",
              "      <td>0.880329</td>\n",
              "      <td>0.874219</td>\n",
              "      <td>0.861975</td>\n",
              "      <td>0.836096</td>\n",
              "      <td>0.826688</td>\n",
              "      <td>0.820472</td>\n",
              "      <td>NaN</td>\n",
              "      <td>NaN</td>\n",
              "      <td>NaN</td>\n",
              "      <td>NaN</td>\n",
              "    </tr>\n",
              "    <tr>\n",
              "      <th>split1_test_score</th>\n",
              "      <td>0.894746</td>\n",
              "      <td>0.890458</td>\n",
              "      <td>0.877367</td>\n",
              "      <td>0.845361</td>\n",
              "      <td>0.842261</td>\n",
              "      <td>0.833627</td>\n",
              "      <td>NaN</td>\n",
              "      <td>NaN</td>\n",
              "      <td>NaN</td>\n",
              "      <td>NaN</td>\n",
              "    </tr>\n",
              "    <tr>\n",
              "      <th>split2_test_score</th>\n",
              "      <td>0.892908</td>\n",
              "      <td>0.887887</td>\n",
              "      <td>0.87795</td>\n",
              "      <td>0.850898</td>\n",
              "      <td>0.844977</td>\n",
              "      <td>0.825354</td>\n",
              "      <td>NaN</td>\n",
              "      <td>NaN</td>\n",
              "      <td>NaN</td>\n",
              "      <td>NaN</td>\n",
              "    </tr>\n",
              "    <tr>\n",
              "      <th>mean_test_score</th>\n",
              "      <td>0.889327</td>\n",
              "      <td>0.884188</td>\n",
              "      <td>0.872431</td>\n",
              "      <td>0.844118</td>\n",
              "      <td>0.837975</td>\n",
              "      <td>0.826484</td>\n",
              "      <td>NaN</td>\n",
              "      <td>NaN</td>\n",
              "      <td>NaN</td>\n",
              "      <td>NaN</td>\n",
              "    </tr>\n",
              "    <tr>\n",
              "      <th>std_test_score</th>\n",
              "      <td>0.006407</td>\n",
              "      <td>0.007127</td>\n",
              "      <td>0.007397</td>\n",
              "      <td>0.006106</td>\n",
              "      <td>0.008058</td>\n",
              "      <td>0.00543</td>\n",
              "      <td>NaN</td>\n",
              "      <td>NaN</td>\n",
              "      <td>NaN</td>\n",
              "      <td>NaN</td>\n",
              "    </tr>\n",
              "    <tr>\n",
              "      <th>rank_test_score</th>\n",
              "      <td>1</td>\n",
              "      <td>2</td>\n",
              "      <td>3</td>\n",
              "      <td>4</td>\n",
              "      <td>5</td>\n",
              "      <td>6</td>\n",
              "      <td>7</td>\n",
              "      <td>8</td>\n",
              "      <td>9</td>\n",
              "      <td>10</td>\n",
              "    </tr>\n",
              "  </tbody>\n",
              "</table>\n",
              "</div>\n",
              "      <button class=\"colab-df-convert\" onclick=\"convertToInteractive('df-589deba0-71a9-452a-8e5a-d8a76d5075f5')\"\n",
              "              title=\"Convert this dataframe to an interactive table.\"\n",
              "              style=\"display:none;\">\n",
              "        \n",
              "  <svg xmlns=\"http://www.w3.org/2000/svg\" height=\"24px\"viewBox=\"0 0 24 24\"\n",
              "       width=\"24px\">\n",
              "    <path d=\"M0 0h24v24H0V0z\" fill=\"none\"/>\n",
              "    <path d=\"M18.56 5.44l.94 2.06.94-2.06 2.06-.94-2.06-.94-.94-2.06-.94 2.06-2.06.94zm-11 1L8.5 8.5l.94-2.06 2.06-.94-2.06-.94L8.5 2.5l-.94 2.06-2.06.94zm10 10l.94 2.06.94-2.06 2.06-.94-2.06-.94-.94-2.06-.94 2.06-2.06.94z\"/><path d=\"M17.41 7.96l-1.37-1.37c-.4-.4-.92-.59-1.43-.59-.52 0-1.04.2-1.43.59L10.3 9.45l-7.72 7.72c-.78.78-.78 2.05 0 2.83L4 21.41c.39.39.9.59 1.41.59.51 0 1.02-.2 1.41-.59l7.78-7.78 2.81-2.81c.8-.78.8-2.07 0-2.86zM5.41 20L4 18.59l7.72-7.72 1.47 1.35L5.41 20z\"/>\n",
              "  </svg>\n",
              "      </button>\n",
              "      \n",
              "  <style>\n",
              "    .colab-df-container {\n",
              "      display:flex;\n",
              "      flex-wrap:wrap;\n",
              "      gap: 12px;\n",
              "    }\n",
              "\n",
              "    .colab-df-convert {\n",
              "      background-color: #E8F0FE;\n",
              "      border: none;\n",
              "      border-radius: 50%;\n",
              "      cursor: pointer;\n",
              "      display: none;\n",
              "      fill: #1967D2;\n",
              "      height: 32px;\n",
              "      padding: 0 0 0 0;\n",
              "      width: 32px;\n",
              "    }\n",
              "\n",
              "    .colab-df-convert:hover {\n",
              "      background-color: #E2EBFA;\n",
              "      box-shadow: 0px 1px 2px rgba(60, 64, 67, 0.3), 0px 1px 3px 1px rgba(60, 64, 67, 0.15);\n",
              "      fill: #174EA6;\n",
              "    }\n",
              "\n",
              "    [theme=dark] .colab-df-convert {\n",
              "      background-color: #3B4455;\n",
              "      fill: #D2E3FC;\n",
              "    }\n",
              "\n",
              "    [theme=dark] .colab-df-convert:hover {\n",
              "      background-color: #434B5C;\n",
              "      box-shadow: 0px 1px 3px 1px rgba(0, 0, 0, 0.15);\n",
              "      filter: drop-shadow(0px 1px 2px rgba(0, 0, 0, 0.3));\n",
              "      fill: #FFFFFF;\n",
              "    }\n",
              "  </style>\n",
              "\n",
              "      <script>\n",
              "        const buttonEl =\n",
              "          document.querySelector('#df-589deba0-71a9-452a-8e5a-d8a76d5075f5 button.colab-df-convert');\n",
              "        buttonEl.style.display =\n",
              "          google.colab.kernel.accessAllowed ? 'block' : 'none';\n",
              "\n",
              "        async function convertToInteractive(key) {\n",
              "          const element = document.querySelector('#df-589deba0-71a9-452a-8e5a-d8a76d5075f5');\n",
              "          const dataTable =\n",
              "            await google.colab.kernel.invokeFunction('convertToInteractive',\n",
              "                                                     [key], {});\n",
              "          if (!dataTable) return;\n",
              "\n",
              "          const docLinkHtml = 'Like what you see? Visit the ' +\n",
              "            '<a target=\"_blank\" href=https://colab.research.google.com/notebooks/data_table.ipynb>data table notebook</a>'\n",
              "            + ' to learn more about interactive tables.';\n",
              "          element.innerHTML = '';\n",
              "          dataTable['output_type'] = 'display_data';\n",
              "          await google.colab.output.renderOutput(dataTable, element);\n",
              "          const docLink = document.createElement('div');\n",
              "          docLink.innerHTML = docLinkHtml;\n",
              "          element.appendChild(docLink);\n",
              "        }\n",
              "      </script>\n",
              "    </div>\n",
              "  </div>\n",
              "  "
            ]
          },
          "metadata": {},
          "execution_count": 34
        }
      ]
    },
    {
      "cell_type": "code",
      "source": [
        "best_model_rf1 = clf2.best_estimator_\n",
        "\n",
        "y_pred_train = best_model_rf1.predict(X_train)\n",
        "y_pred_val = best_model_rf1.predict(X_val)\n",
        "\n",
        "print('훈련 정확도: ', accuracy_score(y_train, y_pred_train))\n",
        "print('검증 정확도: ', accuracy_score(y_val, y_pred_val))\n",
        "print(classification_report(y_val, y_pred_val))"
      ],
      "metadata": {
        "id": "mhv0bPrTer1-",
        "colab": {
          "base_uri": "https://localhost:8080/"
        },
        "outputId": "77169eb8-eec9-4809-d2d4-3e00a07612c2"
      },
      "execution_count": 35,
      "outputs": [
        {
          "output_type": "stream",
          "name": "stdout",
          "text": [
            "훈련 정확도:  0.8778323713208988\n",
            "검증 정확도:  0.8143484067925968\n",
            "              precision    recall  f1-score   support\n",
            "\n",
            "           0       0.30      0.40      0.34       636\n",
            "           1       0.91      0.87      0.89      4605\n",
            "\n",
            "    accuracy                           0.81      5241\n",
            "   macro avg       0.61      0.63      0.62      5241\n",
            "weighted avg       0.84      0.81      0.83      5241\n",
            "\n"
          ]
        }
      ]
    },
    {
      "cell_type": "markdown",
      "source": [
        "---\n",
        "### * XGBoost"
      ],
      "metadata": {
        "id": "zfbDA6BWezin"
      }
    },
    {
      "cell_type": "code",
      "source": [
        "pipe = make_pipeline(OrdinalEncoder(),\n",
        "                    XGBClassifier(random_state=42))\n",
        "\n",
        "dist = {\n",
        "    'xgbclassifier__learning_rate' : [0.1, 0.15, 0.2, 0.25, 0.3, 0.35],\n",
        "    'xgbclassifier__n_estimators' : randint(10, 1000),\n",
        "    'xgbclassifier__max_depth' : randint(5, 100),\n",
        "    'xgbclassifier__scale_pos_weight' : [1, 2, 3, 4, 5]\n",
        "}\n",
        "    \n",
        "\n",
        "clf3 = RandomizedSearchCV(pipe,\n",
        "                        param_distributions = dist,\n",
        "                        n_iter = 10,\n",
        "                        cv = 3,\n",
        "                        scoring = 'f1',\n",
        "                        verbose = 1,\n",
        "                        random_state=42,  \n",
        "                        n_jobs = -1)\n",
        "\n",
        "clf3.fit(X_train, y_train)"
      ],
      "metadata": {
        "id": "ykDRoQ9Ke2HO",
        "colab": {
          "base_uri": "https://localhost:8080/"
        },
        "outputId": "6012820e-d8d5-4b0f-8f8f-cba50c782041"
      },
      "execution_count": 36,
      "outputs": [
        {
          "output_type": "stream",
          "name": "stdout",
          "text": [
            "Fitting 3 folds for each of 10 candidates, totalling 30 fits\n"
          ]
        },
        {
          "output_type": "execute_result",
          "data": {
            "text/plain": [
              "RandomizedSearchCV(cv=3,\n",
              "                   estimator=Pipeline(steps=[('ordinalencoder',\n",
              "                                              OrdinalEncoder()),\n",
              "                                             ('xgbclassifier',\n",
              "                                              XGBClassifier(random_state=42))]),\n",
              "                   n_jobs=-1,\n",
              "                   param_distributions={'xgbclassifier__learning_rate': [0.1,\n",
              "                                                                         0.15,\n",
              "                                                                         0.2,\n",
              "                                                                         0.25,\n",
              "                                                                         0.3,\n",
              "                                                                         0.35],\n",
              "                                        'xgbclassifier__max_depth': <scipy.stats._distn_infrastructure.rv_frozen object at 0x7f9825703590>,\n",
              "                                        'xgbclassifier__n_estimators': <scipy.stats._distn_infrastructure.rv_frozen object at 0x7f9825dadbd0>,\n",
              "                                        'xgbclassifier__scale_pos_weight': [1,\n",
              "                                                                            2,\n",
              "                                                                            3,\n",
              "                                                                            4,\n",
              "                                                                            5]},\n",
              "                   random_state=42, scoring='f1', verbose=1)"
            ]
          },
          "metadata": {},
          "execution_count": 36
        }
      ]
    },
    {
      "cell_type": "code",
      "source": [
        "pd.DataFrame(clf3.cv_results_).sort_values(by='rank_test_score').T"
      ],
      "metadata": {
        "id": "J3h-D2Mle3U-",
        "colab": {
          "base_uri": "https://localhost:8080/",
          "height": 601
        },
        "outputId": "7ca851e7-2fb0-4c26-a4ba-1d9ad515333b"
      },
      "execution_count": 37,
      "outputs": [
        {
          "output_type": "execute_result",
          "data": {
            "text/plain": [
              "                                                                                       3  \\\n",
              "mean_fit_time                                                                  16.177539   \n",
              "std_fit_time                                                                    0.186347   \n",
              "mean_score_time                                                                 0.344334   \n",
              "std_score_time                                                                  0.007278   \n",
              "param_xgbclassifier__learning_rate                                                   0.3   \n",
              "param_xgbclassifier__max_depth                                                        28   \n",
              "param_xgbclassifier__n_estimators                                                    140   \n",
              "param_xgbclassifier__scale_pos_weight                                                  5   \n",
              "params                                 {'xgbclassifier__learning_rate': 0.3, 'xgbclas...   \n",
              "split0_test_score                                                                 0.9359   \n",
              "split1_test_score                                                               0.936586   \n",
              "split2_test_score                                                               0.936972   \n",
              "mean_test_score                                                                 0.936486   \n",
              "std_test_score                                                                  0.000443   \n",
              "rank_test_score                                                                        1   \n",
              "\n",
              "                                                                                       6  \\\n",
              "mean_fit_time                                                                  30.060078   \n",
              "std_fit_time                                                                    0.632679   \n",
              "mean_score_time                                                                  0.77519   \n",
              "std_score_time                                                                  0.012661   \n",
              "param_xgbclassifier__learning_rate                                                  0.15   \n",
              "param_xgbclassifier__max_depth                                                        26   \n",
              "param_xgbclassifier__n_estimators                                                    262   \n",
              "param_xgbclassifier__scale_pos_weight                                                  4   \n",
              "params                                 {'xgbclassifier__learning_rate': 0.15, 'xgbcla...   \n",
              "split0_test_score                                                               0.935277   \n",
              "split1_test_score                                                                0.93625   \n",
              "split2_test_score                                                               0.936699   \n",
              "mean_test_score                                                                 0.936075   \n",
              "std_test_score                                                                  0.000594   \n",
              "rank_test_score                                                                        2   \n",
              "\n",
              "                                                                                       7  \\\n",
              "mean_fit_time                                                                  59.239675   \n",
              "std_fit_time                                                                    1.475425   \n",
              "mean_score_time                                                                 1.995388   \n",
              "std_score_time                                                                  0.083479   \n",
              "param_xgbclassifier__learning_rate                                                   0.1   \n",
              "param_xgbclassifier__max_depth                                                        53   \n",
              "param_xgbclassifier__n_estimators                                                    484   \n",
              "param_xgbclassifier__scale_pos_weight                                                  3   \n",
              "params                                 {'xgbclassifier__learning_rate': 0.1, 'xgbclas...   \n",
              "split0_test_score                                                               0.934578   \n",
              "split1_test_score                                                               0.935774   \n",
              "split2_test_score                                                               0.937148   \n",
              "mean_test_score                                                                 0.935833   \n",
              "std_test_score                                                                   0.00105   \n",
              "rank_test_score                                                                        3   \n",
              "\n",
              "                                                                                       5  \\\n",
              "mean_fit_time                                                                  18.754503   \n",
              "std_fit_time                                                                    0.096403   \n",
              "mean_score_time                                                                 0.402762   \n",
              "std_score_time                                                                  0.005942   \n",
              "param_xgbclassifier__learning_rate                                                  0.25   \n",
              "param_xgbclassifier__max_depth                                                        25   \n",
              "param_xgbclassifier__n_estimators                                                    170   \n",
              "param_xgbclassifier__scale_pos_weight                                                  4   \n",
              "params                                 {'xgbclassifier__learning_rate': 0.25, 'xgbcla...   \n",
              "split0_test_score                                                               0.935486   \n",
              "split1_test_score                                                               0.934846   \n",
              "split2_test_score                                                                0.93621   \n",
              "mean_test_score                                                                 0.935514   \n",
              "std_test_score                                                                  0.000557   \n",
              "rank_test_score                                                                        4   \n",
              "\n",
              "                                                                                       2  \\\n",
              "mean_fit_time                                                                  38.047751   \n",
              "std_fit_time                                                                     0.47285   \n",
              "mean_score_time                                                                  1.02172   \n",
              "std_score_time                                                                   0.02796   \n",
              "param_xgbclassifier__learning_rate                                                   0.2   \n",
              "param_xgbclassifier__max_depth                                                        91   \n",
              "param_xgbclassifier__n_estimators                                                    340   \n",
              "param_xgbclassifier__scale_pos_weight                                                  3   \n",
              "params                                 {'xgbclassifier__learning_rate': 0.2, 'xgbclas...   \n",
              "split0_test_score                                                               0.934044   \n",
              "split1_test_score                                                               0.935274   \n",
              "split2_test_score                                                               0.936243   \n",
              "mean_test_score                                                                 0.935187   \n",
              "std_test_score                                                                    0.0009   \n",
              "rank_test_score                                                                        5   \n",
              "\n",
              "                                                                                       8  \\\n",
              "mean_fit_time                                                                   76.06539   \n",
              "std_fit_time                                                                    1.352822   \n",
              "mean_score_time                                                                 2.761367   \n",
              "std_score_time                                                                  0.135736   \n",
              "param_xgbclassifier__learning_rate                                                  0.15   \n",
              "param_xgbclassifier__max_depth                                                        96   \n",
              "param_xgbclassifier__n_estimators                                                    709   \n",
              "param_xgbclassifier__scale_pos_weight                                                  3   \n",
              "params                                 {'xgbclassifier__learning_rate': 0.15, 'xgbcla...   \n",
              "split0_test_score                                                               0.933449   \n",
              "split1_test_score                                                               0.934817   \n",
              "split2_test_score                                                               0.936517   \n",
              "mean_test_score                                                                 0.934927   \n",
              "std_test_score                                                                  0.001255   \n",
              "rank_test_score                                                                        6   \n",
              "\n",
              "                                                                                       0  \\\n",
              "mean_fit_time                                                                  30.827916   \n",
              "std_fit_time                                                                    0.451594   \n",
              "mean_score_time                                                                 0.784762   \n",
              "std_score_time                                                                  0.024752   \n",
              "param_xgbclassifier__learning_rate                                                  0.25   \n",
              "param_xgbclassifier__max_depth                                                        97   \n",
              "param_xgbclassifier__n_estimators                                                    280   \n",
              "param_xgbclassifier__scale_pos_weight                                                  3   \n",
              "params                                 {'xgbclassifier__learning_rate': 0.25, 'xgbcla...   \n",
              "split0_test_score                                                               0.934191   \n",
              "split1_test_score                                                               0.934546   \n",
              "split2_test_score                                                                0.93562   \n",
              "mean_test_score                                                                 0.934786   \n",
              "std_test_score                                                                  0.000608   \n",
              "rank_test_score                                                                        7   \n",
              "\n",
              "                                                                                       4  \\\n",
              "mean_fit_time                                                                  55.371451   \n",
              "std_fit_time                                                                    1.052618   \n",
              "mean_score_time                                                                 1.704086   \n",
              "std_score_time                                                                  0.036264   \n",
              "param_xgbclassifier__learning_rate                                                  0.15   \n",
              "param_xgbclassifier__max_depth                                                        92   \n",
              "param_xgbclassifier__n_estimators                                                    501   \n",
              "param_xgbclassifier__scale_pos_weight                                                  2   \n",
              "params                                 {'xgbclassifier__learning_rate': 0.15, 'xgbcla...   \n",
              "split0_test_score                                                               0.933554   \n",
              "split1_test_score                                                               0.934358   \n",
              "split2_test_score                                                                 0.9363   \n",
              "mean_test_score                                                                 0.934737   \n",
              "std_test_score                                                                  0.001153   \n",
              "rank_test_score                                                                        8   \n",
              "\n",
              "                                                                                       9  \\\n",
              "mean_fit_time                                                                  24.529005   \n",
              "std_fit_time                                                                    2.987323   \n",
              "mean_score_time                                                                 0.562115   \n",
              "std_score_time                                                                  0.061069   \n",
              "param_xgbclassifier__learning_rate                                                  0.25   \n",
              "param_xgbclassifier__max_depth                                                        59   \n",
              "param_xgbclassifier__n_estimators                                                    253   \n",
              "param_xgbclassifier__scale_pos_weight                                                  1   \n",
              "params                                 {'xgbclassifier__learning_rate': 0.25, 'xgbcla...   \n",
              "split0_test_score                                                                0.93147   \n",
              "split1_test_score                                                                0.93347   \n",
              "split2_test_score                                                               0.935177   \n",
              "mean_test_score                                                                 0.933372   \n",
              "std_test_score                                                                  0.001515   \n",
              "rank_test_score                                                                        9   \n",
              "\n",
              "                                                                                       1  \n",
              "mean_fit_time                                                                  55.702305  \n",
              "std_fit_time                                                                    0.541819  \n",
              "mean_score_time                                                                 1.680575  \n",
              "std_score_time                                                                  0.028884  \n",
              "param_xgbclassifier__learning_rate                                                   0.3  \n",
              "param_xgbclassifier__max_depth                                                        25  \n",
              "param_xgbclassifier__n_estimators                                                    624  \n",
              "param_xgbclassifier__scale_pos_weight                                                  2  \n",
              "params                                 {'xgbclassifier__learning_rate': 0.3, 'xgbclas...  \n",
              "split0_test_score                                                               0.931716  \n",
              "split1_test_score                                                               0.933207  \n",
              "split2_test_score                                                               0.934767  \n",
              "mean_test_score                                                                  0.93323  \n",
              "std_test_score                                                                  0.001246  \n",
              "rank_test_score                                                                       10  "
            ],
            "text/html": [
              "\n",
              "  <div id=\"df-5233da2c-66c8-45ef-b5af-377e8ed1782f\">\n",
              "    <div class=\"colab-df-container\">\n",
              "      <div>\n",
              "<style scoped>\n",
              "    .dataframe tbody tr th:only-of-type {\n",
              "        vertical-align: middle;\n",
              "    }\n",
              "\n",
              "    .dataframe tbody tr th {\n",
              "        vertical-align: top;\n",
              "    }\n",
              "\n",
              "    .dataframe thead th {\n",
              "        text-align: right;\n",
              "    }\n",
              "</style>\n",
              "<table border=\"1\" class=\"dataframe\">\n",
              "  <thead>\n",
              "    <tr style=\"text-align: right;\">\n",
              "      <th></th>\n",
              "      <th>3</th>\n",
              "      <th>6</th>\n",
              "      <th>7</th>\n",
              "      <th>5</th>\n",
              "      <th>2</th>\n",
              "      <th>8</th>\n",
              "      <th>0</th>\n",
              "      <th>4</th>\n",
              "      <th>9</th>\n",
              "      <th>1</th>\n",
              "    </tr>\n",
              "  </thead>\n",
              "  <tbody>\n",
              "    <tr>\n",
              "      <th>mean_fit_time</th>\n",
              "      <td>16.177539</td>\n",
              "      <td>30.060078</td>\n",
              "      <td>59.239675</td>\n",
              "      <td>18.754503</td>\n",
              "      <td>38.047751</td>\n",
              "      <td>76.06539</td>\n",
              "      <td>30.827916</td>\n",
              "      <td>55.371451</td>\n",
              "      <td>24.529005</td>\n",
              "      <td>55.702305</td>\n",
              "    </tr>\n",
              "    <tr>\n",
              "      <th>std_fit_time</th>\n",
              "      <td>0.186347</td>\n",
              "      <td>0.632679</td>\n",
              "      <td>1.475425</td>\n",
              "      <td>0.096403</td>\n",
              "      <td>0.47285</td>\n",
              "      <td>1.352822</td>\n",
              "      <td>0.451594</td>\n",
              "      <td>1.052618</td>\n",
              "      <td>2.987323</td>\n",
              "      <td>0.541819</td>\n",
              "    </tr>\n",
              "    <tr>\n",
              "      <th>mean_score_time</th>\n",
              "      <td>0.344334</td>\n",
              "      <td>0.77519</td>\n",
              "      <td>1.995388</td>\n",
              "      <td>0.402762</td>\n",
              "      <td>1.02172</td>\n",
              "      <td>2.761367</td>\n",
              "      <td>0.784762</td>\n",
              "      <td>1.704086</td>\n",
              "      <td>0.562115</td>\n",
              "      <td>1.680575</td>\n",
              "    </tr>\n",
              "    <tr>\n",
              "      <th>std_score_time</th>\n",
              "      <td>0.007278</td>\n",
              "      <td>0.012661</td>\n",
              "      <td>0.083479</td>\n",
              "      <td>0.005942</td>\n",
              "      <td>0.02796</td>\n",
              "      <td>0.135736</td>\n",
              "      <td>0.024752</td>\n",
              "      <td>0.036264</td>\n",
              "      <td>0.061069</td>\n",
              "      <td>0.028884</td>\n",
              "    </tr>\n",
              "    <tr>\n",
              "      <th>param_xgbclassifier__learning_rate</th>\n",
              "      <td>0.3</td>\n",
              "      <td>0.15</td>\n",
              "      <td>0.1</td>\n",
              "      <td>0.25</td>\n",
              "      <td>0.2</td>\n",
              "      <td>0.15</td>\n",
              "      <td>0.25</td>\n",
              "      <td>0.15</td>\n",
              "      <td>0.25</td>\n",
              "      <td>0.3</td>\n",
              "    </tr>\n",
              "    <tr>\n",
              "      <th>param_xgbclassifier__max_depth</th>\n",
              "      <td>28</td>\n",
              "      <td>26</td>\n",
              "      <td>53</td>\n",
              "      <td>25</td>\n",
              "      <td>91</td>\n",
              "      <td>96</td>\n",
              "      <td>97</td>\n",
              "      <td>92</td>\n",
              "      <td>59</td>\n",
              "      <td>25</td>\n",
              "    </tr>\n",
              "    <tr>\n",
              "      <th>param_xgbclassifier__n_estimators</th>\n",
              "      <td>140</td>\n",
              "      <td>262</td>\n",
              "      <td>484</td>\n",
              "      <td>170</td>\n",
              "      <td>340</td>\n",
              "      <td>709</td>\n",
              "      <td>280</td>\n",
              "      <td>501</td>\n",
              "      <td>253</td>\n",
              "      <td>624</td>\n",
              "    </tr>\n",
              "    <tr>\n",
              "      <th>param_xgbclassifier__scale_pos_weight</th>\n",
              "      <td>5</td>\n",
              "      <td>4</td>\n",
              "      <td>3</td>\n",
              "      <td>4</td>\n",
              "      <td>3</td>\n",
              "      <td>3</td>\n",
              "      <td>3</td>\n",
              "      <td>2</td>\n",
              "      <td>1</td>\n",
              "      <td>2</td>\n",
              "    </tr>\n",
              "    <tr>\n",
              "      <th>params</th>\n",
              "      <td>{'xgbclassifier__learning_rate': 0.3, 'xgbclas...</td>\n",
              "      <td>{'xgbclassifier__learning_rate': 0.15, 'xgbcla...</td>\n",
              "      <td>{'xgbclassifier__learning_rate': 0.1, 'xgbclas...</td>\n",
              "      <td>{'xgbclassifier__learning_rate': 0.25, 'xgbcla...</td>\n",
              "      <td>{'xgbclassifier__learning_rate': 0.2, 'xgbclas...</td>\n",
              "      <td>{'xgbclassifier__learning_rate': 0.15, 'xgbcla...</td>\n",
              "      <td>{'xgbclassifier__learning_rate': 0.25, 'xgbcla...</td>\n",
              "      <td>{'xgbclassifier__learning_rate': 0.15, 'xgbcla...</td>\n",
              "      <td>{'xgbclassifier__learning_rate': 0.25, 'xgbcla...</td>\n",
              "      <td>{'xgbclassifier__learning_rate': 0.3, 'xgbclas...</td>\n",
              "    </tr>\n",
              "    <tr>\n",
              "      <th>split0_test_score</th>\n",
              "      <td>0.9359</td>\n",
              "      <td>0.935277</td>\n",
              "      <td>0.934578</td>\n",
              "      <td>0.935486</td>\n",
              "      <td>0.934044</td>\n",
              "      <td>0.933449</td>\n",
              "      <td>0.934191</td>\n",
              "      <td>0.933554</td>\n",
              "      <td>0.93147</td>\n",
              "      <td>0.931716</td>\n",
              "    </tr>\n",
              "    <tr>\n",
              "      <th>split1_test_score</th>\n",
              "      <td>0.936586</td>\n",
              "      <td>0.93625</td>\n",
              "      <td>0.935774</td>\n",
              "      <td>0.934846</td>\n",
              "      <td>0.935274</td>\n",
              "      <td>0.934817</td>\n",
              "      <td>0.934546</td>\n",
              "      <td>0.934358</td>\n",
              "      <td>0.93347</td>\n",
              "      <td>0.933207</td>\n",
              "    </tr>\n",
              "    <tr>\n",
              "      <th>split2_test_score</th>\n",
              "      <td>0.936972</td>\n",
              "      <td>0.936699</td>\n",
              "      <td>0.937148</td>\n",
              "      <td>0.93621</td>\n",
              "      <td>0.936243</td>\n",
              "      <td>0.936517</td>\n",
              "      <td>0.93562</td>\n",
              "      <td>0.9363</td>\n",
              "      <td>0.935177</td>\n",
              "      <td>0.934767</td>\n",
              "    </tr>\n",
              "    <tr>\n",
              "      <th>mean_test_score</th>\n",
              "      <td>0.936486</td>\n",
              "      <td>0.936075</td>\n",
              "      <td>0.935833</td>\n",
              "      <td>0.935514</td>\n",
              "      <td>0.935187</td>\n",
              "      <td>0.934927</td>\n",
              "      <td>0.934786</td>\n",
              "      <td>0.934737</td>\n",
              "      <td>0.933372</td>\n",
              "      <td>0.93323</td>\n",
              "    </tr>\n",
              "    <tr>\n",
              "      <th>std_test_score</th>\n",
              "      <td>0.000443</td>\n",
              "      <td>0.000594</td>\n",
              "      <td>0.00105</td>\n",
              "      <td>0.000557</td>\n",
              "      <td>0.0009</td>\n",
              "      <td>0.001255</td>\n",
              "      <td>0.000608</td>\n",
              "      <td>0.001153</td>\n",
              "      <td>0.001515</td>\n",
              "      <td>0.001246</td>\n",
              "    </tr>\n",
              "    <tr>\n",
              "      <th>rank_test_score</th>\n",
              "      <td>1</td>\n",
              "      <td>2</td>\n",
              "      <td>3</td>\n",
              "      <td>4</td>\n",
              "      <td>5</td>\n",
              "      <td>6</td>\n",
              "      <td>7</td>\n",
              "      <td>8</td>\n",
              "      <td>9</td>\n",
              "      <td>10</td>\n",
              "    </tr>\n",
              "  </tbody>\n",
              "</table>\n",
              "</div>\n",
              "      <button class=\"colab-df-convert\" onclick=\"convertToInteractive('df-5233da2c-66c8-45ef-b5af-377e8ed1782f')\"\n",
              "              title=\"Convert this dataframe to an interactive table.\"\n",
              "              style=\"display:none;\">\n",
              "        \n",
              "  <svg xmlns=\"http://www.w3.org/2000/svg\" height=\"24px\"viewBox=\"0 0 24 24\"\n",
              "       width=\"24px\">\n",
              "    <path d=\"M0 0h24v24H0V0z\" fill=\"none\"/>\n",
              "    <path d=\"M18.56 5.44l.94 2.06.94-2.06 2.06-.94-2.06-.94-.94-2.06-.94 2.06-2.06.94zm-11 1L8.5 8.5l.94-2.06 2.06-.94-2.06-.94L8.5 2.5l-.94 2.06-2.06.94zm10 10l.94 2.06.94-2.06 2.06-.94-2.06-.94-.94-2.06-.94 2.06-2.06.94z\"/><path d=\"M17.41 7.96l-1.37-1.37c-.4-.4-.92-.59-1.43-.59-.52 0-1.04.2-1.43.59L10.3 9.45l-7.72 7.72c-.78.78-.78 2.05 0 2.83L4 21.41c.39.39.9.59 1.41.59.51 0 1.02-.2 1.41-.59l7.78-7.78 2.81-2.81c.8-.78.8-2.07 0-2.86zM5.41 20L4 18.59l7.72-7.72 1.47 1.35L5.41 20z\"/>\n",
              "  </svg>\n",
              "      </button>\n",
              "      \n",
              "  <style>\n",
              "    .colab-df-container {\n",
              "      display:flex;\n",
              "      flex-wrap:wrap;\n",
              "      gap: 12px;\n",
              "    }\n",
              "\n",
              "    .colab-df-convert {\n",
              "      background-color: #E8F0FE;\n",
              "      border: none;\n",
              "      border-radius: 50%;\n",
              "      cursor: pointer;\n",
              "      display: none;\n",
              "      fill: #1967D2;\n",
              "      height: 32px;\n",
              "      padding: 0 0 0 0;\n",
              "      width: 32px;\n",
              "    }\n",
              "\n",
              "    .colab-df-convert:hover {\n",
              "      background-color: #E2EBFA;\n",
              "      box-shadow: 0px 1px 2px rgba(60, 64, 67, 0.3), 0px 1px 3px 1px rgba(60, 64, 67, 0.15);\n",
              "      fill: #174EA6;\n",
              "    }\n",
              "\n",
              "    [theme=dark] .colab-df-convert {\n",
              "      background-color: #3B4455;\n",
              "      fill: #D2E3FC;\n",
              "    }\n",
              "\n",
              "    [theme=dark] .colab-df-convert:hover {\n",
              "      background-color: #434B5C;\n",
              "      box-shadow: 0px 1px 3px 1px rgba(0, 0, 0, 0.15);\n",
              "      filter: drop-shadow(0px 1px 2px rgba(0, 0, 0, 0.3));\n",
              "      fill: #FFFFFF;\n",
              "    }\n",
              "  </style>\n",
              "\n",
              "      <script>\n",
              "        const buttonEl =\n",
              "          document.querySelector('#df-5233da2c-66c8-45ef-b5af-377e8ed1782f button.colab-df-convert');\n",
              "        buttonEl.style.display =\n",
              "          google.colab.kernel.accessAllowed ? 'block' : 'none';\n",
              "\n",
              "        async function convertToInteractive(key) {\n",
              "          const element = document.querySelector('#df-5233da2c-66c8-45ef-b5af-377e8ed1782f');\n",
              "          const dataTable =\n",
              "            await google.colab.kernel.invokeFunction('convertToInteractive',\n",
              "                                                     [key], {});\n",
              "          if (!dataTable) return;\n",
              "\n",
              "          const docLinkHtml = 'Like what you see? Visit the ' +\n",
              "            '<a target=\"_blank\" href=https://colab.research.google.com/notebooks/data_table.ipynb>data table notebook</a>'\n",
              "            + ' to learn more about interactive tables.';\n",
              "          element.innerHTML = '';\n",
              "          dataTable['output_type'] = 'display_data';\n",
              "          await google.colab.output.renderOutput(dataTable, element);\n",
              "          const docLink = document.createElement('div');\n",
              "          docLink.innerHTML = docLinkHtml;\n",
              "          element.appendChild(docLink);\n",
              "        }\n",
              "      </script>\n",
              "    </div>\n",
              "  </div>\n",
              "  "
            ]
          },
          "metadata": {},
          "execution_count": 37
        }
      ]
    },
    {
      "cell_type": "code",
      "source": [
        "best_model_xgb1 = clf3.best_estimator_\n",
        "\n",
        "y_pred_train = best_model_xgb1.predict(X_train)\n",
        "y_pred_val = best_model_xgb1.predict(X_val)\n",
        "\n",
        "print('훈련 정확도: ', accuracy_score(y_train, y_pred_train))\n",
        "print('검증 정확도: ', accuracy_score(y_val, y_pred_val))\n",
        "print(classification_report(y_val, y_pred_val))"
      ],
      "metadata": {
        "id": "9Kpy9rHLe5CX",
        "colab": {
          "base_uri": "https://localhost:8080/"
        },
        "outputId": "efdc1e71-74cb-4d79-f67d-f618ba9a1ea9"
      },
      "execution_count": 38,
      "outputs": [
        {
          "output_type": "stream",
          "name": "stdout",
          "text": [
            "훈련 정확도:  0.9823021514096265\n",
            "검증 정확도:  0.8858996374737645\n",
            "              precision    recall  f1-score   support\n",
            "\n",
            "           0       0.56      0.27      0.36       636\n",
            "           1       0.91      0.97      0.94      4605\n",
            "\n",
            "    accuracy                           0.89      5241\n",
            "   macro avg       0.73      0.62      0.65      5241\n",
            "weighted avg       0.86      0.89      0.87      5241\n",
            "\n"
          ]
        }
      ]
    },
    {
      "cell_type": "markdown",
      "source": [
        "---\n",
        "### * LightGBM"
      ],
      "metadata": {
        "id": "_Crknljye6Bf"
      }
    },
    {
      "cell_type": "code",
      "source": [
        "pipe = make_pipeline(OrdinalEncoder(),\n",
        "                    LGBMClassifier(random_state=42, boost_from_average=False))\n",
        "\n",
        "dist = {\n",
        "    'lgbmclassifier__learning_rate' : [0.1, 0.15, 0.2, 0.25, 0.3, 0.35],\n",
        "    'lgbmclassifier__n_estimators' : randint(10, 1000),\n",
        "    'lgbmclassifier__num_iterations' : randint(50, 500),\n",
        "    'lgbmclassifier__min_data_in_leaf ' : randint(10, 100),\n",
        "    'lgbmclassifier__max_depth' : randint(5, 50),\n",
        "    'lgbmclassifier__scale_pos_weight' : [1, 2, 3, 4, 5]\n",
        "}\n",
        "    \n",
        "\n",
        "clf4 = RandomizedSearchCV(pipe,\n",
        "                        param_distributions = dist,\n",
        "                        n_iter = 10,\n",
        "                        cv = 3,\n",
        "                        scoring = 'f1',\n",
        "                        verbose = 1,\n",
        "                        random_state=42,\n",
        "                        n_jobs = -1)\n",
        "\n",
        "clf4.fit(X_train, y_train)"
      ],
      "metadata": {
        "id": "HzTsF_f1e74_",
        "colab": {
          "base_uri": "https://localhost:8080/"
        },
        "outputId": "a8247a8e-bf39-4310-851e-75eb4bfff41e"
      },
      "execution_count": 39,
      "outputs": [
        {
          "output_type": "stream",
          "name": "stdout",
          "text": [
            "Fitting 3 folds for each of 10 candidates, totalling 30 fits\n"
          ]
        },
        {
          "output_type": "execute_result",
          "data": {
            "text/plain": [
              "RandomizedSearchCV(cv=3,\n",
              "                   estimator=Pipeline(steps=[('ordinalencoder',\n",
              "                                              OrdinalEncoder()),\n",
              "                                             ('lgbmclassifier',\n",
              "                                              LGBMClassifier(boost_from_average=False,\n",
              "                                                             random_state=42))]),\n",
              "                   n_jobs=-1,\n",
              "                   param_distributions={'lgbmclassifier__learning_rate': [0.1,\n",
              "                                                                          0.15,\n",
              "                                                                          0.2,\n",
              "                                                                          0.25,\n",
              "                                                                          0.3,\n",
              "                                                                          0.35],\n",
              "                                        'lgbmclassifier__max_depth': <scipy.stats._distn_infrastructure.rv_frozen object at 0x7f982583c110>,\n",
              "                                        'lgbmclassifier__min_data_in_leaf ': <scipy.stats._distn_infrastructure.rv_frozen object at 0x7f9825c96710>,\n",
              "                                        'lgbmclassifier__n_estimators': <scipy.stats._distn_infrastructure.rv_frozen object at 0x7f9825c96250>,\n",
              "                                        'lgbmclassifier__num_iterations': <scipy.stats._distn_infrastructure.rv_frozen object at 0x7f9825c96290>,\n",
              "                                        'lgbmclassifier__scale_pos_weight': [1,\n",
              "                                                                             2,\n",
              "                                                                             3,\n",
              "                                                                             4,\n",
              "                                                                             5]},\n",
              "                   random_state=42, scoring='f1', verbose=1)"
            ]
          },
          "metadata": {},
          "execution_count": 39
        }
      ]
    },
    {
      "cell_type": "code",
      "source": [
        "pd.DataFrame(clf4.cv_results_).sort_values(by='rank_test_score').T"
      ],
      "metadata": {
        "id": "0KpVb9xIe9lx",
        "colab": {
          "base_uri": "https://localhost:8080/",
          "height": 664
        },
        "outputId": "9e6114fe-d52c-4e02-a68e-210385e914d9"
      },
      "execution_count": 40,
      "outputs": [
        {
          "output_type": "execute_result",
          "data": {
            "text/plain": [
              "                                                                                         9  \\\n",
              "mean_fit_time                                                                     1.376756   \n",
              "std_fit_time                                                                      0.277019   \n",
              "mean_score_time                                                                   0.256958   \n",
              "std_score_time                                                                    0.059678   \n",
              "param_lgbmclassifier__learning_rate                                                   0.15   \n",
              "param_lgbmclassifier__max_depth                                                         13   \n",
              "param_lgbmclassifier__min_data_in_leaf                                                  99   \n",
              "param_lgbmclassifier__n_estimators                                                     574   \n",
              "param_lgbmclassifier__num_iterations                                                   435   \n",
              "param_lgbmclassifier__scale_pos_weight                                                   4   \n",
              "params                                   {'lgbmclassifier__learning_rate': 0.15, 'lgbmc...   \n",
              "split0_test_score                                                                  0.93831   \n",
              "split1_test_score                                                                 0.938618   \n",
              "split2_test_score                                                                 0.936652   \n",
              "mean_test_score                                                                    0.93786   \n",
              "std_test_score                                                                    0.000863   \n",
              "rank_test_score                                                                          1   \n",
              "\n",
              "                                                                                         3  \\\n",
              "mean_fit_time                                                                     1.569174   \n",
              "std_fit_time                                                                      0.004265   \n",
              "mean_score_time                                                                   0.277981   \n",
              "std_score_time                                                                    0.038199   \n",
              "param_lgbmclassifier__learning_rate                                                   0.15   \n",
              "param_lgbmclassifier__max_depth                                                         28   \n",
              "param_lgbmclassifier__min_data_in_leaf                                                  39   \n",
              "param_lgbmclassifier__n_estimators                                                     815   \n",
              "param_lgbmclassifier__num_iterations                                                   435   \n",
              "param_lgbmclassifier__scale_pos_weight                                                   4   \n",
              "params                                   {'lgbmclassifier__learning_rate': 0.15, 'lgbmc...   \n",
              "split0_test_score                                                                 0.938108   \n",
              "split1_test_score                                                                 0.938228   \n",
              "split2_test_score                                                                  0.93621   \n",
              "mean_test_score                                                                   0.937515   \n",
              "std_test_score                                                                    0.000924   \n",
              "rank_test_score                                                                          2   \n",
              "\n",
              "                                                                                         2  \\\n",
              "mean_fit_time                                                                     0.766281   \n",
              "std_fit_time                                                                       0.01564   \n",
              "mean_score_time                                                                   0.131009   \n",
              "std_score_time                                                                    0.005746   \n",
              "param_lgbmclassifier__learning_rate                                                    0.3   \n",
              "param_lgbmclassifier__max_depth                                                         40   \n",
              "param_lgbmclassifier__min_data_in_leaf                                                  33   \n",
              "param_lgbmclassifier__n_estimators                                                     140   \n",
              "param_lgbmclassifier__num_iterations                                                   199   \n",
              "param_lgbmclassifier__scale_pos_weight                                                   5   \n",
              "params                                   {'lgbmclassifier__learning_rate': 0.3, 'lgbmcl...   \n",
              "split0_test_score                                                                 0.936521   \n",
              "split1_test_score                                                                  0.93723   \n",
              "split2_test_score                                                                 0.936413   \n",
              "mean_test_score                                                                   0.936721   \n",
              "std_test_score                                                                    0.000362   \n",
              "rank_test_score                                                                          3   \n",
              "\n",
              "                                                                                         1  \\\n",
              "mean_fit_time                                                                      1.33821   \n",
              "std_fit_time                                                                      0.018889   \n",
              "mean_score_time                                                                   0.194661   \n",
              "std_score_time                                                                    0.003579   \n",
              "param_lgbmclassifier__learning_rate                                                    0.3   \n",
              "param_lgbmclassifier__max_depth                                                         43   \n",
              "param_lgbmclassifier__min_data_in_leaf                                                  92   \n",
              "param_lgbmclassifier__n_estimators                                                     224   \n",
              "param_lgbmclassifier__num_iterations                                                   380   \n",
              "param_lgbmclassifier__scale_pos_weight                                                   3   \n",
              "params                                   {'lgbmclassifier__learning_rate': 0.3, 'lgbmcl...   \n",
              "split0_test_score                                                                 0.936997   \n",
              "split1_test_score                                                                 0.936017   \n",
              "split2_test_score                                                                  0.93675   \n",
              "mean_test_score                                                                   0.936588   \n",
              "std_test_score                                                                    0.000416   \n",
              "rank_test_score                                                                          4   \n",
              "\n",
              "                                                                                         6  \\\n",
              "mean_fit_time                                                                     1.770723   \n",
              "std_fit_time                                                                      0.013365   \n",
              "mean_score_time                                                                   0.269839   \n",
              "std_score_time                                                                    0.008724   \n",
              "param_lgbmclassifier__learning_rate                                                   0.25   \n",
              "param_lgbmclassifier__max_depth                                                         20   \n",
              "param_lgbmclassifier__min_data_in_leaf                                                  24   \n",
              "param_lgbmclassifier__n_estimators                                                     199   \n",
              "param_lgbmclassifier__num_iterations                                                   495   \n",
              "param_lgbmclassifier__scale_pos_weight                                                   3   \n",
              "params                                   {'lgbmclassifier__learning_rate': 0.25, 'lgbmc...   \n",
              "split0_test_score                                                                 0.936533   \n",
              "split1_test_score                                                                 0.936034   \n",
              "split2_test_score                                                                 0.937047   \n",
              "mean_test_score                                                                   0.936538   \n",
              "std_test_score                                                                    0.000413   \n",
              "rank_test_score                                                                          5   \n",
              "\n",
              "                                                                                         0  \\\n",
              "mean_fit_time                                                                     0.552665   \n",
              "std_fit_time                                                                      0.001868   \n",
              "mean_score_time                                                                   0.090819   \n",
              "std_score_time                                                                    0.003707   \n",
              "param_lgbmclassifier__learning_rate                                                   0.25   \n",
              "param_lgbmclassifier__max_depth                                                         33   \n",
              "param_lgbmclassifier__min_data_in_leaf                                                  24   \n",
              "param_lgbmclassifier__n_estimators                                                     116   \n",
              "param_lgbmclassifier__num_iterations                                                   121   \n",
              "param_lgbmclassifier__scale_pos_weight                                                   5   \n",
              "params                                   {'lgbmclassifier__learning_rate': 0.25, 'lgbmc...   \n",
              "split0_test_score                                                                 0.937146   \n",
              "split1_test_score                                                                 0.936157   \n",
              "split2_test_score                                                                 0.935965   \n",
              "mean_test_score                                                                   0.936423   \n",
              "std_test_score                                                                    0.000518   \n",
              "rank_test_score                                                                          6   \n",
              "\n",
              "                                                                                         5  \\\n",
              "mean_fit_time                                                                     0.500291   \n",
              "std_fit_time                                                                      0.018195   \n",
              "mean_score_time                                                                   0.077253   \n",
              "std_score_time                                                                    0.001362   \n",
              "param_lgbmclassifier__learning_rate                                                   0.25   \n",
              "param_lgbmclassifier__max_depth                                                         29   \n",
              "param_lgbmclassifier__min_data_in_leaf                                                  58   \n",
              "param_lgbmclassifier__n_estimators                                                     484   \n",
              "param_lgbmclassifier__num_iterations                                                   108   \n",
              "param_lgbmclassifier__scale_pos_weight                                                   2   \n",
              "params                                   {'lgbmclassifier__learning_rate': 0.25, 'lgbmc...   \n",
              "split0_test_score                                                                 0.936311   \n",
              "split1_test_score                                                                   0.9368   \n",
              "split2_test_score                                                                 0.935929   \n",
              "mean_test_score                                                                   0.936347   \n",
              "std_test_score                                                                    0.000357   \n",
              "rank_test_score                                                                          7   \n",
              "\n",
              "                                                                                         4  \\\n",
              "mean_fit_time                                                                     0.371237   \n",
              "std_fit_time                                                                       0.00859   \n",
              "mean_score_time                                                                   0.061928   \n",
              "std_score_time                                                                    0.000836   \n",
              "param_lgbmclassifier__learning_rate                                                    0.3   \n",
              "param_lgbmclassifier__max_depth                                                         37   \n",
              "param_lgbmclassifier__min_data_in_leaf                                                  85   \n",
              "param_lgbmclassifier__n_estimators                                                     323   \n",
              "param_lgbmclassifier__num_iterations                                                    71   \n",
              "param_lgbmclassifier__scale_pos_weight                                                   5   \n",
              "params                                   {'lgbmclassifier__learning_rate': 0.3, 'lgbmcl...   \n",
              "split0_test_score                                                                 0.936196   \n",
              "split1_test_score                                                                 0.936368   \n",
              "split2_test_score                                                                 0.935676   \n",
              "mean_test_score                                                                    0.93608   \n",
              "std_test_score                                                                    0.000294   \n",
              "rank_test_score                                                                          8   \n",
              "\n",
              "                                                                                         8  \\\n",
              "mean_fit_time                                                                     0.373254   \n",
              "std_fit_time                                                                       0.00616   \n",
              "mean_score_time                                                                   0.070871   \n",
              "std_score_time                                                                    0.001795   \n",
              "param_lgbmclassifier__learning_rate                                                   0.15   \n",
              "param_lgbmclassifier__max_depth                                                          8   \n",
              "param_lgbmclassifier__min_data_in_leaf                                                  98   \n",
              "param_lgbmclassifier__n_estimators                                                     325   \n",
              "param_lgbmclassifier__num_iterations                                                    63   \n",
              "param_lgbmclassifier__scale_pos_weight                                                   2   \n",
              "params                                   {'lgbmclassifier__learning_rate': 0.15, 'lgbmc...   \n",
              "split0_test_score                                                                 0.935447   \n",
              "split1_test_score                                                                 0.935459   \n",
              "split2_test_score                                                                 0.935641   \n",
              "mean_test_score                                                                   0.935516   \n",
              "std_test_score                                                                    0.000089   \n",
              "rank_test_score                                                                          9   \n",
              "\n",
              "                                                                                         7  \n",
              "mean_fit_time                                                                     0.385422  \n",
              "std_fit_time                                                                      0.006014  \n",
              "mean_score_time                                                                   0.069342  \n",
              "std_score_time                                                                     0.00133  \n",
              "param_lgbmclassifier__learning_rate                                                   0.25  \n",
              "param_lgbmclassifier__max_depth                                                          7  \n",
              "param_lgbmclassifier__min_data_in_leaf                                                  60  \n",
              "param_lgbmclassifier__n_estimators                                                     656  \n",
              "param_lgbmclassifier__num_iterations                                                    70  \n",
              "param_lgbmclassifier__scale_pos_weight                                                   1  \n",
              "params                                   {'lgbmclassifier__learning_rate': 0.25, 'lgbmc...  \n",
              "split0_test_score                                                                 0.935697  \n",
              "split1_test_score                                                                 0.935788  \n",
              "split2_test_score                                                                 0.934989  \n",
              "mean_test_score                                                                   0.935491  \n",
              "std_test_score                                                                    0.000357  \n",
              "rank_test_score                                                                         10  "
            ],
            "text/html": [
              "\n",
              "  <div id=\"df-d92dd786-e628-401b-9fdd-4c1e10e3aa66\">\n",
              "    <div class=\"colab-df-container\">\n",
              "      <div>\n",
              "<style scoped>\n",
              "    .dataframe tbody tr th:only-of-type {\n",
              "        vertical-align: middle;\n",
              "    }\n",
              "\n",
              "    .dataframe tbody tr th {\n",
              "        vertical-align: top;\n",
              "    }\n",
              "\n",
              "    .dataframe thead th {\n",
              "        text-align: right;\n",
              "    }\n",
              "</style>\n",
              "<table border=\"1\" class=\"dataframe\">\n",
              "  <thead>\n",
              "    <tr style=\"text-align: right;\">\n",
              "      <th></th>\n",
              "      <th>9</th>\n",
              "      <th>3</th>\n",
              "      <th>2</th>\n",
              "      <th>1</th>\n",
              "      <th>6</th>\n",
              "      <th>0</th>\n",
              "      <th>5</th>\n",
              "      <th>4</th>\n",
              "      <th>8</th>\n",
              "      <th>7</th>\n",
              "    </tr>\n",
              "  </thead>\n",
              "  <tbody>\n",
              "    <tr>\n",
              "      <th>mean_fit_time</th>\n",
              "      <td>1.376756</td>\n",
              "      <td>1.569174</td>\n",
              "      <td>0.766281</td>\n",
              "      <td>1.33821</td>\n",
              "      <td>1.770723</td>\n",
              "      <td>0.552665</td>\n",
              "      <td>0.500291</td>\n",
              "      <td>0.371237</td>\n",
              "      <td>0.373254</td>\n",
              "      <td>0.385422</td>\n",
              "    </tr>\n",
              "    <tr>\n",
              "      <th>std_fit_time</th>\n",
              "      <td>0.277019</td>\n",
              "      <td>0.004265</td>\n",
              "      <td>0.01564</td>\n",
              "      <td>0.018889</td>\n",
              "      <td>0.013365</td>\n",
              "      <td>0.001868</td>\n",
              "      <td>0.018195</td>\n",
              "      <td>0.00859</td>\n",
              "      <td>0.00616</td>\n",
              "      <td>0.006014</td>\n",
              "    </tr>\n",
              "    <tr>\n",
              "      <th>mean_score_time</th>\n",
              "      <td>0.256958</td>\n",
              "      <td>0.277981</td>\n",
              "      <td>0.131009</td>\n",
              "      <td>0.194661</td>\n",
              "      <td>0.269839</td>\n",
              "      <td>0.090819</td>\n",
              "      <td>0.077253</td>\n",
              "      <td>0.061928</td>\n",
              "      <td>0.070871</td>\n",
              "      <td>0.069342</td>\n",
              "    </tr>\n",
              "    <tr>\n",
              "      <th>std_score_time</th>\n",
              "      <td>0.059678</td>\n",
              "      <td>0.038199</td>\n",
              "      <td>0.005746</td>\n",
              "      <td>0.003579</td>\n",
              "      <td>0.008724</td>\n",
              "      <td>0.003707</td>\n",
              "      <td>0.001362</td>\n",
              "      <td>0.000836</td>\n",
              "      <td>0.001795</td>\n",
              "      <td>0.00133</td>\n",
              "    </tr>\n",
              "    <tr>\n",
              "      <th>param_lgbmclassifier__learning_rate</th>\n",
              "      <td>0.15</td>\n",
              "      <td>0.15</td>\n",
              "      <td>0.3</td>\n",
              "      <td>0.3</td>\n",
              "      <td>0.25</td>\n",
              "      <td>0.25</td>\n",
              "      <td>0.25</td>\n",
              "      <td>0.3</td>\n",
              "      <td>0.15</td>\n",
              "      <td>0.25</td>\n",
              "    </tr>\n",
              "    <tr>\n",
              "      <th>param_lgbmclassifier__max_depth</th>\n",
              "      <td>13</td>\n",
              "      <td>28</td>\n",
              "      <td>40</td>\n",
              "      <td>43</td>\n",
              "      <td>20</td>\n",
              "      <td>33</td>\n",
              "      <td>29</td>\n",
              "      <td>37</td>\n",
              "      <td>8</td>\n",
              "      <td>7</td>\n",
              "    </tr>\n",
              "    <tr>\n",
              "      <th>param_lgbmclassifier__min_data_in_leaf</th>\n",
              "      <td>99</td>\n",
              "      <td>39</td>\n",
              "      <td>33</td>\n",
              "      <td>92</td>\n",
              "      <td>24</td>\n",
              "      <td>24</td>\n",
              "      <td>58</td>\n",
              "      <td>85</td>\n",
              "      <td>98</td>\n",
              "      <td>60</td>\n",
              "    </tr>\n",
              "    <tr>\n",
              "      <th>param_lgbmclassifier__n_estimators</th>\n",
              "      <td>574</td>\n",
              "      <td>815</td>\n",
              "      <td>140</td>\n",
              "      <td>224</td>\n",
              "      <td>199</td>\n",
              "      <td>116</td>\n",
              "      <td>484</td>\n",
              "      <td>323</td>\n",
              "      <td>325</td>\n",
              "      <td>656</td>\n",
              "    </tr>\n",
              "    <tr>\n",
              "      <th>param_lgbmclassifier__num_iterations</th>\n",
              "      <td>435</td>\n",
              "      <td>435</td>\n",
              "      <td>199</td>\n",
              "      <td>380</td>\n",
              "      <td>495</td>\n",
              "      <td>121</td>\n",
              "      <td>108</td>\n",
              "      <td>71</td>\n",
              "      <td>63</td>\n",
              "      <td>70</td>\n",
              "    </tr>\n",
              "    <tr>\n",
              "      <th>param_lgbmclassifier__scale_pos_weight</th>\n",
              "      <td>4</td>\n",
              "      <td>4</td>\n",
              "      <td>5</td>\n",
              "      <td>3</td>\n",
              "      <td>3</td>\n",
              "      <td>5</td>\n",
              "      <td>2</td>\n",
              "      <td>5</td>\n",
              "      <td>2</td>\n",
              "      <td>1</td>\n",
              "    </tr>\n",
              "    <tr>\n",
              "      <th>params</th>\n",
              "      <td>{'lgbmclassifier__learning_rate': 0.15, 'lgbmc...</td>\n",
              "      <td>{'lgbmclassifier__learning_rate': 0.15, 'lgbmc...</td>\n",
              "      <td>{'lgbmclassifier__learning_rate': 0.3, 'lgbmcl...</td>\n",
              "      <td>{'lgbmclassifier__learning_rate': 0.3, 'lgbmcl...</td>\n",
              "      <td>{'lgbmclassifier__learning_rate': 0.25, 'lgbmc...</td>\n",
              "      <td>{'lgbmclassifier__learning_rate': 0.25, 'lgbmc...</td>\n",
              "      <td>{'lgbmclassifier__learning_rate': 0.25, 'lgbmc...</td>\n",
              "      <td>{'lgbmclassifier__learning_rate': 0.3, 'lgbmcl...</td>\n",
              "      <td>{'lgbmclassifier__learning_rate': 0.15, 'lgbmc...</td>\n",
              "      <td>{'lgbmclassifier__learning_rate': 0.25, 'lgbmc...</td>\n",
              "    </tr>\n",
              "    <tr>\n",
              "      <th>split0_test_score</th>\n",
              "      <td>0.93831</td>\n",
              "      <td>0.938108</td>\n",
              "      <td>0.936521</td>\n",
              "      <td>0.936997</td>\n",
              "      <td>0.936533</td>\n",
              "      <td>0.937146</td>\n",
              "      <td>0.936311</td>\n",
              "      <td>0.936196</td>\n",
              "      <td>0.935447</td>\n",
              "      <td>0.935697</td>\n",
              "    </tr>\n",
              "    <tr>\n",
              "      <th>split1_test_score</th>\n",
              "      <td>0.938618</td>\n",
              "      <td>0.938228</td>\n",
              "      <td>0.93723</td>\n",
              "      <td>0.936017</td>\n",
              "      <td>0.936034</td>\n",
              "      <td>0.936157</td>\n",
              "      <td>0.9368</td>\n",
              "      <td>0.936368</td>\n",
              "      <td>0.935459</td>\n",
              "      <td>0.935788</td>\n",
              "    </tr>\n",
              "    <tr>\n",
              "      <th>split2_test_score</th>\n",
              "      <td>0.936652</td>\n",
              "      <td>0.93621</td>\n",
              "      <td>0.936413</td>\n",
              "      <td>0.93675</td>\n",
              "      <td>0.937047</td>\n",
              "      <td>0.935965</td>\n",
              "      <td>0.935929</td>\n",
              "      <td>0.935676</td>\n",
              "      <td>0.935641</td>\n",
              "      <td>0.934989</td>\n",
              "    </tr>\n",
              "    <tr>\n",
              "      <th>mean_test_score</th>\n",
              "      <td>0.93786</td>\n",
              "      <td>0.937515</td>\n",
              "      <td>0.936721</td>\n",
              "      <td>0.936588</td>\n",
              "      <td>0.936538</td>\n",
              "      <td>0.936423</td>\n",
              "      <td>0.936347</td>\n",
              "      <td>0.93608</td>\n",
              "      <td>0.935516</td>\n",
              "      <td>0.935491</td>\n",
              "    </tr>\n",
              "    <tr>\n",
              "      <th>std_test_score</th>\n",
              "      <td>0.000863</td>\n",
              "      <td>0.000924</td>\n",
              "      <td>0.000362</td>\n",
              "      <td>0.000416</td>\n",
              "      <td>0.000413</td>\n",
              "      <td>0.000518</td>\n",
              "      <td>0.000357</td>\n",
              "      <td>0.000294</td>\n",
              "      <td>0.000089</td>\n",
              "      <td>0.000357</td>\n",
              "    </tr>\n",
              "    <tr>\n",
              "      <th>rank_test_score</th>\n",
              "      <td>1</td>\n",
              "      <td>2</td>\n",
              "      <td>3</td>\n",
              "      <td>4</td>\n",
              "      <td>5</td>\n",
              "      <td>6</td>\n",
              "      <td>7</td>\n",
              "      <td>8</td>\n",
              "      <td>9</td>\n",
              "      <td>10</td>\n",
              "    </tr>\n",
              "  </tbody>\n",
              "</table>\n",
              "</div>\n",
              "      <button class=\"colab-df-convert\" onclick=\"convertToInteractive('df-d92dd786-e628-401b-9fdd-4c1e10e3aa66')\"\n",
              "              title=\"Convert this dataframe to an interactive table.\"\n",
              "              style=\"display:none;\">\n",
              "        \n",
              "  <svg xmlns=\"http://www.w3.org/2000/svg\" height=\"24px\"viewBox=\"0 0 24 24\"\n",
              "       width=\"24px\">\n",
              "    <path d=\"M0 0h24v24H0V0z\" fill=\"none\"/>\n",
              "    <path d=\"M18.56 5.44l.94 2.06.94-2.06 2.06-.94-2.06-.94-.94-2.06-.94 2.06-2.06.94zm-11 1L8.5 8.5l.94-2.06 2.06-.94-2.06-.94L8.5 2.5l-.94 2.06-2.06.94zm10 10l.94 2.06.94-2.06 2.06-.94-2.06-.94-.94-2.06-.94 2.06-2.06.94z\"/><path d=\"M17.41 7.96l-1.37-1.37c-.4-.4-.92-.59-1.43-.59-.52 0-1.04.2-1.43.59L10.3 9.45l-7.72 7.72c-.78.78-.78 2.05 0 2.83L4 21.41c.39.39.9.59 1.41.59.51 0 1.02-.2 1.41-.59l7.78-7.78 2.81-2.81c.8-.78.8-2.07 0-2.86zM5.41 20L4 18.59l7.72-7.72 1.47 1.35L5.41 20z\"/>\n",
              "  </svg>\n",
              "      </button>\n",
              "      \n",
              "  <style>\n",
              "    .colab-df-container {\n",
              "      display:flex;\n",
              "      flex-wrap:wrap;\n",
              "      gap: 12px;\n",
              "    }\n",
              "\n",
              "    .colab-df-convert {\n",
              "      background-color: #E8F0FE;\n",
              "      border: none;\n",
              "      border-radius: 50%;\n",
              "      cursor: pointer;\n",
              "      display: none;\n",
              "      fill: #1967D2;\n",
              "      height: 32px;\n",
              "      padding: 0 0 0 0;\n",
              "      width: 32px;\n",
              "    }\n",
              "\n",
              "    .colab-df-convert:hover {\n",
              "      background-color: #E2EBFA;\n",
              "      box-shadow: 0px 1px 2px rgba(60, 64, 67, 0.3), 0px 1px 3px 1px rgba(60, 64, 67, 0.15);\n",
              "      fill: #174EA6;\n",
              "    }\n",
              "\n",
              "    [theme=dark] .colab-df-convert {\n",
              "      background-color: #3B4455;\n",
              "      fill: #D2E3FC;\n",
              "    }\n",
              "\n",
              "    [theme=dark] .colab-df-convert:hover {\n",
              "      background-color: #434B5C;\n",
              "      box-shadow: 0px 1px 3px 1px rgba(0, 0, 0, 0.15);\n",
              "      filter: drop-shadow(0px 1px 2px rgba(0, 0, 0, 0.3));\n",
              "      fill: #FFFFFF;\n",
              "    }\n",
              "  </style>\n",
              "\n",
              "      <script>\n",
              "        const buttonEl =\n",
              "          document.querySelector('#df-d92dd786-e628-401b-9fdd-4c1e10e3aa66 button.colab-df-convert');\n",
              "        buttonEl.style.display =\n",
              "          google.colab.kernel.accessAllowed ? 'block' : 'none';\n",
              "\n",
              "        async function convertToInteractive(key) {\n",
              "          const element = document.querySelector('#df-d92dd786-e628-401b-9fdd-4c1e10e3aa66');\n",
              "          const dataTable =\n",
              "            await google.colab.kernel.invokeFunction('convertToInteractive',\n",
              "                                                     [key], {});\n",
              "          if (!dataTable) return;\n",
              "\n",
              "          const docLinkHtml = 'Like what you see? Visit the ' +\n",
              "            '<a target=\"_blank\" href=https://colab.research.google.com/notebooks/data_table.ipynb>data table notebook</a>'\n",
              "            + ' to learn more about interactive tables.';\n",
              "          element.innerHTML = '';\n",
              "          dataTable['output_type'] = 'display_data';\n",
              "          await google.colab.output.renderOutput(dataTable, element);\n",
              "          const docLink = document.createElement('div');\n",
              "          docLink.innerHTML = docLinkHtml;\n",
              "          element.appendChild(docLink);\n",
              "        }\n",
              "      </script>\n",
              "    </div>\n",
              "  </div>\n",
              "  "
            ]
          },
          "metadata": {},
          "execution_count": 40
        }
      ]
    },
    {
      "cell_type": "code",
      "source": [
        "best_model_lgbm1 = clf4.best_estimator_\n",
        "\n",
        "y_pred_train = best_model_lgbm1.predict(X_train)\n",
        "y_pred_val = best_model_lgbm1.predict(X_val)\n",
        "\n",
        "print('훈련 정확도: ', accuracy_score(y_train, y_pred_train))\n",
        "print('검증 정확도: ', accuracy_score(y_val, y_pred_val))\n",
        "print(classification_report(y_val, y_pred_val))"
      ],
      "metadata": {
        "id": "xCNusWdje_bP",
        "colab": {
          "base_uri": "https://localhost:8080/"
        },
        "outputId": "f40c37c8-a2ed-4f8d-e7a5-eae78fd17470"
      },
      "execution_count": 41,
      "outputs": [
        {
          "output_type": "stream",
          "name": "stdout",
          "text": [
            "훈련 정확도:  0.9151838954348137\n",
            "검증 정확도:  0.8849456210646823\n",
            "              precision    recall  f1-score   support\n",
            "\n",
            "           0       0.63      0.12      0.21       636\n",
            "           1       0.89      0.99      0.94      4605\n",
            "\n",
            "    accuracy                           0.88      5241\n",
            "   macro avg       0.76      0.56      0.57      5241\n",
            "weighted avg       0.86      0.88      0.85      5241\n",
            "\n"
          ]
        }
      ]
    },
    {
      "cell_type": "markdown",
      "source": [
        "XGboost는 과적합이 심하게 나와서 적합한 모델이라고 할 수 없다.  \n",
        "LightGBM도 꽤나 높은 score가 나오는데 데이터 누수가 일어난건 아닌가.. 하는 생각이 들었다.  \n",
        "데이터를 한참 살펴봤지만 잘 모르겠다..  "
      ],
      "metadata": {
        "id": "PBmo8MGtki6g"
      }
    },
    {
      "cell_type": "markdown",
      "source": [
        "---\n",
        "## 오버샘플링 후 모델링"
      ],
      "metadata": {
        "id": "Oi-8wHoed8P9"
      }
    },
    {
      "cell_type": "markdown",
      "source": [
        "#### Data_split"
      ],
      "metadata": {
        "id": "Dmi5RoMhk9Rm"
      }
    },
    {
      "cell_type": "code",
      "source": [
        "# ADASYN 는 숫자형만 받아들이기 때문에 카테고리 형을 인코딩해준다.\n",
        "df1 = df.copy()\n",
        "enc = OrdinalEncoder()\n",
        "enc.fit(df1)\n",
        "df1 = enc.transform(df1)"
      ],
      "metadata": {
        "id": "ZG27EQzXshH5"
      },
      "execution_count": 42,
      "outputs": []
    },
    {
      "cell_type": "code",
      "source": [
        "target = 'OVERDUE'\n",
        "features = df1.drop(columns=target).columns\n",
        "\n",
        "train, test = train_test_split(df1, train_size=0.8, random_state=42,  shuffle=True,  stratify=df[target])\n",
        "train, val = train_test_split(train, train_size=0.8, random_state=42,  shuffle=True, stratify=train[target])\n",
        "\n",
        "X_train = train[features]\n",
        "y_train = train[target]\n",
        "\n",
        "X_val = val[features]\n",
        "y_val = val[target]\n",
        "\n",
        "X_test = test[features]\n",
        "y_test = test[target]"
      ],
      "metadata": {
        "id": "ZjI7HvU_k3mX"
      },
      "execution_count": 43,
      "outputs": []
    },
    {
      "cell_type": "markdown",
      "source": [
        "#### ADASYN을 통해 over-sampling"
      ],
      "metadata": {
        "id": "2g73oRPolC_B"
      }
    },
    {
      "cell_type": "code",
      "source": [
        "# ADASYN을 통해 over-sampling\n",
        "sampling = ADASYN()\n",
        "\n",
        "X_train_sm, y_train_sm = sampling.fit_resample(X_train, y_train)\n",
        "X_val_sm, y_val_sm = sampling.fit_resample(X_val, y_val)\n",
        "X_test_sm, y_test_sm = sampling.fit_resample(X_test, y_test)"
      ],
      "metadata": {
        "id": "7JKcvs4_puZi"
      },
      "execution_count": 44,
      "outputs": []
    },
    {
      "cell_type": "code",
      "source": [
        "y_train_sm.value_counts(), y_val_sm.value_counts()"
      ],
      "metadata": {
        "id": "j5KAiS_6tOqm",
        "colab": {
          "base_uri": "https://localhost:8080/"
        },
        "outputId": "b5a99c90-1391-405c-87b3-e15eeeab0271"
      },
      "execution_count": 45,
      "outputs": [
        {
          "output_type": "execute_result",
          "data": {
            "text/plain": [
              "(0    18537\n",
              " 1    18417\n",
              " Name: OVERDUE, dtype: int64, 1    4605\n",
              " 0    4440\n",
              " Name: OVERDUE, dtype: int64)"
            ]
          },
          "metadata": {},
          "execution_count": 45
        }
      ]
    },
    {
      "cell_type": "markdown",
      "source": [
        "### * Decision Tree"
      ],
      "metadata": {
        "id": "HXVD1GNquDI-"
      }
    },
    {
      "cell_type": "code",
      "source": [
        "pipe = make_pipeline(DecisionTreeClassifier(random_state=42))\n",
        "\n",
        "dist = {'decisiontreeclassifier__criterion' : ['gini', 'entropy', 'log_loss'],\n",
        "       'decisiontreeclassifier__max_depth' : randint(3, 50),\n",
        "       'decisiontreeclassifier__min_samples_split' : randint(10, 50),\n",
        "       'decisiontreeclassifier__min_samples_leaf' : randint(10, 100),\n",
        "       'decisiontreeclassifier__max_features' : ['sqrt', 'log2', None]}\n",
        "\n",
        "clf1 = RandomizedSearchCV(pipe,\n",
        "                        param_distributions = dist,\n",
        "                        n_iter = 10,\n",
        "                        cv = 3,\n",
        "                        scoring = 'f1',\n",
        "                        verbose = 1,\n",
        "                        random_state=42,\n",
        "                        n_jobs = -1)\n",
        "\n",
        "clf1.fit(X_train_sm, y_train_sm)"
      ],
      "metadata": {
        "id": "2ulDpI_NlBMW",
        "colab": {
          "base_uri": "https://localhost:8080/"
        },
        "outputId": "bec77133-444a-47f7-ecca-a124c2271f47"
      },
      "execution_count": 46,
      "outputs": [
        {
          "output_type": "stream",
          "name": "stdout",
          "text": [
            "Fitting 3 folds for each of 10 candidates, totalling 30 fits\n"
          ]
        },
        {
          "output_type": "execute_result",
          "data": {
            "text/plain": [
              "RandomizedSearchCV(cv=3,\n",
              "                   estimator=Pipeline(steps=[('decisiontreeclassifier',\n",
              "                                              DecisionTreeClassifier(random_state=42))]),\n",
              "                   n_jobs=-1,\n",
              "                   param_distributions={'decisiontreeclassifier__criterion': ['gini',\n",
              "                                                                              'entropy',\n",
              "                                                                              'log_loss'],\n",
              "                                        'decisiontreeclassifier__max_depth': <scipy.stats._distn_infrastructure.rv_frozen object at 0x7f9825f3cad0>,\n",
              "                                        'decisiontreeclassifier__max_features': ['sqrt',\n",
              "                                                                                 'log2',\n",
              "                                                                                 None],\n",
              "                                        'decisiontreeclassifier__min_samples_leaf': <scipy.stats._distn_infrastructure.rv_frozen object at 0x7f9820d5ba10>,\n",
              "                                        'decisiontreeclassifier__min_samples_split': <scipy.stats._distn_infrastructure.rv_frozen object at 0x7f9825d33e50>},\n",
              "                   random_state=42, scoring='f1', verbose=1)"
            ]
          },
          "metadata": {},
          "execution_count": 46
        }
      ]
    },
    {
      "cell_type": "code",
      "source": [
        "best_model_dt_fin = clf1.best_estimator_\n",
        "\n",
        "y_pred_train = best_model_dt_fin.predict(X_train_sm)\n",
        "y_pred_val = best_model_dt_fin.predict(X_val_sm)\n",
        "\n",
        "print('훈련 정확도: ', accuracy_score(y_train_sm, y_pred_train))\n",
        "print('검증 정확도: ', accuracy_score(y_val_sm, y_pred_val))\n",
        "print(classification_report(y_val_sm, y_pred_val))"
      ],
      "metadata": {
        "id": "q2ZE-gigqQOB",
        "colab": {
          "base_uri": "https://localhost:8080/"
        },
        "outputId": "37e80bc6-d08a-4509-ad08-3126c90b2d73"
      },
      "execution_count": 47,
      "outputs": [
        {
          "output_type": "stream",
          "name": "stdout",
          "text": [
            "훈련 정확도:  0.8031606862585917\n",
            "검증 정확도:  0.7320066334991708\n",
            "              precision    recall  f1-score   support\n",
            "\n",
            "           0       0.74      0.70      0.72      4440\n",
            "           1       0.72      0.77      0.74      4605\n",
            "\n",
            "    accuracy                           0.73      9045\n",
            "   macro avg       0.73      0.73      0.73      9045\n",
            "weighted avg       0.73      0.73      0.73      9045\n",
            "\n"
          ]
        }
      ]
    },
    {
      "cell_type": "markdown",
      "source": [
        "### * RandomForest"
      ],
      "metadata": {
        "id": "FudYBnUDuFI9"
      }
    },
    {
      "cell_type": "code",
      "source": [
        "pipe_rf = make_pipeline(RandomForestClassifier(random_state=42))\n",
        "\n",
        "dist = {'randomforestclassifier__criterion' : ['gini', 'entropy', 'log_loss'],\n",
        "        'randomforestclassifier__n_estimators' : randint(10, 500),\n",
        "       'randomforestclassifier__max_depth' : randint(3, 100),\n",
        "       'randomforestclassifier__min_samples_split' : randint(10, 100),\n",
        "       'randomforestclassifier__min_samples_leaf' : randint(10, 100),\n",
        "       'randomforestclassifier__max_features' : ['sqrt', 'log2', None]}\n",
        "\n",
        "clf2 = RandomizedSearchCV(pipe_rf,\n",
        "                        param_distributions = dist,\n",
        "                        n_iter = 10,\n",
        "                        cv = 3,\n",
        "                        scoring = 'f1',\n",
        "                        verbose = 1,\n",
        "                        random_state=42,\n",
        "                        n_jobs = -1)\n",
        "\n",
        "clf2.fit(X_train_sm, y_train_sm)\n",
        "\n"
      ],
      "metadata": {
        "id": "5LMJEQhZuSr7",
        "colab": {
          "base_uri": "https://localhost:8080/"
        },
        "outputId": "e664ad72-7456-4fe7-cb96-c319750873d5"
      },
      "execution_count": 48,
      "outputs": [
        {
          "output_type": "stream",
          "name": "stdout",
          "text": [
            "Fitting 3 folds for each of 10 candidates, totalling 30 fits\n"
          ]
        },
        {
          "output_type": "execute_result",
          "data": {
            "text/plain": [
              "RandomizedSearchCV(cv=3,\n",
              "                   estimator=Pipeline(steps=[('randomforestclassifier',\n",
              "                                              RandomForestClassifier(random_state=42))]),\n",
              "                   n_jobs=-1,\n",
              "                   param_distributions={'randomforestclassifier__criterion': ['gini',\n",
              "                                                                              'entropy',\n",
              "                                                                              'log_loss'],\n",
              "                                        'randomforestclassifier__max_depth': <scipy.stats._distn_infrastructure.rv_frozen object at 0x7f9822626890>,\n",
              "                                        'randomforestclassifier__max_f...\n",
              "                                        'randomforestclassifier__min_samples_leaf': <scipy.stats._distn_infrastructure.rv_frozen object at 0x7f982559a190>,\n",
              "                                        'randomforestclassifier__min_samples_split': <scipy.stats._distn_infrastructure.rv_frozen object at 0x7f9822626490>,\n",
              "                                        'randomforestclassifier__n_estimators': <scipy.stats._distn_infrastructure.rv_frozen object at 0x7f9822622990>},\n",
              "                   random_state=42, scoring='f1', verbose=1)"
            ]
          },
          "metadata": {},
          "execution_count": 48
        }
      ]
    },
    {
      "cell_type": "code",
      "source": [
        "best_model_rf_fin = clf2.best_estimator_\n",
        "\n",
        "y_pred_train = best_model_rf_fin.predict(X_train_sm)\n",
        "y_pred_val = best_model_rf_fin.predict(X_val_sm)\n",
        "\n",
        "print('훈련 정확도: ', accuracy_score(y_train_sm, y_pred_train))\n",
        "print('검증 정확도: ', accuracy_score(y_val_sm, y_pred_val))\n",
        "print(classification_report(y_val_sm, y_pred_val))"
      ],
      "metadata": {
        "id": "epSbVfSiuVhN",
        "colab": {
          "base_uri": "https://localhost:8080/"
        },
        "outputId": "faa82f50-f951-4c95-bff0-ad75840e8283"
      },
      "execution_count": 49,
      "outputs": [
        {
          "output_type": "stream",
          "name": "stdout",
          "text": [
            "훈련 정확도:  0.8333333333333334\n",
            "검증 정확도:  0.7645107794361525\n",
            "              precision    recall  f1-score   support\n",
            "\n",
            "           0       0.79      0.71      0.75      4440\n",
            "           1       0.74      0.82      0.78      4605\n",
            "\n",
            "    accuracy                           0.76      9045\n",
            "   macro avg       0.77      0.76      0.76      9045\n",
            "weighted avg       0.77      0.76      0.76      9045\n",
            "\n"
          ]
        }
      ]
    },
    {
      "cell_type": "markdown",
      "source": [
        "### * XGBoost"
      ],
      "metadata": {
        "id": "_iPBFgv8k86W"
      }
    },
    {
      "cell_type": "code",
      "source": [
        "pipe = make_pipeline(XGBClassifier(random_state=42))\n",
        "\n",
        "dist = {\n",
        "    'xgbclassifier__learning_rate' : [0.1, 0.15, 0.2, 0.25, 0.3, 0.35],\n",
        "    'xgbclassifier__n_estimators' : randint(10, 1000),\n",
        "    'xgbclassifier__max_depth' : randint(5, 100),\n",
        "    'xgbclassifier__scale_pos_weight' : [1, 2, 3, 4, 5]\n",
        "}\n",
        "    \n",
        "\n",
        "clf3 = RandomizedSearchCV(pipe,\n",
        "                        param_distributions = dist,\n",
        "                        n_iter = 10,\n",
        "                        cv = 3,\n",
        "                        scoring = 'f1',\n",
        "                        verbose = 1,\n",
        "                        random_state=42,\n",
        "                        n_jobs = -1)\n",
        "\n",
        "clf3.fit(X_train_sm, y_train_sm)"
      ],
      "metadata": {
        "id": "V8LFOwNguZR2",
        "colab": {
          "base_uri": "https://localhost:8080/"
        },
        "outputId": "93f9c830-78c8-4a88-a6ea-7b819c1ea6af"
      },
      "execution_count": 50,
      "outputs": [
        {
          "output_type": "stream",
          "name": "stdout",
          "text": [
            "Fitting 3 folds for each of 10 candidates, totalling 30 fits\n"
          ]
        },
        {
          "output_type": "execute_result",
          "data": {
            "text/plain": [
              "RandomizedSearchCV(cv=3,\n",
              "                   estimator=Pipeline(steps=[('xgbclassifier',\n",
              "                                              XGBClassifier(random_state=42))]),\n",
              "                   n_jobs=-1,\n",
              "                   param_distributions={'xgbclassifier__learning_rate': [0.1,\n",
              "                                                                         0.15,\n",
              "                                                                         0.2,\n",
              "                                                                         0.25,\n",
              "                                                                         0.3,\n",
              "                                                                         0.35],\n",
              "                                        'xgbclassifier__max_depth': <scipy.stats._distn_infrastructure.rv_frozen object at 0x7f9831dd1d90>,\n",
              "                                        'xgbclassifier__n_estimators': <scipy.stats._distn_infrastructure.rv_frozen object at 0x7f9831dd1a50>,\n",
              "                                        'xgbclassifier__scale_pos_weight': [1,\n",
              "                                                                            2,\n",
              "                                                                            3,\n",
              "                                                                            4,\n",
              "                                                                            5]},\n",
              "                   random_state=42, scoring='f1', verbose=1)"
            ]
          },
          "metadata": {},
          "execution_count": 50
        }
      ]
    },
    {
      "cell_type": "code",
      "source": [
        "best_model_xgb2 = clf3.best_estimator_\n",
        "\n",
        "y_pred_train = best_model_xgb2.predict(X_train_sm)\n",
        "y_pred_val = best_model_xgb2.predict(X_val_sm)\n",
        "\n",
        "print('훈련 정확도: ', accuracy_score(y_train_sm, y_pred_train))\n",
        "print('검증 정확도: ', accuracy_score(y_val_sm, y_pred_val))\n",
        "print(classification_report(y_val_sm, y_pred_val))"
      ],
      "metadata": {
        "id": "F6qhTAKpuZUm",
        "colab": {
          "base_uri": "https://localhost:8080/"
        },
        "outputId": "84bc4bd0-ce1b-4f9b-e00e-860371a31de2"
      },
      "execution_count": 51,
      "outputs": [
        {
          "output_type": "stream",
          "name": "stdout",
          "text": [
            "훈련 정확도:  0.9887157006007469\n",
            "검증 정확도:  0.8027639579878386\n",
            "              precision    recall  f1-score   support\n",
            "\n",
            "           0       0.90      0.68      0.77      4440\n",
            "           1       0.75      0.92      0.83      4605\n",
            "\n",
            "    accuracy                           0.80      9045\n",
            "   macro avg       0.82      0.80      0.80      9045\n",
            "weighted avg       0.82      0.80      0.80      9045\n",
            "\n"
          ]
        }
      ]
    },
    {
      "cell_type": "markdown",
      "source": [
        "### * LightGBM"
      ],
      "metadata": {
        "id": "CqBfPGfvuOIu"
      }
    },
    {
      "cell_type": "code",
      "source": [
        "pipe = make_pipeline(OrdinalEncoder(), LGBMClassifier(random_state=42))\n",
        "\n",
        "dist = {\n",
        "    'lgbmclassifier__learning_rate' : [0.1, 0.15, 0.2, 0.25, 0.3, 0.35],\n",
        "    'lgbmclassifier__n_estimators' : randint(10, 1000),\n",
        "    'lgbmclassifier__num_iterations' : randint(50, 1000), \n",
        "    'lgbmclassifier__min_data_in_leaf ' : randint(10, 100),\n",
        "    'lgbmclassifier__max_depth' : randint(5, 50),\n",
        "    'lgbmclassifier__scale_pos_weight' : [1, 2, 3, 4, 5]\n",
        "}\n",
        "    \n",
        "\n",
        "clf4 = RandomizedSearchCV(pipe,\n",
        "                        param_distributions = dist,\n",
        "                        n_iter = 10,\n",
        "                        cv = 3,\n",
        "                        scoring = 'f1',\n",
        "                        verbose = 1,\n",
        "                        random_state=42,\n",
        "                        n_jobs = -1)\n",
        "\n",
        "clf4.fit(X_train_sm, y_train_sm)"
      ],
      "metadata": {
        "id": "Loc3W4d7ub_3",
        "colab": {
          "base_uri": "https://localhost:8080/"
        },
        "outputId": "a48dcc95-603d-4abf-94d0-0efaf8a2154a"
      },
      "execution_count": 52,
      "outputs": [
        {
          "output_type": "stream",
          "name": "stdout",
          "text": [
            "Fitting 3 folds for each of 10 candidates, totalling 30 fits\n"
          ]
        },
        {
          "output_type": "execute_result",
          "data": {
            "text/plain": [
              "RandomizedSearchCV(cv=3,\n",
              "                   estimator=Pipeline(steps=[('ordinalencoder',\n",
              "                                              OrdinalEncoder()),\n",
              "                                             ('lgbmclassifier',\n",
              "                                              LGBMClassifier(random_state=42))]),\n",
              "                   n_jobs=-1,\n",
              "                   param_distributions={'lgbmclassifier__learning_rate': [0.1,\n",
              "                                                                          0.15,\n",
              "                                                                          0.2,\n",
              "                                                                          0.25,\n",
              "                                                                          0.3,\n",
              "                                                                          0.35],\n",
              "                                        'lgbmclassifier__max_depth': <scipy.stats._distn_infrastructure.rv_frozen object at 0x7f9820d44290>,\n",
              "                                        'lgbmclassifier__min_da...y.stats._distn_infrastructure.rv_frozen object at 0x7f9820d44310>,\n",
              "                                        'lgbmclassifier__n_estimators': <scipy.stats._distn_infrastructure.rv_frozen object at 0x7f9820d39c90>,\n",
              "                                        'lgbmclassifier__num_iterations': <scipy.stats._distn_infrastructure.rv_frozen object at 0x7f9825818850>,\n",
              "                                        'lgbmclassifier__scale_pos_weight': [1,\n",
              "                                                                             2,\n",
              "                                                                             3,\n",
              "                                                                             4,\n",
              "                                                                             5]},\n",
              "                   random_state=42, scoring='f1', verbose=1)"
            ]
          },
          "metadata": {},
          "execution_count": 52
        }
      ]
    },
    {
      "cell_type": "code",
      "source": [
        "best_model_lgbm_fin = clf4.best_estimator_\n",
        "\n",
        "y_pred_train = best_model_lgbm_fin.predict(X_train_sm)\n",
        "y_pred_val = best_model_lgbm_fin.predict(X_val_sm)\n",
        "\n",
        "print('훈련 정확도: ', accuracy_score(y_train_sm, y_pred_train))\n",
        "print('검증 정확도: ', accuracy_score(y_val_sm, y_pred_val))\n",
        "print(classification_report(y_val_sm, y_pred_val))"
      ],
      "metadata": {
        "id": "G2T44hiEucE9",
        "colab": {
          "base_uri": "https://localhost:8080/"
        },
        "outputId": "eb0f35dd-876c-4ba9-aa30-235efebd9069"
      },
      "execution_count": 53,
      "outputs": [
        {
          "output_type": "stream",
          "name": "stdout",
          "text": [
            "훈련 정확도:  0.9695838068950587\n",
            "검증 정확도:  0.7955776672194582\n",
            "              precision    recall  f1-score   support\n",
            "\n",
            "           0       0.91      0.65      0.76      4440\n",
            "           1       0.73      0.94      0.82      4605\n",
            "\n",
            "    accuracy                           0.80      9045\n",
            "   macro avg       0.82      0.79      0.79      9045\n",
            "weighted avg       0.82      0.80      0.79      9045\n",
            "\n"
          ]
        }
      ]
    },
    {
      "cell_type": "markdown",
      "source": [
        "---\n",
        "## 최종모델 선택"
      ],
      "metadata": {
        "id": "_q45XhUmeBPC"
      }
    },
    {
      "cell_type": "markdown",
      "source": [
        "가중치를 준 모델보다는 업샘플링을 통해 불균형을 맞춘 데이터가 좀 더 성능이 좋은 걸로 확인된다.  \n",
        "또한, XGboost와 LightGBM은 과한 과적합이 일어나서 적합하지 않은 모델이다.  \n",
        "\n",
        "업샘플링을 통해 얻은 의사결정트리와 랜덤포레스트 모델의 중에서 최종 모델을 선택해야겠다.  "
      ],
      "metadata": {
        "id": "0OokKP8x0bWy"
      }
    },
    {
      "cell_type": "code",
      "source": [
        "print('DecisionTree f1_score :', best_model_dt_fin.score(X_test_sm, y_test_sm))\n",
        "print('RandomForest f1_score :', best_model_rf_fin.score(X_test_sm, y_test_sm))"
      ],
      "metadata": {
        "id": "RjjUNxsuLKuX",
        "colab": {
          "base_uri": "https://localhost:8080/"
        },
        "outputId": "0506c948-aa8d-47a2-8f4c-7603875d371c"
      },
      "execution_count": 54,
      "outputs": [
        {
          "output_type": "stream",
          "name": "stdout",
          "text": [
            "DecisionTree f1_score : 0.72512184315463\n",
            "RandomForest f1_score : 0.7634913602126717\n"
          ]
        }
      ]
    },
    {
      "cell_type": "markdown",
      "source": [
        "---\n",
        "### 특성중요도"
      ],
      "metadata": {
        "id": "MfK79eAteFZW"
      }
    },
    {
      "cell_type": "code",
      "source": [
        "pipe_rf.fit(X_train_sm, y_train_sm)\n",
        "\n",
        "permuter = PermutationImportance(\n",
        "    pipe_rf.named_steps['randomforestclassifier'],\n",
        "    scoring='f1',\n",
        "    n_iter=10)\n",
        "\n",
        "permuter.fit(X_test_sm, y_test_sm);\n",
        "\n",
        "feature_names = X_test_sm.columns.tolist()\n",
        "eli5.show_weights(permuter, top=None, feature_names=feature_names)"
      ],
      "metadata": {
        "id": "3DYjlt6pCnGr",
        "colab": {
          "base_uri": "https://localhost:8080/",
          "height": 312
        },
        "outputId": "1470538f-3980-4ff6-b463-52e85d2ae8e5"
      },
      "execution_count": 55,
      "outputs": [
        {
          "output_type": "execute_result",
          "data": {
            "text/plain": [
              "<IPython.core.display.HTML object>"
            ],
            "text/html": [
              "\n",
              "    <style>\n",
              "    table.eli5-weights tr:hover {\n",
              "        filter: brightness(85%);\n",
              "    }\n",
              "</style>\n",
              "\n",
              "\n",
              "\n",
              "    \n",
              "\n",
              "    \n",
              "\n",
              "    \n",
              "\n",
              "    \n",
              "\n",
              "    \n",
              "\n",
              "    \n",
              "\n",
              "\n",
              "    \n",
              "\n",
              "    \n",
              "\n",
              "    \n",
              "\n",
              "    \n",
              "\n",
              "    \n",
              "\n",
              "    \n",
              "\n",
              "\n",
              "    \n",
              "\n",
              "    \n",
              "\n",
              "    \n",
              "\n",
              "    \n",
              "\n",
              "    \n",
              "        <table class=\"eli5-weights eli5-feature-importances\" style=\"border-collapse: collapse; border: none; margin-top: 0em; table-layout: auto;\">\n",
              "    <thead>\n",
              "    <tr style=\"border: none;\">\n",
              "        <th style=\"padding: 0 1em 0 0.5em; text-align: right; border: none;\">Weight</th>\n",
              "        <th style=\"padding: 0 0.5em 0 0.5em; text-align: left; border: none;\">Feature</th>\n",
              "    </tr>\n",
              "    </thead>\n",
              "    <tbody>\n",
              "    \n",
              "        <tr style=\"background-color: hsl(120, 100.00%, 80.00%); border: none;\">\n",
              "            <td style=\"padding: 0 1em 0 0.5em; text-align: right; border: none;\">\n",
              "                0.0586\n",
              "                \n",
              "                    &plusmn; 0.0030\n",
              "                \n",
              "            </td>\n",
              "            <td style=\"padding: 0 0.5em 0 0.5em; text-align: left; border: none;\">\n",
              "                OWN_CAR\n",
              "            </td>\n",
              "        </tr>\n",
              "    \n",
              "        <tr style=\"background-color: hsl(120, 100.00%, 80.02%); border: none;\">\n",
              "            <td style=\"padding: 0 1em 0 0.5em; text-align: right; border: none;\">\n",
              "                0.0585\n",
              "                \n",
              "                    &plusmn; 0.0057\n",
              "                \n",
              "            </td>\n",
              "            <td style=\"padding: 0 0.5em 0 0.5em; text-align: left; border: none;\">\n",
              "                GENDER\n",
              "            </td>\n",
              "        </tr>\n",
              "    \n",
              "        <tr style=\"background-color: hsl(120, 100.00%, 80.71%); border: none;\">\n",
              "            <td style=\"padding: 0 1em 0 0.5em; text-align: right; border: none;\">\n",
              "                0.0556\n",
              "                \n",
              "                    &plusmn; 0.0015\n",
              "                \n",
              "            </td>\n",
              "            <td style=\"padding: 0 0.5em 0 0.5em; text-align: left; border: none;\">\n",
              "                FAMILY_STATUS\n",
              "            </td>\n",
              "        </tr>\n",
              "    \n",
              "        <tr style=\"background-color: hsl(120, 100.00%, 80.73%); border: none;\">\n",
              "            <td style=\"padding: 0 1em 0 0.5em; text-align: right; border: none;\">\n",
              "                0.0556\n",
              "                \n",
              "                    &plusmn; 0.0038\n",
              "                \n",
              "            </td>\n",
              "            <td style=\"padding: 0 0.5em 0 0.5em; text-align: left; border: none;\">\n",
              "                FAM_MEMBERS\n",
              "            </td>\n",
              "        </tr>\n",
              "    \n",
              "        <tr style=\"background-color: hsl(120, 100.00%, 82.05%); border: none;\">\n",
              "            <td style=\"padding: 0 1em 0 0.5em; text-align: right; border: none;\">\n",
              "                0.0502\n",
              "                \n",
              "                    &plusmn; 0.0052\n",
              "                \n",
              "            </td>\n",
              "            <td style=\"padding: 0 0.5em 0 0.5em; text-align: left; border: none;\">\n",
              "                OWN_REALITY\n",
              "            </td>\n",
              "        </tr>\n",
              "    \n",
              "        <tr style=\"background-color: hsl(120, 100.00%, 83.07%); border: none;\">\n",
              "            <td style=\"padding: 0 1em 0 0.5em; text-align: right; border: none;\">\n",
              "                0.0462\n",
              "                \n",
              "                    &plusmn; 0.0035\n",
              "                \n",
              "            </td>\n",
              "            <td style=\"padding: 0 0.5em 0 0.5em; text-align: left; border: none;\">\n",
              "                AGE\n",
              "            </td>\n",
              "        </tr>\n",
              "    \n",
              "        <tr style=\"background-color: hsl(120, 100.00%, 86.86%); border: none;\">\n",
              "            <td style=\"padding: 0 1em 0 0.5em; text-align: right; border: none;\">\n",
              "                0.0321\n",
              "                \n",
              "                    &plusmn; 0.0036\n",
              "                \n",
              "            </td>\n",
              "            <td style=\"padding: 0 0.5em 0 0.5em; text-align: left; border: none;\">\n",
              "                OCCUPATION\n",
              "            </td>\n",
              "        </tr>\n",
              "    \n",
              "        <tr style=\"background-color: hsl(120, 100.00%, 87.15%); border: none;\">\n",
              "            <td style=\"padding: 0 1em 0 0.5em; text-align: right; border: none;\">\n",
              "                0.0311\n",
              "                \n",
              "                    &plusmn; 0.0030\n",
              "                \n",
              "            </td>\n",
              "            <td style=\"padding: 0 0.5em 0 0.5em; text-align: left; border: none;\">\n",
              "                WORK_PHONE\n",
              "            </td>\n",
              "        </tr>\n",
              "    \n",
              "        <tr style=\"background-color: hsl(120, 100.00%, 87.30%); border: none;\">\n",
              "            <td style=\"padding: 0 1em 0 0.5em; text-align: right; border: none;\">\n",
              "                0.0306\n",
              "                \n",
              "                    &plusmn; 0.0026\n",
              "                \n",
              "            </td>\n",
              "            <td style=\"padding: 0 0.5em 0 0.5em; text-align: left; border: none;\">\n",
              "                TOTAL_INCOME\n",
              "            </td>\n",
              "        </tr>\n",
              "    \n",
              "        <tr style=\"background-color: hsl(120, 100.00%, 87.50%); border: none;\">\n",
              "            <td style=\"padding: 0 1em 0 0.5em; text-align: right; border: none;\">\n",
              "                0.0300\n",
              "                \n",
              "                    &plusmn; 0.0030\n",
              "                \n",
              "            </td>\n",
              "            <td style=\"padding: 0 0.5em 0 0.5em; text-align: left; border: none;\">\n",
              "                INCOME_TYPE\n",
              "            </td>\n",
              "        </tr>\n",
              "    \n",
              "        <tr style=\"background-color: hsl(120, 100.00%, 87.60%); border: none;\">\n",
              "            <td style=\"padding: 0 1em 0 0.5em; text-align: right; border: none;\">\n",
              "                0.0296\n",
              "                \n",
              "                    &plusmn; 0.0028\n",
              "                \n",
              "            </td>\n",
              "            <td style=\"padding: 0 0.5em 0 0.5em; text-align: left; border: none;\">\n",
              "                PHONE\n",
              "            </td>\n",
              "        </tr>\n",
              "    \n",
              "        <tr style=\"background-color: hsl(120, 100.00%, 89.88%); border: none;\">\n",
              "            <td style=\"padding: 0 1em 0 0.5em; text-align: right; border: none;\">\n",
              "                0.0221\n",
              "                \n",
              "                    &plusmn; 0.0031\n",
              "                \n",
              "            </td>\n",
              "            <td style=\"padding: 0 0.5em 0 0.5em; text-align: left; border: none;\">\n",
              "                WORKING_YEAR\n",
              "            </td>\n",
              "        </tr>\n",
              "    \n",
              "        <tr style=\"background-color: hsl(120, 100.00%, 90.05%); border: none;\">\n",
              "            <td style=\"padding: 0 1em 0 0.5em; text-align: right; border: none;\">\n",
              "                0.0216\n",
              "                \n",
              "                    &plusmn; 0.0018\n",
              "                \n",
              "            </td>\n",
              "            <td style=\"padding: 0 0.5em 0 0.5em; text-align: left; border: none;\">\n",
              "                EDUCATION\n",
              "            </td>\n",
              "        </tr>\n",
              "    \n",
              "        <tr style=\"background-color: hsl(120, 100.00%, 92.35%); border: none;\">\n",
              "            <td style=\"padding: 0 1em 0 0.5em; text-align: right; border: none;\">\n",
              "                0.0148\n",
              "                \n",
              "                    &plusmn; 0.0018\n",
              "                \n",
              "            </td>\n",
              "            <td style=\"padding: 0 0.5em 0 0.5em; text-align: left; border: none;\">\n",
              "                HOUSING_TYPE\n",
              "            </td>\n",
              "        </tr>\n",
              "    \n",
              "        <tr style=\"background-color: hsl(120, 100.00%, 93.38%); border: none;\">\n",
              "            <td style=\"padding: 0 1em 0 0.5em; text-align: right; border: none;\">\n",
              "                0.0121\n",
              "                \n",
              "                    &plusmn; 0.0027\n",
              "                \n",
              "            </td>\n",
              "            <td style=\"padding: 0 0.5em 0 0.5em; text-align: left; border: none;\">\n",
              "                USE_MONTH\n",
              "            </td>\n",
              "        </tr>\n",
              "    \n",
              "        <tr style=\"background-color: hsl(120, 100.00%, 93.70%); border: none;\">\n",
              "            <td style=\"padding: 0 1em 0 0.5em; text-align: right; border: none;\">\n",
              "                0.0112\n",
              "                \n",
              "                    &plusmn; 0.0017\n",
              "                \n",
              "            </td>\n",
              "            <td style=\"padding: 0 0.5em 0 0.5em; text-align: left; border: none;\">\n",
              "                EMAIL\n",
              "            </td>\n",
              "        </tr>\n",
              "    \n",
              "    \n",
              "    </tbody>\n",
              "</table>\n",
              "    \n",
              "\n",
              "    \n",
              "\n",
              "\n",
              "    \n",
              "\n",
              "    \n",
              "\n",
              "    \n",
              "\n",
              "    \n",
              "\n",
              "    \n",
              "\n",
              "    \n",
              "\n",
              "\n",
              "\n"
            ]
          },
          "metadata": {},
          "execution_count": 55
        }
      ]
    },
    {
      "cell_type": "code",
      "source": [
        "importances = pd.DataFrame({'feature' : X_test_sm.columns,\n",
        "                            'importance' : permuter.feature_importances_}).sort_values('importance', ascending=False)\n",
        "\n",
        "sns.barplot(x='feature', y='importance', data=importances)\n",
        "plt.xticks(rotation=45);"
      ],
      "metadata": {
        "id": "wgXP8g_zCoNv",
        "colab": {
          "base_uri": "https://localhost:8080/",
          "height": 551
        },
        "outputId": "91c47b81-bc8a-4187-9d69-e91a2e5a32d1"
      },
      "execution_count": 56,
      "outputs": [
        {
          "output_type": "display_data",
          "data": {
            "text/plain": [
              "<Figure size 1080x576 with 1 Axes>"
            ],
            "image/png": "[encoded data removed]"
          },
          "metadata": {
            "needs_background": "light"
          }
        }
      ]
    },
    {
      "cell_type": "markdown",
      "source": [
        "의외의 결과이다.  \n",
        " "
      ],
      "metadata": {
        "id": "fKlf6Rol4r_M"
      }
    },
    {
      "cell_type": "code",
      "source": [
        "# GENDER\n",
        "isolate_income = pdp_isolate(model = best_model_rf_fin,\n",
        "                             dataset = X_test_sm,\n",
        "                             model_features = X_test_sm.columns,\n",
        "                             feature = 'GENDER',\n",
        "                             grid_type='percentile',\n",
        "                             num_grid_points=10\n",
        ")\n",
        "\n",
        "pdp_plot(isolate_income, feature_name = 'GENDER');\n",
        "\n",
        "# 여성일수록 연체가 생길 확률이 높다"
      ],
      "metadata": {
        "colab": {
          "base_uri": "https://localhost:8080/",
          "height": 652
        },
        "id": "YiJ9M2KP6fZ9",
        "outputId": "c60fe851-f97b-4152-ff5b-e22e17b5ecc4"
      },
      "execution_count": 57,
      "outputs": [
        {
          "output_type": "stream",
          "name": "stderr",
          "text": [
            "findfont: Font family ['Arial'] not found. Falling back to DejaVu Sans.\n",
            "findfont: Font family ['Arial'] not found. Falling back to DejaVu Sans.\n",
            "findfont: Font family ['Arial'] not found. Falling back to DejaVu Sans.\n",
            "findfont: Font family ['Arial'] not found. Falling back to DejaVu Sans.\n"
          ]
        },
        {
          "output_type": "display_data",
          "data": {
            "text/plain": [
              "<Figure size 1080x684 with 2 Axes>"
            ],
            "image/png": "[encoded data removed]"
          },
          "metadata": {
            "needs_background": "light"
          }
        }
      ]
    },
    {
      "cell_type": "code",
      "source": [
        "# OWN_CAR\n",
        "isolate_income = pdp_isolate(model = best_model_rf_fin,\n",
        "                             dataset = X_test_sm,\n",
        "                             model_features = X_test_sm.columns,\n",
        "                             feature = 'OWN_CAR',\n",
        "                             grid_type='percentile',\n",
        "                             num_grid_points=10\n",
        ")\n",
        "\n",
        "pdp_plot(isolate_income, feature_name = 'OWN_CAR');\n",
        "\n",
        "# 자차를 가지고 있을 수록 연체 확률이 높다."
      ],
      "metadata": {
        "colab": {
          "base_uri": "https://localhost:8080/",
          "height": 580
        },
        "id": "Jc6aPYpiJeaY",
        "outputId": "efa46ed3-64d7-4f8e-ca7c-85f642ed93ae"
      },
      "execution_count": 58,
      "outputs": [
        {
          "output_type": "display_data",
          "data": {
            "text/plain": [
              "<Figure size 1080x684 with 2 Axes>"
            ],
            "image/png": "[encoded data removed]"
          },
          "metadata": {
            "needs_background": "light"
          }
        }
      ]
    },
    {
      "cell_type": "code",
      "source": [
        "features = ['OWN_CAR', 'OWN_REALITY']\n",
        "\n",
        "interaction = pdp_interact(\n",
        "    model = best_model_rf_fin, \n",
        "    dataset=X_test_sm,\n",
        "    model_features=X_test_sm.columns, \n",
        "    features=features)\n",
        "\n",
        "pdp_interact_plot(interaction, plot_type='grid', \n",
        "                  feature_names=features);"
      ],
      "metadata": {
        "colab": {
          "base_uri": "https://localhost:8080/",
          "height": 582
        },
        "id": "deVVfPTfBmg2",
        "outputId": "d885c9f5-d70f-4fcb-a6b0-ff137ce348ea"
      },
      "execution_count": 63,
      "outputs": [
        {
          "output_type": "display_data",
          "data": {
            "text/plain": [
              "<Figure size 540x684 with 3 Axes>"
            ],
            "image/png": "[encoded data removed]"
          },
          "metadata": {
            "needs_background": "light"
          }
        }
      ]
    },
    {
      "cell_type": "code",
      "source": [
        "features = ['FAMILY_STATUS', 'FAM_MEMBERS']\n",
        "\n",
        "interaction = pdp_interact(\n",
        "    model = best_model_rf_fin, \n",
        "    dataset=X_test_sm,\n",
        "    model_features=X_test_sm.columns, \n",
        "    features=features)\n",
        "\n",
        "pdp_interact_plot(interaction, plot_type='grid', \n",
        "                  feature_names=features);"
      ],
      "metadata": {
        "colab": {
          "base_uri": "https://localhost:8080/",
          "height": 581
        },
        "id": "XqSGsFP3BqiV",
        "outputId": "de8ef7a1-a393-48bf-8d82-c2a58bc57d71"
      },
      "execution_count": 64,
      "outputs": [
        {
          "output_type": "display_data",
          "data": {
            "text/plain": [
              "<Figure size 540x684 with 3 Axes>"
            ],
            "image/png": "[encoded data removed]"
          },
          "metadata": {
            "needs_background": "light"
          }
        }
      ]
    },
    {
      "cell_type": "code",
      "source": [
        "features = ['EDUCATION', 'OCCUPATION']\n",
        "\n",
        "interaction = pdp_interact(\n",
        "    model = best_model_rf_fin, \n",
        "    dataset=X_test_sm,\n",
        "    model_features=X_test_sm.columns, \n",
        "    features=features)\n",
        "\n",
        "pdp_interact_plot(interaction, plot_type='grid', \n",
        "                  feature_names=features);"
      ],
      "metadata": {
        "colab": {
          "base_uri": "https://localhost:8080/",
          "height": 581
        },
        "id": "804Tp6AjEh2_",
        "outputId": "27ae79c2-cc7c-48b7-f397-f86394b32f79"
      },
      "execution_count": 70,
      "outputs": [
        {
          "output_type": "display_data",
          "data": {
            "text/plain": [
              "<Figure size 540x684 with 3 Axes>"
            ],
            "image/png": "[encoded data removed]"
          },
          "metadata": {
            "needs_background": "light"
          }
        }
      ]
    },
    {
      "cell_type": "code",
      "source": [
        "# TOTAL_INCOME\n",
        "isolate_income = pdp_isolate(model = best_model_rf_fin,\n",
        "                             dataset = X_test_sm,\n",
        "                             model_features = X_test_sm.columns,\n",
        "                             feature = 'AGE',\n",
        "                             grid_type='percentile',\n",
        "                             num_grid_points=10\n",
        ")\n",
        "\n",
        "pdp_plot(isolate_income, feature_name = 'AGE');\n",
        "# 나이가 어릴수록 상대적으로 연체에 영향을 줄 확률이 많은 것으로 나타났다."
      ],
      "metadata": {
        "colab": {
          "base_uri": "https://localhost:8080/",
          "height": 578
        },
        "id": "8F_NQSrN5BEU",
        "outputId": "3a46dbc6-1c87-472d-88c6-7a4fcb68f6b5"
      },
      "execution_count": 59,
      "outputs": [
        {
          "output_type": "display_data",
          "data": {
            "text/plain": [
              "<Figure size 1080x684 with 2 Axes>"
            ],
            "image/png": "[encoded data removed]"
          },
          "metadata": {
            "needs_background": "light"
          }
        }
      ]
    },
    {
      "cell_type": "code",
      "source": [
        "features = ['AGE', 'GENDER']\n",
        "\n",
        "interaction = pdp_interact(\n",
        "    model = best_model_rf_fin, \n",
        "    dataset=X_test_sm,\n",
        "    model_features=X_test_sm.columns, \n",
        "    features=features)\n",
        "\n",
        "pdp_interact_plot(interaction, plot_type='grid', \n",
        "                  feature_names=features);"
      ],
      "metadata": {
        "colab": {
          "base_uri": "https://localhost:8080/",
          "height": 599
        },
        "id": "ip7Z4mrMOn1s",
        "outputId": "91871b3d-14d6-406d-a015-4be56024f8e4"
      },
      "execution_count": 60,
      "outputs": [
        {
          "output_type": "stream",
          "name": "stderr",
          "text": [
            "findfont: Font family ['Arial'] not found. Falling back to DejaVu Sans.\n"
          ]
        },
        {
          "output_type": "display_data",
          "data": {
            "text/plain": [
              "<Figure size 540x684 with 3 Axes>"
            ],
            "image/png": "[encoded data removed]"
          },
          "metadata": {
            "needs_background": "light"
          }
        }
      ]
    },
    {
      "cell_type": "markdown",
      "source": [
        "# 결과 해석\n",
        "\n",
        "가설로 설정했던 '나이'는 연체 여부에 연관성이 있음을 알 수 있었다.  \n",
        "특히 20대 여성일수록 크게 나타났으며, 40대 여성에게서도 높은 확률로 연체가 발생함을 확인 할 수 있다.  "
      ],
      "metadata": {
        "id": "2Kpy8mfgORjL"
      }
    }
  ]
}